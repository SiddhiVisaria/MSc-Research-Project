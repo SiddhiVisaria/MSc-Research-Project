{
  "cells": [
    {
      "cell_type": "markdown",
      "metadata": {
        "id": "_Vf0ZProAJqG"
      },
      "source": [
        "## Install Libraries"
      ]
    },
    {
      "cell_type": "code",
      "execution_count": 1,
      "metadata": {
        "colab": {
          "base_uri": "https://localhost:8080/"
        },
        "id": "e5LPl4YEk0jh",
        "outputId": "f64046e9-dd63-4b20-cc09-244b2a658706"
      },
      "outputs": [
        {
          "output_type": "stream",
          "name": "stdout",
          "text": [
            "Looking in indexes: https://pypi.org/simple, https://us-python.pkg.dev/colab-wheels/public/simple/\n",
            "Collecting plot_keras_history\n",
            "  Downloading plot_keras_history-1.1.36.tar.gz (9.1 kB)\n",
            "Requirement already satisfied: matplotlib in /usr/local/lib/python3.7/dist-packages (from plot_keras_history) (3.2.2)\n",
            "Requirement already satisfied: pandas in /usr/local/lib/python3.7/dist-packages (from plot_keras_history) (1.3.5)\n",
            "Requirement already satisfied: scipy in /usr/local/lib/python3.7/dist-packages (from plot_keras_history) (1.7.3)\n",
            "Collecting sanitize_ml_labels>=1.0.33\n",
            "  Downloading sanitize_ml_labels-1.0.43.tar.gz (321 kB)\n",
            "\u001b[K     |████████████████████████████████| 321 kB 4.8 MB/s \n",
            "\u001b[?25hCollecting compress_json\n",
            "  Downloading compress_json-1.0.7.tar.gz (5.4 kB)\n",
            "Requirement already satisfied: python-dateutil>=2.1 in /usr/local/lib/python3.7/dist-packages (from matplotlib->plot_keras_history) (2.8.2)\n",
            "Requirement already satisfied: pyparsing!=2.0.4,!=2.1.2,!=2.1.6,>=2.0.1 in /usr/local/lib/python3.7/dist-packages (from matplotlib->plot_keras_history) (3.0.9)\n",
            "Requirement already satisfied: kiwisolver>=1.0.1 in /usr/local/lib/python3.7/dist-packages (from matplotlib->plot_keras_history) (1.4.4)\n",
            "Requirement already satisfied: numpy>=1.11 in /usr/local/lib/python3.7/dist-packages (from matplotlib->plot_keras_history) (1.21.6)\n",
            "Requirement already satisfied: cycler>=0.10 in /usr/local/lib/python3.7/dist-packages (from matplotlib->plot_keras_history) (0.11.0)\n",
            "Requirement already satisfied: typing-extensions in /usr/local/lib/python3.7/dist-packages (from kiwisolver>=1.0.1->matplotlib->plot_keras_history) (4.1.1)\n",
            "Requirement already satisfied: six>=1.5 in /usr/local/lib/python3.7/dist-packages (from python-dateutil>=2.1->matplotlib->plot_keras_history) (1.15.0)\n",
            "Requirement already satisfied: pytz>=2017.3 in /usr/local/lib/python3.7/dist-packages (from pandas->plot_keras_history) (2022.1)\n",
            "Building wheels for collected packages: plot-keras-history, sanitize-ml-labels, compress-json\n",
            "  Building wheel for plot-keras-history (setup.py) ... \u001b[?25l\u001b[?25hdone\n",
            "  Created wheel for plot-keras-history: filename=plot_keras_history-1.1.36-py3-none-any.whl size=9236 sha256=11515166d0da02a394be09f7013ff501fdab34721fcf4d23e1046ac2c4763330\n",
            "  Stored in directory: /root/.cache/pip/wheels/ca/73/ed/41022b42c1d9ce60a8a2ebb71f042c7f895673760404d39fd7\n",
            "  Building wheel for sanitize-ml-labels (setup.py) ... \u001b[?25l\u001b[?25hdone\n",
            "  Created wheel for sanitize-ml-labels: filename=sanitize_ml_labels-1.0.43-py3-none-any.whl size=319231 sha256=356e7fe9e75412eb8304bb6b03965a53b87f7e8149322d22e65b797f957e419a\n",
            "  Stored in directory: /root/.cache/pip/wheels/71/d5/dd/d4893fffb9dcb9494de70478ab9728ae5d105f7d849a90e81a\n",
            "  Building wheel for compress-json (setup.py) ... \u001b[?25l\u001b[?25hdone\n",
            "  Created wheel for compress-json: filename=compress_json-1.0.7-py3-none-any.whl size=5233 sha256=49a2128965b581c9bf3bdfc5e3e6ca44cc4619f07d5dc4baedd008e7b1e2fc9e\n",
            "  Stored in directory: /root/.cache/pip/wheels/6d/7e/13/0e370d719528969d430498ca952417324595d116776840b279\n",
            "Successfully built plot-keras-history sanitize-ml-labels compress-json\n",
            "Installing collected packages: compress-json, sanitize-ml-labels, plot-keras-history\n",
            "Successfully installed compress-json-1.0.7 plot-keras-history-1.1.36 sanitize-ml-labels-1.0.43\n"
          ]
        }
      ],
      "source": [
        "pip install plot_keras_history"
      ]
    },
    {
      "cell_type": "markdown",
      "metadata": {
        "id": "79HOL5lPBfjm"
      },
      "source": [
        "## Import libraries"
      ]
    },
    {
      "cell_type": "code",
      "execution_count": 2,
      "metadata": {
        "id": "nYyJWgz2k_Si"
      },
      "outputs": [],
      "source": [
        "import numpy as np\n",
        "import pandas as pd\n",
        "import tensorflow as tf\n",
        "import matplotlib.pyplot as plt\n",
        "import os\n",
        "import re\n",
        "\n",
        "from keras.layers import Input, Conv1D, Dense, Embedding, Dropout, Flatten, MaxPooling1D\n",
        "from keras import backend as K\n",
        "from keras.models import Model, Sequential\n",
        "from keras.preprocessing import text, sequence\n",
        "from keras.preprocessing.sequence import pad_sequences\n",
        "from keras.preprocessing.text import Tokenizer\n",
        "from plot_keras_history import plot_history\n",
        "from sklearn.model_selection import train_test_split\n",
        "from IPython.display import SVG\n",
        "from keras.utils import vis_utils\n"
      ]
    },
    {
      "cell_type": "markdown",
      "metadata": {
        "id": "KKErSogHBrnb"
      },
      "source": [
        "## Reading the pre-processed csv file"
      ]
    },
    {
      "cell_type": "code",
      "execution_count": 3,
      "metadata": {
        "colab": {
          "base_uri": "https://localhost:8080/"
        },
        "id": "2b-rP7xlmGY8",
        "outputId": "62a140c9-a44a-444b-cd05-e1f18257d08c"
      },
      "outputs": [
        {
          "output_type": "stream",
          "name": "stdout",
          "text": [
            "Mounted at /content/MyDrive/\n"
          ]
        }
      ],
      "source": [
        "from google.colab import drive\n",
        "drive.mount(\"/content/MyDrive/\")"
      ]
    },
    {
      "cell_type": "code",
      "execution_count": 4,
      "metadata": {
        "colab": {
          "base_uri": "https://localhost:8080/"
        },
        "id": "WxfRaLfRmQdz",
        "outputId": "ffdb4266-9c86-43a9-c789-f743492dbfc5"
      },
      "outputs": [
        {
          "output_type": "execute_result",
          "data": {
            "text/plain": [
              "(50000, 3)"
            ]
          },
          "metadata": {},
          "execution_count": 4
        }
      ],
      "source": [
        "preprocessed_data = pd.read_csv('/content/MyDrive/MyDrive/Project/train-balanced-sarcasm-preprocessed.csv',sep = ',')\n",
        "preprocessed_data.shape"
      ]
    },
    {
      "cell_type": "code",
      "execution_count": 5,
      "metadata": {
        "colab": {
          "base_uri": "https://localhost:8080/"
        },
        "id": "jupoMOtkmk3I",
        "outputId": "8591a183-7bc2-434d-b749-ab17b40fd575"
      },
      "outputs": [
        {
          "output_type": "execute_result",
          "data": {
            "text/plain": [
              "0    25000\n",
              "1    25000\n",
              "Name: label, dtype: int64"
            ]
          },
          "metadata": {},
          "execution_count": 5
        }
      ],
      "source": [
        "preprocessed_data['label'].value_counts()"
      ]
    },
    {
      "cell_type": "markdown",
      "source": [
        "# **Let's perform CNN for 'comment'**"
      ],
      "metadata": {
        "id": "bnBAXcRMQyFq"
      }
    },
    {
      "cell_type": "markdown",
      "metadata": {
        "id": "322onKdfB438"
      },
      "source": [
        "## Reading Inputs for the model"
      ]
    },
    {
      "cell_type": "code",
      "execution_count": null,
      "metadata": {
        "id": "-y1OvWM5mmzA"
      },
      "outputs": [],
      "source": [
        "EMBED_SIZE = 50\n",
        "max_length = 1000\n",
        "VOCAB_SIZE = 10000\n",
        "\n",
        "filters = 32\n",
        "kernel_size = 3\n",
        "hidden_dims = 250"
      ]
    },
    {
      "cell_type": "code",
      "execution_count": null,
      "metadata": {
        "id": "_LLiKJPEmtZa"
      },
      "outputs": [],
      "source": [
        "X_train, X_test, y_train, y_test = train_test_split(preprocessed_data['comment'], preprocessed_data['label'], test_size=0.2, random_state=42)\n",
        "\n",
        "tokenizer = text.Tokenizer(num_words=VOCAB_SIZE)\n",
        "tokenizer.fit_on_texts(X_train)\n",
        "X_train = tokenizer.texts_to_sequences(X_train)\n",
        "X_test = tokenizer.texts_to_sequences(X_test)\n",
        "\n",
        "X_train = sequence.pad_sequences(X_train, maxlen=max_length)\n",
        "X_test = sequence.pad_sequences(X_test, maxlen=max_length)"
      ]
    },
    {
      "cell_type": "markdown",
      "metadata": {
        "id": "1dsN9YATCBM6"
      },
      "source": [
        "## Building the Model"
      ]
    },
    {
      "cell_type": "code",
      "execution_count": null,
      "metadata": {
        "id": "w3Zc6BO5m-Un"
      },
      "outputs": [],
      "source": [
        "cnn_model = Sequential()\n",
        "cnn_model.add(Embedding(VOCAB_SIZE,EMBED_SIZE,input_length=max_length))\n",
        "cnn_model.add(Dropout(0.5))\n",
        "cnn_model.add(Conv1D(filters, kernel_size,padding = 'valid', activation = 'relu'))\n",
        "cnn_model.add(MaxPooling1D())\n",
        "cnn_model.add(Conv1D(filters, kernel_size,padding = 'valid', activation = 'relu'))\n",
        "cnn_model.add(MaxPooling1D())\n",
        "cnn_model.add(Flatten())\n",
        "cnn_model.add(Dense(hidden_dims, activation ='relu'))\n",
        "cnn_model.add(Dropout(0.5))\n",
        "cnn_model.add(Dense(1, activation='sigmoid'))"
      ]
    },
    {
      "cell_type": "code",
      "execution_count": null,
      "metadata": {
        "colab": {
          "base_uri": "https://localhost:8080/"
        },
        "id": "GeOcqUUTnI_X",
        "outputId": "0899ea90-fe89-4bcb-b957-c5fa68ae7565"
      },
      "outputs": [
        {
          "name": "stdout",
          "output_type": "stream",
          "text": [
            "Model: \"sequential_1\"\n",
            "_________________________________________________________________\n",
            " Layer (type)                Output Shape              Param #   \n",
            "=================================================================\n",
            " embedding_1 (Embedding)     (None, 1000, 50)          500000    \n",
            "                                                                 \n",
            " dropout_2 (Dropout)         (None, 1000, 50)          0         \n",
            "                                                                 \n",
            " conv1d_2 (Conv1D)           (None, 998, 32)           4832      \n",
            "                                                                 \n",
            " max_pooling1d_2 (MaxPooling  (None, 499, 32)          0         \n",
            " 1D)                                                             \n",
            "                                                                 \n",
            " conv1d_3 (Conv1D)           (None, 497, 32)           3104      \n",
            "                                                                 \n",
            " max_pooling1d_3 (MaxPooling  (None, 248, 32)          0         \n",
            " 1D)                                                             \n",
            "                                                                 \n",
            " flatten_1 (Flatten)         (None, 7936)              0         \n",
            "                                                                 \n",
            " dense_2 (Dense)             (None, 250)               1984250   \n",
            "                                                                 \n",
            " dropout_3 (Dropout)         (None, 250)               0         \n",
            "                                                                 \n",
            " dense_3 (Dense)             (None, 1)                 251       \n",
            "                                                                 \n",
            "=================================================================\n",
            "Total params: 2,492,437\n",
            "Trainable params: 2,492,437\n",
            "Non-trainable params: 0\n",
            "_________________________________________________________________\n"
          ]
        }
      ],
      "source": [
        "cnn_model.compile(loss='binary_crossentropy', optimizer='adam', metrics=['accuracy'])\n",
        "cnn_model.summary()"
      ]
    },
    {
      "cell_type": "code",
      "execution_count": null,
      "metadata": {
        "colab": {
          "base_uri": "https://localhost:8080/",
          "height": 1000
        },
        "id": "pmCFzz0NnL3Q",
        "outputId": "ed69f18e-06b9-4ffd-e84d-deaff968f7f0"
      },
      "outputs": [
        {
          "data": {
            "image/svg+xml": "<svg height=\"737pt\" viewBox=\"0.00 0.00 410.00 885.00\" width=\"342pt\" xmlns=\"http://www.w3.org/2000/svg\" xmlns:xlink=\"http://www.w3.org/1999/xlink\">\n<g class=\"graph\" id=\"graph0\" transform=\"scale(.8333 .8333) rotate(0) translate(4 881)\">\n<title>G</title>\n<polygon fill=\"#ffffff\" points=\"-4,4 -4,-881 406,-881 406,4 -4,4\" stroke=\"transparent\"/>\n<!-- 139994842814032 -->\n<g class=\"node\" id=\"node1\">\n<title>139994842814032</title>\n<polygon fill=\"none\" points=\"1,-830.5 1,-876.5 401,-876.5 401,-830.5 1,-830.5\" stroke=\"#000000\"/>\n<text fill=\"#000000\" font-family=\"Times,serif\" font-size=\"14.00\" text-anchor=\"middle\" x=\"68\" y=\"-861.3\">embedding_1_input</text>\n<polyline fill=\"none\" points=\"1,-853.5 135,-853.5 \" stroke=\"#000000\"/>\n<text fill=\"#000000\" font-family=\"Times,serif\" font-size=\"14.00\" text-anchor=\"middle\" x=\"68\" y=\"-838.3\">InputLayer</text>\n<polyline fill=\"none\" points=\"135,-830.5 135,-876.5 \" stroke=\"#000000\"/>\n<text fill=\"#000000\" font-family=\"Times,serif\" font-size=\"14.00\" text-anchor=\"middle\" x=\"164\" y=\"-861.3\">input:</text>\n<polyline fill=\"none\" points=\"135,-853.5 193,-853.5 \" stroke=\"#000000\"/>\n<text fill=\"#000000\" font-family=\"Times,serif\" font-size=\"14.00\" text-anchor=\"middle\" x=\"164\" y=\"-838.3\">output:</text>\n<polyline fill=\"none\" points=\"193,-830.5 193,-876.5 \" stroke=\"#000000\"/>\n<text fill=\"#000000\" font-family=\"Times,serif\" font-size=\"14.00\" text-anchor=\"middle\" x=\"245\" y=\"-849.8\">[(None, 1000)]</text>\n<polyline fill=\"none\" points=\"297,-830.5 297,-876.5 \" stroke=\"#000000\"/>\n<text fill=\"#000000\" font-family=\"Times,serif\" font-size=\"14.00\" text-anchor=\"middle\" x=\"349\" y=\"-849.8\">[(None, 1000)]</text>\n</g>\n<!-- 139994842812496 -->\n<g class=\"node\" id=\"node2\">\n<title>139994842812496</title>\n<polygon fill=\"none\" points=\"18,-747.5 18,-793.5 384,-793.5 384,-747.5 18,-747.5\" stroke=\"#000000\"/>\n<text fill=\"#000000\" font-family=\"Times,serif\" font-size=\"14.00\" text-anchor=\"middle\" x=\"66\" y=\"-778.3\">embedding_1</text>\n<polyline fill=\"none\" points=\"18,-770.5 114,-770.5 \" stroke=\"#000000\"/>\n<text fill=\"#000000\" font-family=\"Times,serif\" font-size=\"14.00\" text-anchor=\"middle\" x=\"66\" y=\"-755.3\">Embedding</text>\n<polyline fill=\"none\" points=\"114,-747.5 114,-793.5 \" stroke=\"#000000\"/>\n<text fill=\"#000000\" font-family=\"Times,serif\" font-size=\"14.00\" text-anchor=\"middle\" x=\"143\" y=\"-778.3\">input:</text>\n<polyline fill=\"none\" points=\"114,-770.5 172,-770.5 \" stroke=\"#000000\"/>\n<text fill=\"#000000\" font-family=\"Times,serif\" font-size=\"14.00\" text-anchor=\"middle\" x=\"143\" y=\"-755.3\">output:</text>\n<polyline fill=\"none\" points=\"172,-747.5 172,-793.5 \" stroke=\"#000000\"/>\n<text fill=\"#000000\" font-family=\"Times,serif\" font-size=\"14.00\" text-anchor=\"middle\" x=\"219.5\" y=\"-766.8\">(None, 1000)</text>\n<polyline fill=\"none\" points=\"267,-747.5 267,-793.5 \" stroke=\"#000000\"/>\n<text fill=\"#000000\" font-family=\"Times,serif\" font-size=\"14.00\" text-anchor=\"middle\" x=\"325.5\" y=\"-766.8\">(None, 1000, 50)</text>\n</g>\n<!-- 139994842814032&#45;&gt;139994842812496 -->\n<g class=\"edge\" id=\"edge1\">\n<title>139994842814032-&gt;139994842812496</title>\n<path d=\"M201,-830.3799C201,-822.1745 201,-812.7679 201,-803.8786\" fill=\"none\" stroke=\"#000000\"/>\n<polygon fill=\"#000000\" points=\"204.5001,-803.784 201,-793.784 197.5001,-803.784 204.5001,-803.784\" stroke=\"#000000\"/>\n</g>\n<!-- 139994842814800 -->\n<g class=\"node\" id=\"node3\">\n<title>139994842814800</title>\n<polygon fill=\"none\" points=\"16.5,-664.5 16.5,-710.5 385.5,-710.5 385.5,-664.5 16.5,-664.5\" stroke=\"#000000\"/>\n<text fill=\"#000000\" font-family=\"Times,serif\" font-size=\"14.00\" text-anchor=\"middle\" x=\"55\" y=\"-695.3\">dropout_2</text>\n<polyline fill=\"none\" points=\"16.5,-687.5 93.5,-687.5 \" stroke=\"#000000\"/>\n<text fill=\"#000000\" font-family=\"Times,serif\" font-size=\"14.00\" text-anchor=\"middle\" x=\"55\" y=\"-672.3\">Dropout</text>\n<polyline fill=\"none\" points=\"93.5,-664.5 93.5,-710.5 \" stroke=\"#000000\"/>\n<text fill=\"#000000\" font-family=\"Times,serif\" font-size=\"14.00\" text-anchor=\"middle\" x=\"122.5\" y=\"-695.3\">input:</text>\n<polyline fill=\"none\" points=\"93.5,-687.5 151.5,-687.5 \" stroke=\"#000000\"/>\n<text fill=\"#000000\" font-family=\"Times,serif\" font-size=\"14.00\" text-anchor=\"middle\" x=\"122.5\" y=\"-672.3\">output:</text>\n<polyline fill=\"none\" points=\"151.5,-664.5 151.5,-710.5 \" stroke=\"#000000\"/>\n<text fill=\"#000000\" font-family=\"Times,serif\" font-size=\"14.00\" text-anchor=\"middle\" x=\"210\" y=\"-683.8\">(None, 1000, 50)</text>\n<polyline fill=\"none\" points=\"268.5,-664.5 268.5,-710.5 \" stroke=\"#000000\"/>\n<text fill=\"#000000\" font-family=\"Times,serif\" font-size=\"14.00\" text-anchor=\"middle\" x=\"327\" y=\"-683.8\">(None, 1000, 50)</text>\n</g>\n<!-- 139994842812496&#45;&gt;139994842814800 -->\n<g class=\"edge\" id=\"edge2\">\n<title>139994842812496-&gt;139994842814800</title>\n<path d=\"M201,-747.3799C201,-739.1745 201,-729.7679 201,-720.8786\" fill=\"none\" stroke=\"#000000\"/>\n<polygon fill=\"#000000\" points=\"204.5001,-720.784 201,-710.784 197.5001,-720.784 204.5001,-720.784\" stroke=\"#000000\"/>\n</g>\n<!-- 139994829563664 -->\n<g class=\"node\" id=\"node4\">\n<title>139994829563664</title>\n<polygon fill=\"none\" points=\"21,-581.5 21,-627.5 381,-627.5 381,-581.5 21,-581.5\" stroke=\"#000000\"/>\n<text fill=\"#000000\" font-family=\"Times,serif\" font-size=\"14.00\" text-anchor=\"middle\" x=\"58.5\" y=\"-612.3\">conv1d_2</text>\n<polyline fill=\"none\" points=\"21,-604.5 96,-604.5 \" stroke=\"#000000\"/>\n<text fill=\"#000000\" font-family=\"Times,serif\" font-size=\"14.00\" text-anchor=\"middle\" x=\"58.5\" y=\"-589.3\">Conv1D</text>\n<polyline fill=\"none\" points=\"96,-581.5 96,-627.5 \" stroke=\"#000000\"/>\n<text fill=\"#000000\" font-family=\"Times,serif\" font-size=\"14.00\" text-anchor=\"middle\" x=\"125\" y=\"-612.3\">input:</text>\n<polyline fill=\"none\" points=\"96,-604.5 154,-604.5 \" stroke=\"#000000\"/>\n<text fill=\"#000000\" font-family=\"Times,serif\" font-size=\"14.00\" text-anchor=\"middle\" x=\"125\" y=\"-589.3\">output:</text>\n<polyline fill=\"none\" points=\"154,-581.5 154,-627.5 \" stroke=\"#000000\"/>\n<text fill=\"#000000\" font-family=\"Times,serif\" font-size=\"14.00\" text-anchor=\"middle\" x=\"212.5\" y=\"-600.8\">(None, 1000, 50)</text>\n<polyline fill=\"none\" points=\"271,-581.5 271,-627.5 \" stroke=\"#000000\"/>\n<text fill=\"#000000\" font-family=\"Times,serif\" font-size=\"14.00\" text-anchor=\"middle\" x=\"326\" y=\"-600.8\">(None, 998, 32)</text>\n</g>\n<!-- 139994842814800&#45;&gt;139994829563664 -->\n<g class=\"edge\" id=\"edge3\">\n<title>139994842814800-&gt;139994829563664</title>\n<path d=\"M201,-664.3799C201,-656.1745 201,-646.7679 201,-637.8786\" fill=\"none\" stroke=\"#000000\"/>\n<polygon fill=\"#000000\" points=\"204.5001,-637.784 201,-627.784 197.5001,-637.784 204.5001,-637.784\" stroke=\"#000000\"/>\n</g>\n<!-- 139994829565904 -->\n<g class=\"node\" id=\"node5\">\n<title>139994829565904</title>\n<polygon fill=\"none\" points=\"0,-498.5 0,-544.5 402,-544.5 402,-498.5 0,-498.5\" stroke=\"#000000\"/>\n<text fill=\"#000000\" font-family=\"Times,serif\" font-size=\"14.00\" text-anchor=\"middle\" x=\"62\" y=\"-529.3\">max_pooling1d_2</text>\n<polyline fill=\"none\" points=\"0,-521.5 124,-521.5 \" stroke=\"#000000\"/>\n<text fill=\"#000000\" font-family=\"Times,serif\" font-size=\"14.00\" text-anchor=\"middle\" x=\"62\" y=\"-506.3\">MaxPooling1D</text>\n<polyline fill=\"none\" points=\"124,-498.5 124,-544.5 \" stroke=\"#000000\"/>\n<text fill=\"#000000\" font-family=\"Times,serif\" font-size=\"14.00\" text-anchor=\"middle\" x=\"153\" y=\"-529.3\">input:</text>\n<polyline fill=\"none\" points=\"124,-521.5 182,-521.5 \" stroke=\"#000000\"/>\n<text fill=\"#000000\" font-family=\"Times,serif\" font-size=\"14.00\" text-anchor=\"middle\" x=\"153\" y=\"-506.3\">output:</text>\n<polyline fill=\"none\" points=\"182,-498.5 182,-544.5 \" stroke=\"#000000\"/>\n<text fill=\"#000000\" font-family=\"Times,serif\" font-size=\"14.00\" text-anchor=\"middle\" x=\"237\" y=\"-517.8\">(None, 998, 32)</text>\n<polyline fill=\"none\" points=\"292,-498.5 292,-544.5 \" stroke=\"#000000\"/>\n<text fill=\"#000000\" font-family=\"Times,serif\" font-size=\"14.00\" text-anchor=\"middle\" x=\"347\" y=\"-517.8\">(None, 499, 32)</text>\n</g>\n<!-- 139994829563664&#45;&gt;139994829565904 -->\n<g class=\"edge\" id=\"edge4\">\n<title>139994829563664-&gt;139994829565904</title>\n<path d=\"M201,-581.3799C201,-573.1745 201,-563.7679 201,-554.8786\" fill=\"none\" stroke=\"#000000\"/>\n<polygon fill=\"#000000\" points=\"204.5001,-554.784 201,-544.784 197.5001,-554.784 204.5001,-554.784\" stroke=\"#000000\"/>\n</g>\n<!-- 139994838665808 -->\n<g class=\"node\" id=\"node6\">\n<title>139994838665808</title>\n<polygon fill=\"none\" points=\"24.5,-415.5 24.5,-461.5 377.5,-461.5 377.5,-415.5 24.5,-415.5\" stroke=\"#000000\"/>\n<text fill=\"#000000\" font-family=\"Times,serif\" font-size=\"14.00\" text-anchor=\"middle\" x=\"62\" y=\"-446.3\">conv1d_3</text>\n<polyline fill=\"none\" points=\"24.5,-438.5 99.5,-438.5 \" stroke=\"#000000\"/>\n<text fill=\"#000000\" font-family=\"Times,serif\" font-size=\"14.00\" text-anchor=\"middle\" x=\"62\" y=\"-423.3\">Conv1D</text>\n<polyline fill=\"none\" points=\"99.5,-415.5 99.5,-461.5 \" stroke=\"#000000\"/>\n<text fill=\"#000000\" font-family=\"Times,serif\" font-size=\"14.00\" text-anchor=\"middle\" x=\"128.5\" y=\"-446.3\">input:</text>\n<polyline fill=\"none\" points=\"99.5,-438.5 157.5,-438.5 \" stroke=\"#000000\"/>\n<text fill=\"#000000\" font-family=\"Times,serif\" font-size=\"14.00\" text-anchor=\"middle\" x=\"128.5\" y=\"-423.3\">output:</text>\n<polyline fill=\"none\" points=\"157.5,-415.5 157.5,-461.5 \" stroke=\"#000000\"/>\n<text fill=\"#000000\" font-family=\"Times,serif\" font-size=\"14.00\" text-anchor=\"middle\" x=\"212.5\" y=\"-434.8\">(None, 499, 32)</text>\n<polyline fill=\"none\" points=\"267.5,-415.5 267.5,-461.5 \" stroke=\"#000000\"/>\n<text fill=\"#000000\" font-family=\"Times,serif\" font-size=\"14.00\" text-anchor=\"middle\" x=\"322.5\" y=\"-434.8\">(None, 497, 32)</text>\n</g>\n<!-- 139994829565904&#45;&gt;139994838665808 -->\n<g class=\"edge\" id=\"edge5\">\n<title>139994829565904-&gt;139994838665808</title>\n<path d=\"M201,-498.3799C201,-490.1745 201,-480.7679 201,-471.8786\" fill=\"none\" stroke=\"#000000\"/>\n<polygon fill=\"#000000\" points=\"204.5001,-471.784 201,-461.784 197.5001,-471.784 204.5001,-471.784\" stroke=\"#000000\"/>\n</g>\n<!-- 139994838642256 -->\n<g class=\"node\" id=\"node7\">\n<title>139994838642256</title>\n<polygon fill=\"none\" points=\"0,-332.5 0,-378.5 402,-378.5 402,-332.5 0,-332.5\" stroke=\"#000000\"/>\n<text fill=\"#000000\" font-family=\"Times,serif\" font-size=\"14.00\" text-anchor=\"middle\" x=\"62\" y=\"-363.3\">max_pooling1d_3</text>\n<polyline fill=\"none\" points=\"0,-355.5 124,-355.5 \" stroke=\"#000000\"/>\n<text fill=\"#000000\" font-family=\"Times,serif\" font-size=\"14.00\" text-anchor=\"middle\" x=\"62\" y=\"-340.3\">MaxPooling1D</text>\n<polyline fill=\"none\" points=\"124,-332.5 124,-378.5 \" stroke=\"#000000\"/>\n<text fill=\"#000000\" font-family=\"Times,serif\" font-size=\"14.00\" text-anchor=\"middle\" x=\"153\" y=\"-363.3\">input:</text>\n<polyline fill=\"none\" points=\"124,-355.5 182,-355.5 \" stroke=\"#000000\"/>\n<text fill=\"#000000\" font-family=\"Times,serif\" font-size=\"14.00\" text-anchor=\"middle\" x=\"153\" y=\"-340.3\">output:</text>\n<polyline fill=\"none\" points=\"182,-332.5 182,-378.5 \" stroke=\"#000000\"/>\n<text fill=\"#000000\" font-family=\"Times,serif\" font-size=\"14.00\" text-anchor=\"middle\" x=\"237\" y=\"-351.8\">(None, 497, 32)</text>\n<polyline fill=\"none\" points=\"292,-332.5 292,-378.5 \" stroke=\"#000000\"/>\n<text fill=\"#000000\" font-family=\"Times,serif\" font-size=\"14.00\" text-anchor=\"middle\" x=\"347\" y=\"-351.8\">(None, 248, 32)</text>\n</g>\n<!-- 139994838665808&#45;&gt;139994838642256 -->\n<g class=\"edge\" id=\"edge6\">\n<title>139994838665808-&gt;139994838642256</title>\n<path d=\"M201,-415.3799C201,-407.1745 201,-397.7679 201,-388.8786\" fill=\"none\" stroke=\"#000000\"/>\n<polygon fill=\"#000000\" points=\"204.5001,-388.784 201,-378.784 197.5001,-388.784 204.5001,-388.784\" stroke=\"#000000\"/>\n</g>\n<!-- 139994829539728 -->\n<g class=\"node\" id=\"node8\">\n<title>139994829539728</title>\n<polygon fill=\"none\" points=\"36,-249.5 36,-295.5 366,-295.5 366,-249.5 36,-249.5\" stroke=\"#000000\"/>\n<text fill=\"#000000\" font-family=\"Times,serif\" font-size=\"14.00\" text-anchor=\"middle\" x=\"69.5\" y=\"-280.3\">flatten_1</text>\n<polyline fill=\"none\" points=\"36,-272.5 103,-272.5 \" stroke=\"#000000\"/>\n<text fill=\"#000000\" font-family=\"Times,serif\" font-size=\"14.00\" text-anchor=\"middle\" x=\"69.5\" y=\"-257.3\">Flatten</text>\n<polyline fill=\"none\" points=\"103,-249.5 103,-295.5 \" stroke=\"#000000\"/>\n<text fill=\"#000000\" font-family=\"Times,serif\" font-size=\"14.00\" text-anchor=\"middle\" x=\"132\" y=\"-280.3\">input:</text>\n<polyline fill=\"none\" points=\"103,-272.5 161,-272.5 \" stroke=\"#000000\"/>\n<text fill=\"#000000\" font-family=\"Times,serif\" font-size=\"14.00\" text-anchor=\"middle\" x=\"132\" y=\"-257.3\">output:</text>\n<polyline fill=\"none\" points=\"161,-249.5 161,-295.5 \" stroke=\"#000000\"/>\n<text fill=\"#000000\" font-family=\"Times,serif\" font-size=\"14.00\" text-anchor=\"middle\" x=\"216\" y=\"-268.8\">(None, 248, 32)</text>\n<polyline fill=\"none\" points=\"271,-249.5 271,-295.5 \" stroke=\"#000000\"/>\n<text fill=\"#000000\" font-family=\"Times,serif\" font-size=\"14.00\" text-anchor=\"middle\" x=\"318.5\" y=\"-268.8\">(None, 7936)</text>\n</g>\n<!-- 139994838642256&#45;&gt;139994829539728 -->\n<g class=\"edge\" id=\"edge7\">\n<title>139994838642256-&gt;139994829539728</title>\n<path d=\"M201,-332.3799C201,-324.1745 201,-314.7679 201,-305.8786\" fill=\"none\" stroke=\"#000000\"/>\n<polygon fill=\"#000000\" points=\"204.5001,-305.784 201,-295.784 197.5001,-305.784 204.5001,-305.784\" stroke=\"#000000\"/>\n</g>\n<!-- 139994829712848 -->\n<g class=\"node\" id=\"node9\">\n<title>139994829712848</title>\n<polygon fill=\"none\" points=\"49,-166.5 49,-212.5 353,-212.5 353,-166.5 49,-166.5\" stroke=\"#000000\"/>\n<text fill=\"#000000\" font-family=\"Times,serif\" font-size=\"14.00\" text-anchor=\"middle\" x=\"81\" y=\"-197.3\">dense_2</text>\n<polyline fill=\"none\" points=\"49,-189.5 113,-189.5 \" stroke=\"#000000\"/>\n<text fill=\"#000000\" font-family=\"Times,serif\" font-size=\"14.00\" text-anchor=\"middle\" x=\"81\" y=\"-174.3\">Dense</text>\n<polyline fill=\"none\" points=\"113,-166.5 113,-212.5 \" stroke=\"#000000\"/>\n<text fill=\"#000000\" font-family=\"Times,serif\" font-size=\"14.00\" text-anchor=\"middle\" x=\"142\" y=\"-197.3\">input:</text>\n<polyline fill=\"none\" points=\"113,-189.5 171,-189.5 \" stroke=\"#000000\"/>\n<text fill=\"#000000\" font-family=\"Times,serif\" font-size=\"14.00\" text-anchor=\"middle\" x=\"142\" y=\"-174.3\">output:</text>\n<polyline fill=\"none\" points=\"171,-166.5 171,-212.5 \" stroke=\"#000000\"/>\n<text fill=\"#000000\" font-family=\"Times,serif\" font-size=\"14.00\" text-anchor=\"middle\" x=\"218.5\" y=\"-185.8\">(None, 7936)</text>\n<polyline fill=\"none\" points=\"266,-166.5 266,-212.5 \" stroke=\"#000000\"/>\n<text fill=\"#000000\" font-family=\"Times,serif\" font-size=\"14.00\" text-anchor=\"middle\" x=\"309.5\" y=\"-185.8\">(None, 250)</text>\n</g>\n<!-- 139994829539728&#45;&gt;139994829712848 -->\n<g class=\"edge\" id=\"edge8\">\n<title>139994829539728-&gt;139994829712848</title>\n<path d=\"M201,-249.3799C201,-241.1745 201,-231.7679 201,-222.8786\" fill=\"none\" stroke=\"#000000\"/>\n<polygon fill=\"#000000\" points=\"204.5001,-222.784 201,-212.784 197.5001,-222.784 204.5001,-222.784\" stroke=\"#000000\"/>\n</g>\n<!-- 139994838755408 -->\n<g class=\"node\" id=\"node10\">\n<title>139994838755408</title>\n<polygon fill=\"none\" points=\"46.5,-83.5 46.5,-129.5 355.5,-129.5 355.5,-83.5 46.5,-83.5\" stroke=\"#000000\"/>\n<text fill=\"#000000\" font-family=\"Times,serif\" font-size=\"14.00\" text-anchor=\"middle\" x=\"85\" y=\"-114.3\">dropout_3</text>\n<polyline fill=\"none\" points=\"46.5,-106.5 123.5,-106.5 \" stroke=\"#000000\"/>\n<text fill=\"#000000\" font-family=\"Times,serif\" font-size=\"14.00\" text-anchor=\"middle\" x=\"85\" y=\"-91.3\">Dropout</text>\n<polyline fill=\"none\" points=\"123.5,-83.5 123.5,-129.5 \" stroke=\"#000000\"/>\n<text fill=\"#000000\" font-family=\"Times,serif\" font-size=\"14.00\" text-anchor=\"middle\" x=\"152.5\" y=\"-114.3\">input:</text>\n<polyline fill=\"none\" points=\"123.5,-106.5 181.5,-106.5 \" stroke=\"#000000\"/>\n<text fill=\"#000000\" font-family=\"Times,serif\" font-size=\"14.00\" text-anchor=\"middle\" x=\"152.5\" y=\"-91.3\">output:</text>\n<polyline fill=\"none\" points=\"181.5,-83.5 181.5,-129.5 \" stroke=\"#000000\"/>\n<text fill=\"#000000\" font-family=\"Times,serif\" font-size=\"14.00\" text-anchor=\"middle\" x=\"225\" y=\"-102.8\">(None, 250)</text>\n<polyline fill=\"none\" points=\"268.5,-83.5 268.5,-129.5 \" stroke=\"#000000\"/>\n<text fill=\"#000000\" font-family=\"Times,serif\" font-size=\"14.00\" text-anchor=\"middle\" x=\"312\" y=\"-102.8\">(None, 250)</text>\n</g>\n<!-- 139994829712848&#45;&gt;139994838755408 -->\n<g class=\"edge\" id=\"edge9\">\n<title>139994829712848-&gt;139994838755408</title>\n<path d=\"M201,-166.3799C201,-158.1745 201,-148.7679 201,-139.8786\" fill=\"none\" stroke=\"#000000\"/>\n<polygon fill=\"#000000\" points=\"204.5001,-139.784 201,-129.784 197.5001,-139.784 204.5001,-139.784\" stroke=\"#000000\"/>\n</g>\n<!-- 139994838754640 -->\n<g class=\"node\" id=\"node11\">\n<title>139994838754640</title>\n<polygon fill=\"none\" points=\"60.5,-.5 60.5,-46.5 341.5,-46.5 341.5,-.5 60.5,-.5\" stroke=\"#000000\"/>\n<text fill=\"#000000\" font-family=\"Times,serif\" font-size=\"14.00\" text-anchor=\"middle\" x=\"92.5\" y=\"-31.3\">dense_3</text>\n<polyline fill=\"none\" points=\"60.5,-23.5 124.5,-23.5 \" stroke=\"#000000\"/>\n<text fill=\"#000000\" font-family=\"Times,serif\" font-size=\"14.00\" text-anchor=\"middle\" x=\"92.5\" y=\"-8.3\">Dense</text>\n<polyline fill=\"none\" points=\"124.5,-.5 124.5,-46.5 \" stroke=\"#000000\"/>\n<text fill=\"#000000\" font-family=\"Times,serif\" font-size=\"14.00\" text-anchor=\"middle\" x=\"153.5\" y=\"-31.3\">input:</text>\n<polyline fill=\"none\" points=\"124.5,-23.5 182.5,-23.5 \" stroke=\"#000000\"/>\n<text fill=\"#000000\" font-family=\"Times,serif\" font-size=\"14.00\" text-anchor=\"middle\" x=\"153.5\" y=\"-8.3\">output:</text>\n<polyline fill=\"none\" points=\"182.5,-.5 182.5,-46.5 \" stroke=\"#000000\"/>\n<text fill=\"#000000\" font-family=\"Times,serif\" font-size=\"14.00\" text-anchor=\"middle\" x=\"226\" y=\"-19.8\">(None, 250)</text>\n<polyline fill=\"none\" points=\"269.5,-.5 269.5,-46.5 \" stroke=\"#000000\"/>\n<text fill=\"#000000\" font-family=\"Times,serif\" font-size=\"14.00\" text-anchor=\"middle\" x=\"305.5\" y=\"-19.8\">(None, 1)</text>\n</g>\n<!-- 139994838755408&#45;&gt;139994838754640 -->\n<g class=\"edge\" id=\"edge10\">\n<title>139994838755408-&gt;139994838754640</title>\n<path d=\"M201,-83.3799C201,-75.1745 201,-65.7679 201,-56.8786\" fill=\"none\" stroke=\"#000000\"/>\n<polygon fill=\"#000000\" points=\"204.5001,-56.784 201,-46.784 197.5001,-56.784 204.5001,-56.784\" stroke=\"#000000\"/>\n</g>\n</g>\n</svg>",
            "text/plain": [
              "<IPython.core.display.SVG object>"
            ]
          },
          "execution_count": 11,
          "metadata": {},
          "output_type": "execute_result"
        }
      ],
      "source": [
        "SVG(vis_utils.model_to_dot(cnn_model, show_shapes=True, show_layer_names=True, dpi=60).create(prog='dot', format='svg'))  "
      ]
    },
    {
      "cell_type": "markdown",
      "metadata": {
        "id": "M9yonvlwCHYN"
      },
      "source": [
        "## Train the Model"
      ]
    },
    {
      "cell_type": "code",
      "execution_count": null,
      "metadata": {
        "colab": {
          "base_uri": "https://localhost:8080/"
        },
        "id": "l_S8V1GFnbqU",
        "outputId": "592ae99b-366c-42e5-e6e2-f05bff6a0d74"
      },
      "outputs": [
        {
          "name": "stdout",
          "output_type": "stream",
          "text": [
            "Epoch 1/10\n",
            "313/313 [==============================] - 17s 17ms/step - loss: 0.6790 - accuracy: 0.5599 - val_loss: 0.6374 - val_accuracy: 0.6489\n",
            "Epoch 2/10\n",
            "313/313 [==============================] - 5s 16ms/step - loss: 0.6197 - accuracy: 0.6568 - val_loss: 0.6157 - val_accuracy: 0.6660\n",
            "Epoch 3/10\n",
            "313/313 [==============================] - 5s 15ms/step - loss: 0.5762 - accuracy: 0.6994 - val_loss: 0.6243 - val_accuracy: 0.6559\n",
            "Epoch 4/10\n",
            "313/313 [==============================] - 5s 15ms/step - loss: 0.5355 - accuracy: 0.7286 - val_loss: 0.6438 - val_accuracy: 0.6541\n",
            "Epoch 5/10\n",
            "313/313 [==============================] - 5s 16ms/step - loss: 0.4984 - accuracy: 0.7541 - val_loss: 0.6785 - val_accuracy: 0.6474\n",
            "Epoch 6/10\n",
            "313/313 [==============================] - 5s 16ms/step - loss: 0.4683 - accuracy: 0.7695 - val_loss: 0.7066 - val_accuracy: 0.6434\n",
            "Epoch 7/10\n",
            "313/313 [==============================] - 5s 15ms/step - loss: 0.4402 - accuracy: 0.7856 - val_loss: 0.7480 - val_accuracy: 0.6393\n",
            "Epoch 8/10\n",
            "313/313 [==============================] - 5s 15ms/step - loss: 0.4215 - accuracy: 0.7961 - val_loss: 0.7571 - val_accuracy: 0.6397\n",
            "Epoch 9/10\n",
            "313/313 [==============================] - 5s 15ms/step - loss: 0.4012 - accuracy: 0.8025 - val_loss: 0.7860 - val_accuracy: 0.6343\n",
            "Epoch 10/10\n",
            "313/313 [==============================] - 5s 15ms/step - loss: 0.3858 - accuracy: 0.8097 - val_loss: 0.8376 - val_accuracy: 0.6309\n"
          ]
        }
      ],
      "source": [
        "cnn_history = cnn_model.fit(X_train, y_train, validation_data = (X_test, y_test), epochs = 10, batch_size = 128, verbose=1)"
      ]
    },
    {
      "cell_type": "markdown",
      "metadata": {
        "id": "KoC74qxmCTlJ"
      },
      "source": [
        "## Visualize the model plot"
      ]
    },
    {
      "cell_type": "code",
      "execution_count": null,
      "metadata": {
        "colab": {
          "base_uri": "https://localhost:8080/",
          "height": 385
        },
        "id": "zBjoeBr8ng7U",
        "outputId": "da59f316-ee86-48a9-9b26-43cd5c2c2da3"
      },
      "outputs": [
        {
          "data": {
            "image/png": "[encoded data removed]",
            "text/plain": [
              "<Figure size 720x360 with 2 Axes>"
            ]
          },
          "metadata": {},
          "output_type": "display_data"
        }
      ],
      "source": [
        "plot_history(cnn_history.history, path=\"standard_comment_cnn_1.png\")\n",
        "plt.show()"
      ]
    },
    {
      "cell_type": "markdown",
      "metadata": {
        "id": "6eNwxyaHCZgQ"
      },
      "source": [
        "## Evaluate the model"
      ]
    },
    {
      "cell_type": "code",
      "execution_count": null,
      "metadata": {
        "colab": {
          "base_uri": "https://localhost:8080/"
        },
        "id": "XhEPFLoBVsGC",
        "outputId": "04eb738b-6c67-4ea4-8ef3-c44e0e76df23"
      },
      "outputs": [
        {
          "name": "stdout",
          "output_type": "stream",
          "text": [
            "79/79 [==============================] - 0s 6ms/step - loss: 0.8376 - accuracy: 0.6309\n",
            "test_loss: 0.8375615477561951 test_accuracy: 0.6309000253677368\n"
          ]
        }
      ],
      "source": [
        "cnn_results = cnn_model.evaluate(X_test, y_test, batch_size=128)\n",
        "print('test_loss:', cnn_results[0], 'test_accuracy:', cnn_results[1])"
      ]
    },
    {
      "cell_type": "code",
      "execution_count": null,
      "metadata": {
        "colab": {
          "base_uri": "https://localhost:8080/",
          "height": 363
        },
        "id": "JBrZ7-6IWt28",
        "outputId": "f692d129-414a-4e18-feb2-e3efb382247d"
      },
      "outputs": [
        {
          "data": {
            "text/html": [
              "\n",
              "  <div id=\"df-8ff2979b-86c4-4b7c-899b-d8c9df264552\">\n",
              "    <div class=\"colab-df-container\">\n",
              "      <div>\n",
              "<style scoped>\n",
              "    .dataframe tbody tr th:only-of-type {\n",
              "        vertical-align: middle;\n",
              "    }\n",
              "\n",
              "    .dataframe tbody tr th {\n",
              "        vertical-align: top;\n",
              "    }\n",
              "\n",
              "    .dataframe thead th {\n",
              "        text-align: right;\n",
              "    }\n",
              "</style>\n",
              "<table border=\"1\" class=\"dataframe\">\n",
              "  <thead>\n",
              "    <tr style=\"text-align: right;\">\n",
              "      <th></th>\n",
              "      <th>label</th>\n",
              "      <th>comment</th>\n",
              "      <th>parent_comment</th>\n",
              "    </tr>\n",
              "  </thead>\n",
              "  <tbody>\n",
              "    <tr>\n",
              "      <th>36483</th>\n",
              "      <td>1</td>\n",
              "      <td>the government needs to invest in games like t...</td>\n",
              "      <td>do not let pavee point see this.</td>\n",
              "    </tr>\n",
              "    <tr>\n",
              "      <th>26863</th>\n",
              "      <td>1</td>\n",
              "      <td>just wait until tomorrow to install it then</td>\n",
              "      <td>i thought os updates were on tuesdays...wth ap...</td>\n",
              "    </tr>\n",
              "    <tr>\n",
              "      <th>31097</th>\n",
              "      <td>1</td>\n",
              "      <td>yes , definitely working like a game that was ...</td>\n",
              "      <td>welcome to the 5th season of our beta , do not...</td>\n",
              "    </tr>\n",
              "    <tr>\n",
              "      <th>28787</th>\n",
              "      <td>1</td>\n",
              "      <td>i am being sarcastic.</td>\n",
              "      <td>can not tell if this post is sarcastic or mons...</td>\n",
              "    </tr>\n",
              "    <tr>\n",
              "      <th>49524</th>\n",
              "      <td>1</td>\n",
              "      <td>pleb..still using a phone to call people</td>\n",
              "      <td>my phone , it is from 2012 and cost around $12...</td>\n",
              "    </tr>\n",
              "    <tr>\n",
              "      <th>33721</th>\n",
              "      <td>1</td>\n",
              "      <td>meh frankenstein is not important.</td>\n",
              "      <td>mary shelley is also missing.</td>\n",
              "    </tr>\n",
              "    <tr>\n",
              "      <th>48794</th>\n",
              "      <td>1</td>\n",
              "      <td>asexuality is the one true sexuality and all e...</td>\n",
              "      <td>bisexuals , heterosexuals , homosexuals... are...</td>\n",
              "    </tr>\n",
              "    <tr>\n",
              "      <th>29648</th>\n",
              "      <td>1</td>\n",
              "      <td>i wish my build could look like that.</td>\n",
              "      <td>is this really the best stock image they could...</td>\n",
              "    </tr>\n",
              "    <tr>\n",
              "      <th>36154</th>\n",
              "      <td>1</td>\n",
              "      <td>this appears to be a floyd rose</td>\n",
              "      <td>what is this and is there an easy fix ?</td>\n",
              "    </tr>\n",
              "    <tr>\n",
              "      <th>27157</th>\n",
              "      <td>1</td>\n",
              "      <td>him ?</td>\n",
              "      <td>dudes a pornstar. what do you think ?</td>\n",
              "    </tr>\n",
              "  </tbody>\n",
              "</table>\n",
              "</div>\n",
              "      <button class=\"colab-df-convert\" onclick=\"convertToInteractive('df-8ff2979b-86c4-4b7c-899b-d8c9df264552')\"\n",
              "              title=\"Convert this dataframe to an interactive table.\"\n",
              "              style=\"display:none;\">\n",
              "        \n",
              "  <svg xmlns=\"http://www.w3.org/2000/svg\" height=\"24px\"viewBox=\"0 0 24 24\"\n",
              "       width=\"24px\">\n",
              "    <path d=\"M0 0h24v24H0V0z\" fill=\"none\"/>\n",
              "    <path d=\"M18.56 5.44l.94 2.06.94-2.06 2.06-.94-2.06-.94-.94-2.06-.94 2.06-2.06.94zm-11 1L8.5 8.5l.94-2.06 2.06-.94-2.06-.94L8.5 2.5l-.94 2.06-2.06.94zm10 10l.94 2.06.94-2.06 2.06-.94-2.06-.94-.94-2.06-.94 2.06-2.06.94z\"/><path d=\"M17.41 7.96l-1.37-1.37c-.4-.4-.92-.59-1.43-.59-.52 0-1.04.2-1.43.59L10.3 9.45l-7.72 7.72c-.78.78-.78 2.05 0 2.83L4 21.41c.39.39.9.59 1.41.59.51 0 1.02-.2 1.41-.59l7.78-7.78 2.81-2.81c.8-.78.8-2.07 0-2.86zM5.41 20L4 18.59l7.72-7.72 1.47 1.35L5.41 20z\"/>\n",
              "  </svg>\n",
              "      </button>\n",
              "      \n",
              "  <style>\n",
              "    .colab-df-container {\n",
              "      display:flex;\n",
              "      flex-wrap:wrap;\n",
              "      gap: 12px;\n",
              "    }\n",
              "\n",
              "    .colab-df-convert {\n",
              "      background-color: #E8F0FE;\n",
              "      border: none;\n",
              "      border-radius: 50%;\n",
              "      cursor: pointer;\n",
              "      display: none;\n",
              "      fill: #1967D2;\n",
              "      height: 32px;\n",
              "      padding: 0 0 0 0;\n",
              "      width: 32px;\n",
              "    }\n",
              "\n",
              "    .colab-df-convert:hover {\n",
              "      background-color: #E2EBFA;\n",
              "      box-shadow: 0px 1px 2px rgba(60, 64, 67, 0.3), 0px 1px 3px 1px rgba(60, 64, 67, 0.15);\n",
              "      fill: #174EA6;\n",
              "    }\n",
              "\n",
              "    [theme=dark] .colab-df-convert {\n",
              "      background-color: #3B4455;\n",
              "      fill: #D2E3FC;\n",
              "    }\n",
              "\n",
              "    [theme=dark] .colab-df-convert:hover {\n",
              "      background-color: #434B5C;\n",
              "      box-shadow: 0px 1px 3px 1px rgba(0, 0, 0, 0.15);\n",
              "      filter: drop-shadow(0px 1px 2px rgba(0, 0, 0, 0.3));\n",
              "      fill: #FFFFFF;\n",
              "    }\n",
              "  </style>\n",
              "\n",
              "      <script>\n",
              "        const buttonEl =\n",
              "          document.querySelector('#df-8ff2979b-86c4-4b7c-899b-d8c9df264552 button.colab-df-convert');\n",
              "        buttonEl.style.display =\n",
              "          google.colab.kernel.accessAllowed ? 'block' : 'none';\n",
              "\n",
              "        async function convertToInteractive(key) {\n",
              "          const element = document.querySelector('#df-8ff2979b-86c4-4b7c-899b-d8c9df264552');\n",
              "          const dataTable =\n",
              "            await google.colab.kernel.invokeFunction('convertToInteractive',\n",
              "                                                     [key], {});\n",
              "          if (!dataTable) return;\n",
              "\n",
              "          const docLinkHtml = 'Like what you see? Visit the ' +\n",
              "            '<a target=\"_blank\" href=https://colab.research.google.com/notebooks/data_table.ipynb>data table notebook</a>'\n",
              "            + ' to learn more about interactive tables.';\n",
              "          element.innerHTML = '';\n",
              "          dataTable['output_type'] = 'display_data';\n",
              "          await google.colab.output.renderOutput(dataTable, element);\n",
              "          const docLink = document.createElement('div');\n",
              "          docLink.innerHTML = docLinkHtml;\n",
              "          element.appendChild(docLink);\n",
              "        }\n",
              "      </script>\n",
              "    </div>\n",
              "  </div>\n",
              "  "
            ],
            "text/plain": [
              "       label                                            comment  \\\n",
              "36483      1  the government needs to invest in games like t...   \n",
              "26863      1        just wait until tomorrow to install it then   \n",
              "31097      1  yes , definitely working like a game that was ...   \n",
              "28787      1                              i am being sarcastic.   \n",
              "49524      1           pleb..still using a phone to call people   \n",
              "33721      1                 meh frankenstein is not important.   \n",
              "48794      1  asexuality is the one true sexuality and all e...   \n",
              "29648      1              i wish my build could look like that.   \n",
              "36154      1                    this appears to be a floyd rose   \n",
              "27157      1                                              him ?   \n",
              "\n",
              "                                          parent_comment  \n",
              "36483                   do not let pavee point see this.  \n",
              "26863  i thought os updates were on tuesdays...wth ap...  \n",
              "31097  welcome to the 5th season of our beta , do not...  \n",
              "28787  can not tell if this post is sarcastic or mons...  \n",
              "49524  my phone , it is from 2012 and cost around $12...  \n",
              "33721                      mary shelley is also missing.  \n",
              "48794  bisexuals , heterosexuals , homosexuals... are...  \n",
              "29648  is this really the best stock image they could...  \n",
              "36154            what is this and is there an easy fix ?  \n",
              "27157              dudes a pornstar. what do you think ?  "
            ]
          },
          "execution_count": 15,
          "metadata": {},
          "output_type": "execute_result"
        }
      ],
      "source": [
        "preprocessed_data[preprocessed_data['label']==1].sample(10)"
      ]
    },
    {
      "cell_type": "code",
      "execution_count": null,
      "metadata": {
        "colab": {
          "base_uri": "https://localhost:8080/",
          "height": 363
        },
        "id": "RxYmp2FSrGaM",
        "outputId": "03914d8c-cf40-4f01-b2a3-95d446d18fdd"
      },
      "outputs": [
        {
          "data": {
            "text/html": [
              "\n",
              "  <div id=\"df-8335c65d-bb36-466f-b999-7b198586885d\">\n",
              "    <div class=\"colab-df-container\">\n",
              "      <div>\n",
              "<style scoped>\n",
              "    .dataframe tbody tr th:only-of-type {\n",
              "        vertical-align: middle;\n",
              "    }\n",
              "\n",
              "    .dataframe tbody tr th {\n",
              "        vertical-align: top;\n",
              "    }\n",
              "\n",
              "    .dataframe thead th {\n",
              "        text-align: right;\n",
              "    }\n",
              "</style>\n",
              "<table border=\"1\" class=\"dataframe\">\n",
              "  <thead>\n",
              "    <tr style=\"text-align: right;\">\n",
              "      <th></th>\n",
              "      <th>label</th>\n",
              "      <th>comment</th>\n",
              "      <th>parent_comment</th>\n",
              "    </tr>\n",
              "  </thead>\n",
              "  <tbody>\n",
              "    <tr>\n",
              "      <th>8505</th>\n",
              "      <td>0</td>\n",
              "      <td>it should be a rule that only verified users m...</td>\n",
              "      <td>maybe they could make a rule that only verifie...</td>\n",
              "    </tr>\n",
              "    <tr>\n",
              "      <th>3822</th>\n",
              "      <td>0</td>\n",
              "      <td>what , is it , weird , for one , sentence , to...</td>\n",
              "      <td>kinda like you with punctuation ?</td>\n",
              "    </tr>\n",
              "    <tr>\n",
              "      <th>11484</th>\n",
              "      <td>0</td>\n",
              "      <td>a childish clown can exist.</td>\n",
              "      <td>clown or child can not be both : )</td>\n",
              "    </tr>\n",
              "    <tr>\n",
              "      <th>22542</th>\n",
              "      <td>0</td>\n",
              "      <td>we can only assume so</td>\n",
              "      <td>so the stream is going to reveal the last rema...</td>\n",
              "    </tr>\n",
              "    <tr>\n",
              "      <th>21076</th>\n",
              "      <td>0</td>\n",
              "      <td>he was the chosen one</td>\n",
              "      <td>obiwankenobinoooooooo.gif</td>\n",
              "    </tr>\n",
              "    <tr>\n",
              "      <th>14992</th>\n",
              "      <td>0</td>\n",
              "      <td>i am jealous of anyone who has the ability to ...</td>\n",
              "      <td>it is already one hell of a cosign to be prais...</td>\n",
              "    </tr>\n",
              "    <tr>\n",
              "      <th>18826</th>\n",
              "      <td>0</td>\n",
              "      <td>except for that one wall comp that james rocks at</td>\n",
              "      <td>well everyone in the house is better at comps.</td>\n",
              "    </tr>\n",
              "    <tr>\n",
              "      <th>10968</th>\n",
              "      <td>0</td>\n",
              "      <td>in 2 and a bit month ' s everyone will be aski...</td>\n",
              "      <td>just realized the hand holding deshret ' s spi...</td>\n",
              "    </tr>\n",
              "    <tr>\n",
              "      <th>24338</th>\n",
              "      <td>0</td>\n",
              "      <td>i imagine the first human interaction with bro...</td>\n",
              "      <td>broccoli is confusing</td>\n",
              "    </tr>\n",
              "    <tr>\n",
              "      <th>22437</th>\n",
              "      <td>0</td>\n",
              "      <td>i havent even seen it , but in context - his w...</td>\n",
              "      <td>hendersons was much better</td>\n",
              "    </tr>\n",
              "  </tbody>\n",
              "</table>\n",
              "</div>\n",
              "      <button class=\"colab-df-convert\" onclick=\"convertToInteractive('df-8335c65d-bb36-466f-b999-7b198586885d')\"\n",
              "              title=\"Convert this dataframe to an interactive table.\"\n",
              "              style=\"display:none;\">\n",
              "        \n",
              "  <svg xmlns=\"http://www.w3.org/2000/svg\" height=\"24px\"viewBox=\"0 0 24 24\"\n",
              "       width=\"24px\">\n",
              "    <path d=\"M0 0h24v24H0V0z\" fill=\"none\"/>\n",
              "    <path d=\"M18.56 5.44l.94 2.06.94-2.06 2.06-.94-2.06-.94-.94-2.06-.94 2.06-2.06.94zm-11 1L8.5 8.5l.94-2.06 2.06-.94-2.06-.94L8.5 2.5l-.94 2.06-2.06.94zm10 10l.94 2.06.94-2.06 2.06-.94-2.06-.94-.94-2.06-.94 2.06-2.06.94z\"/><path d=\"M17.41 7.96l-1.37-1.37c-.4-.4-.92-.59-1.43-.59-.52 0-1.04.2-1.43.59L10.3 9.45l-7.72 7.72c-.78.78-.78 2.05 0 2.83L4 21.41c.39.39.9.59 1.41.59.51 0 1.02-.2 1.41-.59l7.78-7.78 2.81-2.81c.8-.78.8-2.07 0-2.86zM5.41 20L4 18.59l7.72-7.72 1.47 1.35L5.41 20z\"/>\n",
              "  </svg>\n",
              "      </button>\n",
              "      \n",
              "  <style>\n",
              "    .colab-df-container {\n",
              "      display:flex;\n",
              "      flex-wrap:wrap;\n",
              "      gap: 12px;\n",
              "    }\n",
              "\n",
              "    .colab-df-convert {\n",
              "      background-color: #E8F0FE;\n",
              "      border: none;\n",
              "      border-radius: 50%;\n",
              "      cursor: pointer;\n",
              "      display: none;\n",
              "      fill: #1967D2;\n",
              "      height: 32px;\n",
              "      padding: 0 0 0 0;\n",
              "      width: 32px;\n",
              "    }\n",
              "\n",
              "    .colab-df-convert:hover {\n",
              "      background-color: #E2EBFA;\n",
              "      box-shadow: 0px 1px 2px rgba(60, 64, 67, 0.3), 0px 1px 3px 1px rgba(60, 64, 67, 0.15);\n",
              "      fill: #174EA6;\n",
              "    }\n",
              "\n",
              "    [theme=dark] .colab-df-convert {\n",
              "      background-color: #3B4455;\n",
              "      fill: #D2E3FC;\n",
              "    }\n",
              "\n",
              "    [theme=dark] .colab-df-convert:hover {\n",
              "      background-color: #434B5C;\n",
              "      box-shadow: 0px 1px 3px 1px rgba(0, 0, 0, 0.15);\n",
              "      filter: drop-shadow(0px 1px 2px rgba(0, 0, 0, 0.3));\n",
              "      fill: #FFFFFF;\n",
              "    }\n",
              "  </style>\n",
              "\n",
              "      <script>\n",
              "        const buttonEl =\n",
              "          document.querySelector('#df-8335c65d-bb36-466f-b999-7b198586885d button.colab-df-convert');\n",
              "        buttonEl.style.display =\n",
              "          google.colab.kernel.accessAllowed ? 'block' : 'none';\n",
              "\n",
              "        async function convertToInteractive(key) {\n",
              "          const element = document.querySelector('#df-8335c65d-bb36-466f-b999-7b198586885d');\n",
              "          const dataTable =\n",
              "            await google.colab.kernel.invokeFunction('convertToInteractive',\n",
              "                                                     [key], {});\n",
              "          if (!dataTable) return;\n",
              "\n",
              "          const docLinkHtml = 'Like what you see? Visit the ' +\n",
              "            '<a target=\"_blank\" href=https://colab.research.google.com/notebooks/data_table.ipynb>data table notebook</a>'\n",
              "            + ' to learn more about interactive tables.';\n",
              "          element.innerHTML = '';\n",
              "          dataTable['output_type'] = 'display_data';\n",
              "          await google.colab.output.renderOutput(dataTable, element);\n",
              "          const docLink = document.createElement('div');\n",
              "          docLink.innerHTML = docLinkHtml;\n",
              "          element.appendChild(docLink);\n",
              "        }\n",
              "      </script>\n",
              "    </div>\n",
              "  </div>\n",
              "  "
            ],
            "text/plain": [
              "       label                                            comment  \\\n",
              "8505       0  it should be a rule that only verified users m...   \n",
              "3822       0  what , is it , weird , for one , sentence , to...   \n",
              "11484      0                        a childish clown can exist.   \n",
              "22542      0                              we can only assume so   \n",
              "21076      0                              he was the chosen one   \n",
              "14992      0  i am jealous of anyone who has the ability to ...   \n",
              "18826      0  except for that one wall comp that james rocks at   \n",
              "10968      0  in 2 and a bit month ' s everyone will be aski...   \n",
              "24338      0  i imagine the first human interaction with bro...   \n",
              "22437      0  i havent even seen it , but in context - his w...   \n",
              "\n",
              "                                          parent_comment  \n",
              "8505   maybe they could make a rule that only verifie...  \n",
              "3822                   kinda like you with punctuation ?  \n",
              "11484                 clown or child can not be both : )  \n",
              "22542  so the stream is going to reveal the last rema...  \n",
              "21076                          obiwankenobinoooooooo.gif  \n",
              "14992  it is already one hell of a cosign to be prais...  \n",
              "18826     well everyone in the house is better at comps.  \n",
              "10968  just realized the hand holding deshret ' s spi...  \n",
              "24338                              broccoli is confusing  \n",
              "22437                         hendersons was much better  "
            ]
          },
          "execution_count": 16,
          "metadata": {},
          "output_type": "execute_result"
        }
      ],
      "source": [
        "preprocessed_data[preprocessed_data['label']==0].sample(10)"
      ]
    },
    {
      "cell_type": "markdown",
      "source": [
        "### *Predicting the probability of sentence being sarcastic*"
      ],
      "metadata": {
        "id": "epG9SjJuQPzS"
      }
    },
    {
      "cell_type": "code",
      "execution_count": null,
      "metadata": {
        "colab": {
          "base_uri": "https://localhost:8080/"
        },
        "id": "Yp4klh52V3dD",
        "outputId": "94697afb-97e4-445e-b0d4-dabbb355def1"
      },
      "outputs": [
        {
          "name": "stdout",
          "output_type": "stream",
          "text": [
            "The probability of sent1 being sarcastic is 31.422 percent\n"
          ]
        }
      ],
      "source": [
        "# Case 1 : Universal statement\n",
        "sent1 = \"sun sets in the west\"\n",
        "sent1 = tokenizer.texts_to_sequences([sent1])\n",
        "sent1 = pad_sequences(sent1, maxlen = max_length)\n",
        "\n",
        "prediction = cnn_model.predict(sent1)\n",
        "print(\"The probability of sent1 being sarcastic is %.3f percent\"%(prediction[0][0]*100))"
      ]
    },
    {
      "cell_type": "code",
      "execution_count": null,
      "metadata": {
        "colab": {
          "base_uri": "https://localhost:8080/"
        },
        "id": "5ibtiAkNYfcq",
        "outputId": "47929ffa-46bb-4887-e722-0463c90557bf"
      },
      "outputs": [
        {
          "name": "stdout",
          "output_type": "stream",
          "text": [
            "The probability of sent2 being sarcastic is 88.537 percent\n"
          ]
        }
      ],
      "source": [
        "# Case 2 : Non-Sarcastic statement \n",
        "sent2 = \"totally untrue. hong kong english sucks.\"           # passing a value from parent_comment column\n",
        "sent2 = tokenizer.texts_to_sequences([sent2])\n",
        "sent2 = pad_sequences(sent2, maxlen = max_length)\n",
        "\n",
        "prediction = cnn_model.predict(sent2)\n",
        "print(\"The probability of sent2 being sarcastic is %.3f percent\"%(prediction[0][0]*100))"
      ]
    },
    {
      "cell_type": "code",
      "execution_count": null,
      "metadata": {
        "colab": {
          "base_uri": "https://localhost:8080/"
        },
        "id": "tcZUUrMlXt6h",
        "outputId": "a4d93d55-a771-4166-da3f-fee5b9eb3ea3"
      },
      "outputs": [
        {
          "name": "stdout",
          "output_type": "stream",
          "text": [
            "The probability of sent2_1 being sarcastic is 41.830 percent\n"
          ]
        }
      ],
      "source": [
        "# Case 2 : Non-Sarcastic statement \n",
        "sent2_1 = \"guess you have not heard malaysian or filipino english.\"      # passing a value from comment column\n",
        "sent2_1 = tokenizer.texts_to_sequences([sent2_1])\n",
        "sent2_1 = pad_sequences(sent2_1, maxlen = max_length)\n",
        "\n",
        "prediction = cnn_model.predict(sent2_1)\n",
        "print(\"The probability of sent2_1 being sarcastic is %.3f percent\"%(prediction[0][0]*100))"
      ]
    },
    {
      "cell_type": "code",
      "execution_count": null,
      "metadata": {
        "colab": {
          "base_uri": "https://localhost:8080/"
        },
        "id": "uoz5CkJJX-e6",
        "outputId": "ee933caf-60aa-4e9c-f797-8159a5567a9c"
      },
      "outputs": [
        {
          "name": "stdout",
          "output_type": "stream",
          "text": [
            "The probability of sent3 being sarcastic is 6.326 percent\n"
          ]
        }
      ],
      "source": [
        "# Case 3 : Sarcastic statement statement\n",
        "sent3 = \"5s teams and 3s teams names are swapped with each other\"             # passing a value from parent_comment column\n",
        "sent3 = tokenizer.texts_to_sequences([sent3])\n",
        "sent3 = pad_sequences(sent3, maxlen = max_length)\n",
        "\n",
        "prediction = cnn_model.predict(sent3)\n",
        "print(\"The probability of sent3 being sarcastic is %.3f percent\"%(prediction[0][0]*100))"
      ]
    },
    {
      "cell_type": "code",
      "execution_count": null,
      "metadata": {
        "colab": {
          "base_uri": "https://localhost:8080/"
        },
        "id": "xKj4qX3J-3M1",
        "outputId": "7651a697-79ea-4e7a-c30c-b1760b35d905"
      },
      "outputs": [
        {
          "name": "stdout",
          "output_type": "stream",
          "text": [
            "The probability of sent3_1 being sarcastic is 93.118 percent\n"
          ]
        }
      ],
      "source": [
        "# Case 3 : Sarcastic statement statement\n",
        "sent3_1 = \"not even riot cares about ranked teams\"           # passing a value from comment column\n",
        "sent3_1 = tokenizer.texts_to_sequences([sent3_1])\n",
        "sent3_1 = pad_sequences(sent3_1, maxlen = max_length)\n",
        "\n",
        "prediction = cnn_model.predict(sent3_1)\n",
        "print(\"The probability of sent3_1 being sarcastic is %.3f percent\"%(prediction[0][0]*100))"
      ]
    },
    {
      "cell_type": "markdown",
      "metadata": {
        "id": "aoA-bBWnNAjV"
      },
      "source": [
        "# **Let's perform CNN for 'parent_comment'**"
      ]
    },
    {
      "cell_type": "markdown",
      "metadata": {
        "id": "YVgd428ONBTO"
      },
      "source": [
        "## Reading Inputs for the model"
      ]
    },
    {
      "cell_type": "code",
      "execution_count": null,
      "metadata": {
        "id": "wvEufbVnNDX8"
      },
      "outputs": [],
      "source": [
        "EMBED_SIZE = 50\n",
        "max_length = 1000\n",
        "VOCAB_SIZE = 10000\n",
        "\n",
        "filters = 32\n",
        "kernel_size = 3\n",
        "hidden_dims = 250"
      ]
    },
    {
      "cell_type": "code",
      "execution_count": null,
      "metadata": {
        "id": "wGvapKS2NDX9"
      },
      "outputs": [],
      "source": [
        "X_train, X_test, y_train, y_test = train_test_split(preprocessed_data['parent_comment'], preprocessed_data['label'], test_size=0.2, random_state=42)\n",
        "\n",
        "tokenizer = text.Tokenizer(num_words=VOCAB_SIZE)\n",
        "tokenizer.fit_on_texts(X_train)\n",
        "X_train = tokenizer.texts_to_sequences(X_train)\n",
        "X_test = tokenizer.texts_to_sequences(X_test)\n",
        "\n",
        "X_train = sequence.pad_sequences(X_train, maxlen=max_length)\n",
        "X_test = sequence.pad_sequences(X_test, maxlen=max_length)"
      ]
    },
    {
      "cell_type": "markdown",
      "metadata": {
        "id": "86MLSaWUNete"
      },
      "source": [
        "## Building the Model"
      ]
    },
    {
      "cell_type": "code",
      "execution_count": null,
      "metadata": {
        "id": "ZUw8CcTvNetf"
      },
      "outputs": [],
      "source": [
        "cnn_model_parent = Sequential()\n",
        "cnn_model_parent.add(Embedding(VOCAB_SIZE,EMBED_SIZE,input_length=max_length))\n",
        "cnn_model_parent.add(Dropout(.5))\n",
        "cnn_model_parent.add(Conv1D(filters, kernel_size,padding = 'valid', activation = 'relu'))\n",
        "cnn_model_parent.add(MaxPooling1D())\n",
        "cnn_model_parent.add(Conv1D(filters, kernel_size,padding = 'valid', activation = 'relu'))\n",
        "cnn_model_parent.add(MaxPooling1D())\n",
        "cnn_model_parent.add(Flatten())\n",
        "cnn_model_parent.add(Dense(hidden_dims, activation ='relu'))\n",
        "cnn_model_parent.add(Dropout(.5))\n",
        "cnn_model_parent.add(Dense(1, activation='sigmoid'))"
      ]
    },
    {
      "cell_type": "code",
      "execution_count": null,
      "metadata": {
        "colab": {
          "base_uri": "https://localhost:8080/"
        },
        "id": "hKkz85GENetg",
        "outputId": "57c85730-717d-46be-fed8-12a9f2e1f53d"
      },
      "outputs": [
        {
          "name": "stdout",
          "output_type": "stream",
          "text": [
            "Model: \"sequential_2\"\n",
            "_________________________________________________________________\n",
            " Layer (type)                Output Shape              Param #   \n",
            "=================================================================\n",
            " embedding_2 (Embedding)     (None, 1000, 50)          500000    \n",
            "                                                                 \n",
            " dropout_4 (Dropout)         (None, 1000, 50)          0         \n",
            "                                                                 \n",
            " conv1d_4 (Conv1D)           (None, 998, 32)           4832      \n",
            "                                                                 \n",
            " max_pooling1d_4 (MaxPooling  (None, 499, 32)          0         \n",
            " 1D)                                                             \n",
            "                                                                 \n",
            " conv1d_5 (Conv1D)           (None, 497, 32)           3104      \n",
            "                                                                 \n",
            " max_pooling1d_5 (MaxPooling  (None, 248, 32)          0         \n",
            " 1D)                                                             \n",
            "                                                                 \n",
            " flatten_2 (Flatten)         (None, 7936)              0         \n",
            "                                                                 \n",
            " dense_4 (Dense)             (None, 250)               1984250   \n",
            "                                                                 \n",
            " dropout_5 (Dropout)         (None, 250)               0         \n",
            "                                                                 \n",
            " dense_5 (Dense)             (None, 1)                 251       \n",
            "                                                                 \n",
            "=================================================================\n",
            "Total params: 2,492,437\n",
            "Trainable params: 2,492,437\n",
            "Non-trainable params: 0\n",
            "_________________________________________________________________\n"
          ]
        }
      ],
      "source": [
        "cnn_model_parent.compile(loss='binary_crossentropy', optimizer='adam', metrics=['accuracy'])\n",
        "cnn_model_parent.summary()"
      ]
    },
    {
      "cell_type": "code",
      "execution_count": null,
      "metadata": {
        "colab": {
          "base_uri": "https://localhost:8080/",
          "height": 1000
        },
        "id": "c_g54GbKNeth",
        "outputId": "750e21ae-c4dd-4b17-ed90-fbab0cad05f9"
      },
      "outputs": [
        {
          "data": {
            "image/svg+xml": "<svg height=\"737pt\" viewBox=\"0.00 0.00 410.00 885.00\" width=\"342pt\" xmlns=\"http://www.w3.org/2000/svg\" xmlns:xlink=\"http://www.w3.org/1999/xlink\">\n<g class=\"graph\" id=\"graph0\" transform=\"scale(.8333 .8333) rotate(0) translate(4 881)\">\n<title>G</title>\n<polygon fill=\"#ffffff\" points=\"-4,4 -4,-881 406,-881 406,4 -4,4\" stroke=\"transparent\"/>\n<!-- 139994836384528 -->\n<g class=\"node\" id=\"node1\">\n<title>139994836384528</title>\n<polygon fill=\"none\" points=\"1,-830.5 1,-876.5 401,-876.5 401,-830.5 1,-830.5\" stroke=\"#000000\"/>\n<text fill=\"#000000\" font-family=\"Times,serif\" font-size=\"14.00\" text-anchor=\"middle\" x=\"68\" y=\"-861.3\">embedding_2_input</text>\n<polyline fill=\"none\" points=\"1,-853.5 135,-853.5 \" stroke=\"#000000\"/>\n<text fill=\"#000000\" font-family=\"Times,serif\" font-size=\"14.00\" text-anchor=\"middle\" x=\"68\" y=\"-838.3\">InputLayer</text>\n<polyline fill=\"none\" points=\"135,-830.5 135,-876.5 \" stroke=\"#000000\"/>\n<text fill=\"#000000\" font-family=\"Times,serif\" font-size=\"14.00\" text-anchor=\"middle\" x=\"164\" y=\"-861.3\">input:</text>\n<polyline fill=\"none\" points=\"135,-853.5 193,-853.5 \" stroke=\"#000000\"/>\n<text fill=\"#000000\" font-family=\"Times,serif\" font-size=\"14.00\" text-anchor=\"middle\" x=\"164\" y=\"-838.3\">output:</text>\n<polyline fill=\"none\" points=\"193,-830.5 193,-876.5 \" stroke=\"#000000\"/>\n<text fill=\"#000000\" font-family=\"Times,serif\" font-size=\"14.00\" text-anchor=\"middle\" x=\"245\" y=\"-849.8\">[(None, 1000)]</text>\n<polyline fill=\"none\" points=\"297,-830.5 297,-876.5 \" stroke=\"#000000\"/>\n<text fill=\"#000000\" font-family=\"Times,serif\" font-size=\"14.00\" text-anchor=\"middle\" x=\"349\" y=\"-849.8\">[(None, 1000)]</text>\n</g>\n<!-- 139994836364368 -->\n<g class=\"node\" id=\"node2\">\n<title>139994836364368</title>\n<polygon fill=\"none\" points=\"18,-747.5 18,-793.5 384,-793.5 384,-747.5 18,-747.5\" stroke=\"#000000\"/>\n<text fill=\"#000000\" font-family=\"Times,serif\" font-size=\"14.00\" text-anchor=\"middle\" x=\"66\" y=\"-778.3\">embedding_2</text>\n<polyline fill=\"none\" points=\"18,-770.5 114,-770.5 \" stroke=\"#000000\"/>\n<text fill=\"#000000\" font-family=\"Times,serif\" font-size=\"14.00\" text-anchor=\"middle\" x=\"66\" y=\"-755.3\">Embedding</text>\n<polyline fill=\"none\" points=\"114,-747.5 114,-793.5 \" stroke=\"#000000\"/>\n<text fill=\"#000000\" font-family=\"Times,serif\" font-size=\"14.00\" text-anchor=\"middle\" x=\"143\" y=\"-778.3\">input:</text>\n<polyline fill=\"none\" points=\"114,-770.5 172,-770.5 \" stroke=\"#000000\"/>\n<text fill=\"#000000\" font-family=\"Times,serif\" font-size=\"14.00\" text-anchor=\"middle\" x=\"143\" y=\"-755.3\">output:</text>\n<polyline fill=\"none\" points=\"172,-747.5 172,-793.5 \" stroke=\"#000000\"/>\n<text fill=\"#000000\" font-family=\"Times,serif\" font-size=\"14.00\" text-anchor=\"middle\" x=\"219.5\" y=\"-766.8\">(None, 1000)</text>\n<polyline fill=\"none\" points=\"267,-747.5 267,-793.5 \" stroke=\"#000000\"/>\n<text fill=\"#000000\" font-family=\"Times,serif\" font-size=\"14.00\" text-anchor=\"middle\" x=\"325.5\" y=\"-766.8\">(None, 1000, 50)</text>\n</g>\n<!-- 139994836384528&#45;&gt;139994836364368 -->\n<g class=\"edge\" id=\"edge1\">\n<title>139994836384528-&gt;139994836364368</title>\n<path d=\"M201,-830.3799C201,-822.1745 201,-812.7679 201,-803.8786\" fill=\"none\" stroke=\"#000000\"/>\n<polygon fill=\"#000000\" points=\"204.5001,-803.784 201,-793.784 197.5001,-803.784 204.5001,-803.784\" stroke=\"#000000\"/>\n</g>\n<!-- 139994837658384 -->\n<g class=\"node\" id=\"node3\">\n<title>139994837658384</title>\n<polygon fill=\"none\" points=\"16.5,-664.5 16.5,-710.5 385.5,-710.5 385.5,-664.5 16.5,-664.5\" stroke=\"#000000\"/>\n<text fill=\"#000000\" font-family=\"Times,serif\" font-size=\"14.00\" text-anchor=\"middle\" x=\"55\" y=\"-695.3\">dropout_4</text>\n<polyline fill=\"none\" points=\"16.5,-687.5 93.5,-687.5 \" stroke=\"#000000\"/>\n<text fill=\"#000000\" font-family=\"Times,serif\" font-size=\"14.00\" text-anchor=\"middle\" x=\"55\" y=\"-672.3\">Dropout</text>\n<polyline fill=\"none\" points=\"93.5,-664.5 93.5,-710.5 \" stroke=\"#000000\"/>\n<text fill=\"#000000\" font-family=\"Times,serif\" font-size=\"14.00\" text-anchor=\"middle\" x=\"122.5\" y=\"-695.3\">input:</text>\n<polyline fill=\"none\" points=\"93.5,-687.5 151.5,-687.5 \" stroke=\"#000000\"/>\n<text fill=\"#000000\" font-family=\"Times,serif\" font-size=\"14.00\" text-anchor=\"middle\" x=\"122.5\" y=\"-672.3\">output:</text>\n<polyline fill=\"none\" points=\"151.5,-664.5 151.5,-710.5 \" stroke=\"#000000\"/>\n<text fill=\"#000000\" font-family=\"Times,serif\" font-size=\"14.00\" text-anchor=\"middle\" x=\"210\" y=\"-683.8\">(None, 1000, 50)</text>\n<polyline fill=\"none\" points=\"268.5,-664.5 268.5,-710.5 \" stroke=\"#000000\"/>\n<text fill=\"#000000\" font-family=\"Times,serif\" font-size=\"14.00\" text-anchor=\"middle\" x=\"327\" y=\"-683.8\">(None, 1000, 50)</text>\n</g>\n<!-- 139994836364368&#45;&gt;139994837658384 -->\n<g class=\"edge\" id=\"edge2\">\n<title>139994836364368-&gt;139994837658384</title>\n<path d=\"M201,-747.3799C201,-739.1745 201,-729.7679 201,-720.8786\" fill=\"none\" stroke=\"#000000\"/>\n<polygon fill=\"#000000\" points=\"204.5001,-720.784 201,-710.784 197.5001,-720.784 204.5001,-720.784\" stroke=\"#000000\"/>\n</g>\n<!-- 139994837628880 -->\n<g class=\"node\" id=\"node4\">\n<title>139994837628880</title>\n<polygon fill=\"none\" points=\"21,-581.5 21,-627.5 381,-627.5 381,-581.5 21,-581.5\" stroke=\"#000000\"/>\n<text fill=\"#000000\" font-family=\"Times,serif\" font-size=\"14.00\" text-anchor=\"middle\" x=\"58.5\" y=\"-612.3\">conv1d_4</text>\n<polyline fill=\"none\" points=\"21,-604.5 96,-604.5 \" stroke=\"#000000\"/>\n<text fill=\"#000000\" font-family=\"Times,serif\" font-size=\"14.00\" text-anchor=\"middle\" x=\"58.5\" y=\"-589.3\">Conv1D</text>\n<polyline fill=\"none\" points=\"96,-581.5 96,-627.5 \" stroke=\"#000000\"/>\n<text fill=\"#000000\" font-family=\"Times,serif\" font-size=\"14.00\" text-anchor=\"middle\" x=\"125\" y=\"-612.3\">input:</text>\n<polyline fill=\"none\" points=\"96,-604.5 154,-604.5 \" stroke=\"#000000\"/>\n<text fill=\"#000000\" font-family=\"Times,serif\" font-size=\"14.00\" text-anchor=\"middle\" x=\"125\" y=\"-589.3\">output:</text>\n<polyline fill=\"none\" points=\"154,-581.5 154,-627.5 \" stroke=\"#000000\"/>\n<text fill=\"#000000\" font-family=\"Times,serif\" font-size=\"14.00\" text-anchor=\"middle\" x=\"212.5\" y=\"-600.8\">(None, 1000, 50)</text>\n<polyline fill=\"none\" points=\"271,-581.5 271,-627.5 \" stroke=\"#000000\"/>\n<text fill=\"#000000\" font-family=\"Times,serif\" font-size=\"14.00\" text-anchor=\"middle\" x=\"326\" y=\"-600.8\">(None, 998, 32)</text>\n</g>\n<!-- 139994837658384&#45;&gt;139994837628880 -->\n<g class=\"edge\" id=\"edge3\">\n<title>139994837658384-&gt;139994837628880</title>\n<path d=\"M201,-664.3799C201,-656.1745 201,-646.7679 201,-637.8786\" fill=\"none\" stroke=\"#000000\"/>\n<polygon fill=\"#000000\" points=\"204.5001,-637.784 201,-627.784 197.5001,-637.784 204.5001,-637.784\" stroke=\"#000000\"/>\n</g>\n<!-- 139994837630544 -->\n<g class=\"node\" id=\"node5\">\n<title>139994837630544</title>\n<polygon fill=\"none\" points=\"0,-498.5 0,-544.5 402,-544.5 402,-498.5 0,-498.5\" stroke=\"#000000\"/>\n<text fill=\"#000000\" font-family=\"Times,serif\" font-size=\"14.00\" text-anchor=\"middle\" x=\"62\" y=\"-529.3\">max_pooling1d_4</text>\n<polyline fill=\"none\" points=\"0,-521.5 124,-521.5 \" stroke=\"#000000\"/>\n<text fill=\"#000000\" font-family=\"Times,serif\" font-size=\"14.00\" text-anchor=\"middle\" x=\"62\" y=\"-506.3\">MaxPooling1D</text>\n<polyline fill=\"none\" points=\"124,-498.5 124,-544.5 \" stroke=\"#000000\"/>\n<text fill=\"#000000\" font-family=\"Times,serif\" font-size=\"14.00\" text-anchor=\"middle\" x=\"153\" y=\"-529.3\">input:</text>\n<polyline fill=\"none\" points=\"124,-521.5 182,-521.5 \" stroke=\"#000000\"/>\n<text fill=\"#000000\" font-family=\"Times,serif\" font-size=\"14.00\" text-anchor=\"middle\" x=\"153\" y=\"-506.3\">output:</text>\n<polyline fill=\"none\" points=\"182,-498.5 182,-544.5 \" stroke=\"#000000\"/>\n<text fill=\"#000000\" font-family=\"Times,serif\" font-size=\"14.00\" text-anchor=\"middle\" x=\"237\" y=\"-517.8\">(None, 998, 32)</text>\n<polyline fill=\"none\" points=\"292,-498.5 292,-544.5 \" stroke=\"#000000\"/>\n<text fill=\"#000000\" font-family=\"Times,serif\" font-size=\"14.00\" text-anchor=\"middle\" x=\"347\" y=\"-517.8\">(None, 499, 32)</text>\n</g>\n<!-- 139994837628880&#45;&gt;139994837630544 -->\n<g class=\"edge\" id=\"edge4\">\n<title>139994837628880-&gt;139994837630544</title>\n<path d=\"M201,-581.3799C201,-573.1745 201,-563.7679 201,-554.8786\" fill=\"none\" stroke=\"#000000\"/>\n<polygon fill=\"#000000\" points=\"204.5001,-554.784 201,-544.784 197.5001,-554.784 204.5001,-554.784\" stroke=\"#000000\"/>\n</g>\n<!-- 139994459136208 -->\n<g class=\"node\" id=\"node6\">\n<title>139994459136208</title>\n<polygon fill=\"none\" points=\"24.5,-415.5 24.5,-461.5 377.5,-461.5 377.5,-415.5 24.5,-415.5\" stroke=\"#000000\"/>\n<text fill=\"#000000\" font-family=\"Times,serif\" font-size=\"14.00\" text-anchor=\"middle\" x=\"62\" y=\"-446.3\">conv1d_5</text>\n<polyline fill=\"none\" points=\"24.5,-438.5 99.5,-438.5 \" stroke=\"#000000\"/>\n<text fill=\"#000000\" font-family=\"Times,serif\" font-size=\"14.00\" text-anchor=\"middle\" x=\"62\" y=\"-423.3\">Conv1D</text>\n<polyline fill=\"none\" points=\"99.5,-415.5 99.5,-461.5 \" stroke=\"#000000\"/>\n<text fill=\"#000000\" font-family=\"Times,serif\" font-size=\"14.00\" text-anchor=\"middle\" x=\"128.5\" y=\"-446.3\">input:</text>\n<polyline fill=\"none\" points=\"99.5,-438.5 157.5,-438.5 \" stroke=\"#000000\"/>\n<text fill=\"#000000\" font-family=\"Times,serif\" font-size=\"14.00\" text-anchor=\"middle\" x=\"128.5\" y=\"-423.3\">output:</text>\n<polyline fill=\"none\" points=\"157.5,-415.5 157.5,-461.5 \" stroke=\"#000000\"/>\n<text fill=\"#000000\" font-family=\"Times,serif\" font-size=\"14.00\" text-anchor=\"middle\" x=\"212.5\" y=\"-434.8\">(None, 499, 32)</text>\n<polyline fill=\"none\" points=\"267.5,-415.5 267.5,-461.5 \" stroke=\"#000000\"/>\n<text fill=\"#000000\" font-family=\"Times,serif\" font-size=\"14.00\" text-anchor=\"middle\" x=\"322.5\" y=\"-434.8\">(None, 497, 32)</text>\n</g>\n<!-- 139994837630544&#45;&gt;139994459136208 -->\n<g class=\"edge\" id=\"edge5\">\n<title>139994837630544-&gt;139994459136208</title>\n<path d=\"M201,-498.3799C201,-490.1745 201,-480.7679 201,-471.8786\" fill=\"none\" stroke=\"#000000\"/>\n<polygon fill=\"#000000\" points=\"204.5001,-471.784 201,-461.784 197.5001,-471.784 204.5001,-471.784\" stroke=\"#000000\"/>\n</g>\n<!-- 139992382470352 -->\n<g class=\"node\" id=\"node7\">\n<title>139992382470352</title>\n<polygon fill=\"none\" points=\"0,-332.5 0,-378.5 402,-378.5 402,-332.5 0,-332.5\" stroke=\"#000000\"/>\n<text fill=\"#000000\" font-family=\"Times,serif\" font-size=\"14.00\" text-anchor=\"middle\" x=\"62\" y=\"-363.3\">max_pooling1d_5</text>\n<polyline fill=\"none\" points=\"0,-355.5 124,-355.5 \" stroke=\"#000000\"/>\n<text fill=\"#000000\" font-family=\"Times,serif\" font-size=\"14.00\" text-anchor=\"middle\" x=\"62\" y=\"-340.3\">MaxPooling1D</text>\n<polyline fill=\"none\" points=\"124,-332.5 124,-378.5 \" stroke=\"#000000\"/>\n<text fill=\"#000000\" font-family=\"Times,serif\" font-size=\"14.00\" text-anchor=\"middle\" x=\"153\" y=\"-363.3\">input:</text>\n<polyline fill=\"none\" points=\"124,-355.5 182,-355.5 \" stroke=\"#000000\"/>\n<text fill=\"#000000\" font-family=\"Times,serif\" font-size=\"14.00\" text-anchor=\"middle\" x=\"153\" y=\"-340.3\">output:</text>\n<polyline fill=\"none\" points=\"182,-332.5 182,-378.5 \" stroke=\"#000000\"/>\n<text fill=\"#000000\" font-family=\"Times,serif\" font-size=\"14.00\" text-anchor=\"middle\" x=\"237\" y=\"-351.8\">(None, 497, 32)</text>\n<polyline fill=\"none\" points=\"292,-332.5 292,-378.5 \" stroke=\"#000000\"/>\n<text fill=\"#000000\" font-family=\"Times,serif\" font-size=\"14.00\" text-anchor=\"middle\" x=\"347\" y=\"-351.8\">(None, 248, 32)</text>\n</g>\n<!-- 139994459136208&#45;&gt;139992382470352 -->\n<g class=\"edge\" id=\"edge6\">\n<title>139994459136208-&gt;139992382470352</title>\n<path d=\"M201,-415.3799C201,-407.1745 201,-397.7679 201,-388.8786\" fill=\"none\" stroke=\"#000000\"/>\n<polygon fill=\"#000000\" points=\"204.5001,-388.784 201,-378.784 197.5001,-388.784 204.5001,-388.784\" stroke=\"#000000\"/>\n</g>\n<!-- 139992382457936 -->\n<g class=\"node\" id=\"node8\">\n<title>139992382457936</title>\n<polygon fill=\"none\" points=\"36,-249.5 36,-295.5 366,-295.5 366,-249.5 36,-249.5\" stroke=\"#000000\"/>\n<text fill=\"#000000\" font-family=\"Times,serif\" font-size=\"14.00\" text-anchor=\"middle\" x=\"69.5\" y=\"-280.3\">flatten_2</text>\n<polyline fill=\"none\" points=\"36,-272.5 103,-272.5 \" stroke=\"#000000\"/>\n<text fill=\"#000000\" font-family=\"Times,serif\" font-size=\"14.00\" text-anchor=\"middle\" x=\"69.5\" y=\"-257.3\">Flatten</text>\n<polyline fill=\"none\" points=\"103,-249.5 103,-295.5 \" stroke=\"#000000\"/>\n<text fill=\"#000000\" font-family=\"Times,serif\" font-size=\"14.00\" text-anchor=\"middle\" x=\"132\" y=\"-280.3\">input:</text>\n<polyline fill=\"none\" points=\"103,-272.5 161,-272.5 \" stroke=\"#000000\"/>\n<text fill=\"#000000\" font-family=\"Times,serif\" font-size=\"14.00\" text-anchor=\"middle\" x=\"132\" y=\"-257.3\">output:</text>\n<polyline fill=\"none\" points=\"161,-249.5 161,-295.5 \" stroke=\"#000000\"/>\n<text fill=\"#000000\" font-family=\"Times,serif\" font-size=\"14.00\" text-anchor=\"middle\" x=\"216\" y=\"-268.8\">(None, 248, 32)</text>\n<polyline fill=\"none\" points=\"271,-249.5 271,-295.5 \" stroke=\"#000000\"/>\n<text fill=\"#000000\" font-family=\"Times,serif\" font-size=\"14.00\" text-anchor=\"middle\" x=\"318.5\" y=\"-268.8\">(None, 7936)</text>\n</g>\n<!-- 139992382470352&#45;&gt;139992382457936 -->\n<g class=\"edge\" id=\"edge7\">\n<title>139992382470352-&gt;139992382457936</title>\n<path d=\"M201,-332.3799C201,-324.1745 201,-314.7679 201,-305.8786\" fill=\"none\" stroke=\"#000000\"/>\n<polygon fill=\"#000000\" points=\"204.5001,-305.784 201,-295.784 197.5001,-305.784 204.5001,-305.784\" stroke=\"#000000\"/>\n</g>\n<!-- 139992382457488 -->\n<g class=\"node\" id=\"node9\">\n<title>139992382457488</title>\n<polygon fill=\"none\" points=\"49,-166.5 49,-212.5 353,-212.5 353,-166.5 49,-166.5\" stroke=\"#000000\"/>\n<text fill=\"#000000\" font-family=\"Times,serif\" font-size=\"14.00\" text-anchor=\"middle\" x=\"81\" y=\"-197.3\">dense_4</text>\n<polyline fill=\"none\" points=\"49,-189.5 113,-189.5 \" stroke=\"#000000\"/>\n<text fill=\"#000000\" font-family=\"Times,serif\" font-size=\"14.00\" text-anchor=\"middle\" x=\"81\" y=\"-174.3\">Dense</text>\n<polyline fill=\"none\" points=\"113,-166.5 113,-212.5 \" stroke=\"#000000\"/>\n<text fill=\"#000000\" font-family=\"Times,serif\" font-size=\"14.00\" text-anchor=\"middle\" x=\"142\" y=\"-197.3\">input:</text>\n<polyline fill=\"none\" points=\"113,-189.5 171,-189.5 \" stroke=\"#000000\"/>\n<text fill=\"#000000\" font-family=\"Times,serif\" font-size=\"14.00\" text-anchor=\"middle\" x=\"142\" y=\"-174.3\">output:</text>\n<polyline fill=\"none\" points=\"171,-166.5 171,-212.5 \" stroke=\"#000000\"/>\n<text fill=\"#000000\" font-family=\"Times,serif\" font-size=\"14.00\" text-anchor=\"middle\" x=\"218.5\" y=\"-185.8\">(None, 7936)</text>\n<polyline fill=\"none\" points=\"266,-166.5 266,-212.5 \" stroke=\"#000000\"/>\n<text fill=\"#000000\" font-family=\"Times,serif\" font-size=\"14.00\" text-anchor=\"middle\" x=\"309.5\" y=\"-185.8\">(None, 250)</text>\n</g>\n<!-- 139992382457936&#45;&gt;139992382457488 -->\n<g class=\"edge\" id=\"edge8\">\n<title>139992382457936-&gt;139992382457488</title>\n<path d=\"M201,-249.3799C201,-241.1745 201,-231.7679 201,-222.8786\" fill=\"none\" stroke=\"#000000\"/>\n<polygon fill=\"#000000\" points=\"204.5001,-222.784 201,-212.784 197.5001,-222.784 204.5001,-222.784\" stroke=\"#000000\"/>\n</g>\n<!-- 139992719075408 -->\n<g class=\"node\" id=\"node10\">\n<title>139992719075408</title>\n<polygon fill=\"none\" points=\"46.5,-83.5 46.5,-129.5 355.5,-129.5 355.5,-83.5 46.5,-83.5\" stroke=\"#000000\"/>\n<text fill=\"#000000\" font-family=\"Times,serif\" font-size=\"14.00\" text-anchor=\"middle\" x=\"85\" y=\"-114.3\">dropout_5</text>\n<polyline fill=\"none\" points=\"46.5,-106.5 123.5,-106.5 \" stroke=\"#000000\"/>\n<text fill=\"#000000\" font-family=\"Times,serif\" font-size=\"14.00\" text-anchor=\"middle\" x=\"85\" y=\"-91.3\">Dropout</text>\n<polyline fill=\"none\" points=\"123.5,-83.5 123.5,-129.5 \" stroke=\"#000000\"/>\n<text fill=\"#000000\" font-family=\"Times,serif\" font-size=\"14.00\" text-anchor=\"middle\" x=\"152.5\" y=\"-114.3\">input:</text>\n<polyline fill=\"none\" points=\"123.5,-106.5 181.5,-106.5 \" stroke=\"#000000\"/>\n<text fill=\"#000000\" font-family=\"Times,serif\" font-size=\"14.00\" text-anchor=\"middle\" x=\"152.5\" y=\"-91.3\">output:</text>\n<polyline fill=\"none\" points=\"181.5,-83.5 181.5,-129.5 \" stroke=\"#000000\"/>\n<text fill=\"#000000\" font-family=\"Times,serif\" font-size=\"14.00\" text-anchor=\"middle\" x=\"225\" y=\"-102.8\">(None, 250)</text>\n<polyline fill=\"none\" points=\"268.5,-83.5 268.5,-129.5 \" stroke=\"#000000\"/>\n<text fill=\"#000000\" font-family=\"Times,serif\" font-size=\"14.00\" text-anchor=\"middle\" x=\"312\" y=\"-102.8\">(None, 250)</text>\n</g>\n<!-- 139992382457488&#45;&gt;139992719075408 -->\n<g class=\"edge\" id=\"edge9\">\n<title>139992382457488-&gt;139992719075408</title>\n<path d=\"M201,-166.3799C201,-158.1745 201,-148.7679 201,-139.8786\" fill=\"none\" stroke=\"#000000\"/>\n<polygon fill=\"#000000\" points=\"204.5001,-139.784 201,-129.784 197.5001,-139.784 204.5001,-139.784\" stroke=\"#000000\"/>\n</g>\n<!-- 139994462326480 -->\n<g class=\"node\" id=\"node11\">\n<title>139994462326480</title>\n<polygon fill=\"none\" points=\"60.5,-.5 60.5,-46.5 341.5,-46.5 341.5,-.5 60.5,-.5\" stroke=\"#000000\"/>\n<text fill=\"#000000\" font-family=\"Times,serif\" font-size=\"14.00\" text-anchor=\"middle\" x=\"92.5\" y=\"-31.3\">dense_5</text>\n<polyline fill=\"none\" points=\"60.5,-23.5 124.5,-23.5 \" stroke=\"#000000\"/>\n<text fill=\"#000000\" font-family=\"Times,serif\" font-size=\"14.00\" text-anchor=\"middle\" x=\"92.5\" y=\"-8.3\">Dense</text>\n<polyline fill=\"none\" points=\"124.5,-.5 124.5,-46.5 \" stroke=\"#000000\"/>\n<text fill=\"#000000\" font-family=\"Times,serif\" font-size=\"14.00\" text-anchor=\"middle\" x=\"153.5\" y=\"-31.3\">input:</text>\n<polyline fill=\"none\" points=\"124.5,-23.5 182.5,-23.5 \" stroke=\"#000000\"/>\n<text fill=\"#000000\" font-family=\"Times,serif\" font-size=\"14.00\" text-anchor=\"middle\" x=\"153.5\" y=\"-8.3\">output:</text>\n<polyline fill=\"none\" points=\"182.5,-.5 182.5,-46.5 \" stroke=\"#000000\"/>\n<text fill=\"#000000\" font-family=\"Times,serif\" font-size=\"14.00\" text-anchor=\"middle\" x=\"226\" y=\"-19.8\">(None, 250)</text>\n<polyline fill=\"none\" points=\"269.5,-.5 269.5,-46.5 \" stroke=\"#000000\"/>\n<text fill=\"#000000\" font-family=\"Times,serif\" font-size=\"14.00\" text-anchor=\"middle\" x=\"305.5\" y=\"-19.8\">(None, 1)</text>\n</g>\n<!-- 139992719075408&#45;&gt;139994462326480 -->\n<g class=\"edge\" id=\"edge10\">\n<title>139992719075408-&gt;139994462326480</title>\n<path d=\"M201,-83.3799C201,-75.1745 201,-65.7679 201,-56.8786\" fill=\"none\" stroke=\"#000000\"/>\n<polygon fill=\"#000000\" points=\"204.5001,-56.784 201,-46.784 197.5001,-56.784 204.5001,-56.784\" stroke=\"#000000\"/>\n</g>\n</g>\n</svg>",
            "text/plain": [
              "<IPython.core.display.SVG object>"
            ]
          },
          "execution_count": 26,
          "metadata": {},
          "output_type": "execute_result"
        }
      ],
      "source": [
        "SVG(vis_utils.model_to_dot(cnn_model_parent, show_shapes=True, show_layer_names=True, dpi=60).create(prog='dot', format='svg'))  "
      ]
    },
    {
      "cell_type": "markdown",
      "metadata": {
        "id": "gKm4uF4AN3gT"
      },
      "source": [
        "## Train the model"
      ]
    },
    {
      "cell_type": "code",
      "execution_count": null,
      "metadata": {
        "colab": {
          "background_save": true,
          "base_uri": "https://localhost:8080/"
        },
        "id": "413KSAJJN49H",
        "outputId": "8c82c015-2bb3-4f88-efa7-cf019a119225"
      },
      "outputs": [
        {
          "name": "stdout",
          "output_type": "stream",
          "text": [
            "Epoch 1/10\n",
            "313/313 [==============================] - 150s 475ms/step - loss: 0.6930 - accuracy: 0.5112 - val_loss: 0.6904 - val_accuracy: 0.5366\n",
            "Epoch 2/10\n",
            "313/313 [==============================] - 153s 489ms/step - loss: 0.6769 - accuracy: 0.5770 - val_loss: 0.6855 - val_accuracy: 0.5512\n",
            "Epoch 3/10\n",
            "313/313 [==============================] - 130s 412ms/step - loss: 0.6431 - accuracy: 0.6302 - val_loss: 0.6967 - val_accuracy: 0.5439\n",
            "Epoch 4/10\n",
            "313/313 [==============================] - 121s 388ms/step - loss: 0.6064 - accuracy: 0.6655 - val_loss: 0.7151 - val_accuracy: 0.5378\n",
            "Epoch 5/10\n",
            "313/313 [==============================] - 120s 384ms/step - loss: 0.5651 - accuracy: 0.6983 - val_loss: 0.7720 - val_accuracy: 0.5340\n",
            "Epoch 6/10\n",
            "313/313 [==============================] - 120s 384ms/step - loss: 0.5219 - accuracy: 0.7258 - val_loss: 0.7849 - val_accuracy: 0.5334\n",
            "Epoch 7/10\n",
            "313/313 [==============================] - 120s 385ms/step - loss: 0.4873 - accuracy: 0.7500 - val_loss: 0.8503 - val_accuracy: 0.5371\n",
            "Epoch 8/10\n",
            "313/313 [==============================] - 120s 385ms/step - loss: 0.4578 - accuracy: 0.7671 - val_loss: 0.8677 - val_accuracy: 0.5359\n",
            "Epoch 9/10\n",
            "313/313 [==============================] - 123s 392ms/step - loss: 0.4288 - accuracy: 0.7837 - val_loss: 0.9375 - val_accuracy: 0.5266\n",
            "Epoch 10/10\n",
            "313/313 [==============================] - 122s 389ms/step - loss: 0.4080 - accuracy: 0.7938 - val_loss: 0.9938 - val_accuracy: 0.5302\n"
          ]
        }
      ],
      "source": [
        "cnn_history_parent = cnn_model_parent.fit(X_train, y_train, validation_data = (X_test, y_test), epochs = 10, batch_size = 128, verbose=1)"
      ]
    },
    {
      "cell_type": "markdown",
      "metadata": {
        "id": "1PYnmC8jN-rG"
      },
      "source": [
        "## Visualize the model plot"
      ]
    },
    {
      "cell_type": "code",
      "execution_count": null,
      "metadata": {
        "colab": {
          "base_uri": "https://localhost:8080/",
          "height": 385
        },
        "id": "NuU-Lsp6N_uQ",
        "outputId": "0ed952b8-a979-4790-baf3-b5739dd01e70"
      },
      "outputs": [
        {
          "data": {
            "image/png": "[encoded data removed]",
            "text/plain": [
              "<Figure size 720x360 with 2 Axes>"
            ]
          },
          "metadata": {},
          "output_type": "display_data"
        }
      ],
      "source": [
        "plot_history(cnn_history_parent.history, path=\"standard_parent_comment_cnn_1.png\")\n",
        "plt.show()"
      ]
    },
    {
      "cell_type": "markdown",
      "metadata": {
        "id": "sSSUuY-TOERb"
      },
      "source": [
        "## Evaluate the model"
      ]
    },
    {
      "cell_type": "code",
      "execution_count": null,
      "metadata": {
        "colab": {
          "base_uri": "https://localhost:8080/"
        },
        "id": "sz9XeztnOTq8",
        "outputId": "fe8c4c47-f940-4dc5-e0ca-54a5fb9862ee"
      },
      "outputs": [
        {
          "name": "stdout",
          "output_type": "stream",
          "text": [
            "79/79 [==============================] - 0s 6ms/step - loss: 1.0085 - accuracy: 0.5301\n",
            "test_loss: 1.0085397958755493 test_accuracy: 0.5300999879837036\n"
          ]
        }
      ],
      "source": [
        "cnn_results_parent = cnn_model_parent.evaluate(X_test, y_test, batch_size=128)\n",
        "print('test_loss:', cnn_results_parent[0], 'test_accuracy:', cnn_results_parent[1])"
      ]
    },
    {
      "cell_type": "markdown",
      "source": [
        "### *Predicting the probability of sentence being sarcastic*"
      ],
      "metadata": {
        "id": "aQQbDw19QIYM"
      }
    },
    {
      "cell_type": "code",
      "execution_count": null,
      "metadata": {
        "colab": {
          "base_uri": "https://localhost:8080/"
        },
        "id": "gSHg2KxdOqif",
        "outputId": "1279c47d-dbd7-4361-ee97-0ba5c6e7fefa"
      },
      "outputs": [
        {
          "name": "stdout",
          "output_type": "stream",
          "text": [
            "The probability of sent4 being sarcastic is 43.449 percent\n"
          ]
        }
      ],
      "source": [
        "# Case 1 : Universal statement\n",
        "sent4 = \"sun sets in the west\"\n",
        "sent4 = tokenizer.texts_to_sequences([sent4])\n",
        "sent4 = pad_sequences(sent4, maxlen = max_length)\n",
        "\n",
        "prediction = cnn_model_parent.predict(sent4)\n",
        "print(\"The probability of sent4 being sarcastic is %.3f percent\"%(prediction[0][0]*100))"
      ]
    },
    {
      "cell_type": "code",
      "execution_count": null,
      "metadata": {
        "colab": {
          "base_uri": "https://localhost:8080/"
        },
        "id": "XUzbOjfEOz7o",
        "outputId": "b2ce006c-88e0-48a6-df95-425ba9e85ef5"
      },
      "outputs": [
        {
          "name": "stdout",
          "output_type": "stream",
          "text": [
            "The probability of sent5 being sarcastic is 8.933 percent\n"
          ]
        }
      ],
      "source": [
        "# Case 2 : Non-Sarcastic statement \n",
        "sent5 = \"totally untrue. hong kong english sucks.\"           # passing a value from parent_comment column\n",
        "sent5 = tokenizer.texts_to_sequences([sent5])\n",
        "sent5 = pad_sequences(sent5, maxlen = max_length)\n",
        "\n",
        "prediction = cnn_model_parent.predict(sent5)\n",
        "print(\"The probability of sent5 being sarcastic is %.3f percent\"%(prediction[0][0]*100))"
      ]
    },
    {
      "cell_type": "code",
      "execution_count": null,
      "metadata": {
        "colab": {
          "base_uri": "https://localhost:8080/"
        },
        "id": "l2YZeeMaOz7q",
        "outputId": "55989883-751a-417f-b47b-5c39b6e960b6"
      },
      "outputs": [
        {
          "name": "stdout",
          "output_type": "stream",
          "text": [
            "The probability of sent5_1 being sarcastic is 37.955 percent\n"
          ]
        }
      ],
      "source": [
        "# Case 2 : Non-Sarcastic statement \n",
        "sent5_1 = \"guess you have not heard malaysian or filipino english.\"      # passing a value from comment column\n",
        "sent5_1 = tokenizer.texts_to_sequences([sent5_1])\n",
        "sent5_1 = pad_sequences(sent5_1, maxlen = max_length)\n",
        "\n",
        "prediction = cnn_model_parent.predict(sent5_1)\n",
        "print(\"The probability of sent5_1 being sarcastic is %.3f percent\"%(prediction[0][0]*100))"
      ]
    },
    {
      "cell_type": "code",
      "execution_count": null,
      "metadata": {
        "colab": {
          "base_uri": "https://localhost:8080/"
        },
        "id": "kTKWm2mlOz7r",
        "outputId": "7fcfb592-60c0-42c7-e0c6-f9ab44c9f4a4"
      },
      "outputs": [
        {
          "name": "stdout",
          "output_type": "stream",
          "text": [
            "The probability of sent6 being sarcastic is 88.431 percent\n"
          ]
        }
      ],
      "source": [
        "# Case 3 : Sarcastic statement statement\n",
        "sent6 = \"5s teams and 3s teams names are swapped with each other\"             # passing a value from parent_comment column\n",
        "sent6 = tokenizer.texts_to_sequences([sent6])\n",
        "sent6 = pad_sequences(sent6, maxlen = max_length)\n",
        "\n",
        "prediction = cnn_model_parent.predict(sent6)\n",
        "print(\"The probability of sent6 being sarcastic is %.3f percent\"%(prediction[0][0]*100))"
      ]
    },
    {
      "cell_type": "code",
      "execution_count": null,
      "metadata": {
        "colab": {
          "base_uri": "https://localhost:8080/"
        },
        "id": "mDdK7ATjOz7s",
        "outputId": "941f2b5b-afcb-4e20-9111-f1c79a2b2956"
      },
      "outputs": [
        {
          "name": "stdout",
          "output_type": "stream",
          "text": [
            "The probability of sent6_1 being sarcastic is 56.289 percent\n"
          ]
        }
      ],
      "source": [
        "# Case 3 : Sarcastic statement statement\n",
        "sent6_1 = \"not even riot cares about ranked teams\"           # passing a value from comment column\n",
        "sent6_1 = tokenizer.texts_to_sequences([sent6_1])\n",
        "sent6_1 = pad_sequences(sent6_1, maxlen = max_length)\n",
        "\n",
        "prediction = cnn_model_parent.predict(sent6_1)\n",
        "print(\"The probability of sent6_1 being sarcastic is %.3f percent\"%(prediction[0][0]*100))"
      ]
    },
    {
      "cell_type": "markdown",
      "source": [
        "# **Let's perform CNN for 'comment and parent_comment'**"
      ],
      "metadata": {
        "id": "5ddLukvUMODc"
      }
    },
    {
      "cell_type": "markdown",
      "source": [
        "## Reading Inputs for the model"
      ],
      "metadata": {
        "id": "19wirHY2MfZG"
      }
    },
    {
      "cell_type": "markdown",
      "source": [
        "\n",
        "\n",
        "> ### *Concatenating 'comment' and 'parent_comment'*\n",
        "\n"
      ],
      "metadata": {
        "id": "ODyu56NFNudE"
      }
    },
    {
      "cell_type": "code",
      "source": [
        "comments = preprocessed_data['comment']\n",
        "parent_comments = preprocessed_data['parent_comment']\n",
        "labels = preprocessed_data['label']\n",
        "\n",
        "concat_comments = []\n",
        "comm = ''\n",
        "for i in range (len(parent_comments)):\n",
        "    comm = comments[i] + ' <SEP> ' + parent_comments[i]\n",
        "    if (comm != ''):\n",
        "        concat_comments.append(comm)\n",
        "        comm = ''\n",
        "\n",
        "concat_comments = np.array(concat_comments)\n",
        "concat_comments = pd.Series(concat_comments, copy=False)"
      ],
      "metadata": {
        "id": "u_eGuNV4MjGP"
      },
      "execution_count": 6,
      "outputs": []
    },
    {
      "cell_type": "code",
      "execution_count": 7,
      "metadata": {
        "id": "_xvKvIIQN4G4"
      },
      "outputs": [],
      "source": [
        "EMBED_SIZE = 50\n",
        "max_length = 1000\n",
        "VOCAB_SIZE = 10000\n",
        "\n",
        "filters = 32\n",
        "kernel_size = 3\n",
        "hidden_dims = 250\n",
        "epochs = 10"
      ]
    },
    {
      "cell_type": "code",
      "execution_count": 8,
      "metadata": {
        "id": "rSOJJ-ViN4G4"
      },
      "outputs": [],
      "source": [
        "X_train, X_test, y_train, y_test = train_test_split(concat_comments, preprocessed_data['label'], test_size=0.2, random_state=42)\n",
        "\n",
        "tokenizer = text.Tokenizer(num_words=VOCAB_SIZE)\n",
        "tokenizer.fit_on_texts(X_train)\n",
        "X_train = tokenizer.texts_to_sequences(X_train)\n",
        "X_test = tokenizer.texts_to_sequences(X_test)\n",
        "\n",
        "X_train = sequence.pad_sequences(X_train, maxlen=max_length)\n",
        "X_test = sequence.pad_sequences(X_test, maxlen=max_length)"
      ]
    },
    {
      "cell_type": "markdown",
      "source": [
        "## Building the model"
      ],
      "metadata": {
        "id": "jc4LRVs6Mjwy"
      }
    },
    {
      "cell_type": "code",
      "source": [
        "concat_cnn_model = Sequential()\n",
        "concat_cnn_model.add(Embedding(VOCAB_SIZE,EMBED_SIZE,input_length=max_length))\n",
        "concat_cnn_model.add(Dropout(0.5))\n",
        "concat_cnn_model.add(Conv1D(filters, kernel_size,padding = 'valid', activation = 'relu'))\n",
        "concat_cnn_model.add(MaxPooling1D())\n",
        "concat_cnn_model.add(Conv1D(filters, kernel_size,padding = 'valid', activation = 'relu'))\n",
        "concat_cnn_model.add(MaxPooling1D())\n",
        "concat_cnn_model.add(Flatten())\n",
        "concat_cnn_model.add(Dense(hidden_dims, activation ='relu'))\n",
        "concat_cnn_model.add(Dropout(0.5))\n",
        "concat_cnn_model.add(Dense(1, activation='sigmoid'))"
      ],
      "metadata": {
        "id": "usdMsYR0Mmj-"
      },
      "execution_count": 9,
      "outputs": []
    },
    {
      "cell_type": "code",
      "source": [
        "concat_cnn_model.compile(loss='binary_crossentropy', optimizer='adam', metrics=['accuracy'])\n",
        "concat_cnn_model.summary()"
      ],
      "metadata": {
        "colab": {
          "base_uri": "https://localhost:8080/"
        },
        "id": "FjCpSGCXO2c9",
        "outputId": "906a3e85-cf86-4dc1-9d1c-2da9e9edae2f"
      },
      "execution_count": 10,
      "outputs": [
        {
          "output_type": "stream",
          "name": "stdout",
          "text": [
            "Model: \"sequential\"\n",
            "_________________________________________________________________\n",
            " Layer (type)                Output Shape              Param #   \n",
            "=================================================================\n",
            " embedding (Embedding)       (None, 1000, 50)          500000    \n",
            "                                                                 \n",
            " dropout (Dropout)           (None, 1000, 50)          0         \n",
            "                                                                 \n",
            " conv1d (Conv1D)             (None, 998, 32)           4832      \n",
            "                                                                 \n",
            " max_pooling1d (MaxPooling1D  (None, 499, 32)          0         \n",
            " )                                                               \n",
            "                                                                 \n",
            " conv1d_1 (Conv1D)           (None, 497, 32)           3104      \n",
            "                                                                 \n",
            " max_pooling1d_1 (MaxPooling  (None, 248, 32)          0         \n",
            " 1D)                                                             \n",
            "                                                                 \n",
            " flatten (Flatten)           (None, 7936)              0         \n",
            "                                                                 \n",
            " dense (Dense)               (None, 250)               1984250   \n",
            "                                                                 \n",
            " dropout_1 (Dropout)         (None, 250)               0         \n",
            "                                                                 \n",
            " dense_1 (Dense)             (None, 1)                 251       \n",
            "                                                                 \n",
            "=================================================================\n",
            "Total params: 2,492,437\n",
            "Trainable params: 2,492,437\n",
            "Non-trainable params: 0\n",
            "_________________________________________________________________\n"
          ]
        }
      ]
    },
    {
      "cell_type": "code",
      "source": [
        "SVG(vis_utils.model_to_dot(concat_cnn_model, show_shapes=True, show_layer_names=True, dpi=60).create(prog='dot', format='svg'))  "
      ],
      "metadata": {
        "colab": {
          "base_uri": "https://localhost:8080/",
          "height": 1000
        },
        "id": "ZttiNF2tO2QK",
        "outputId": "0e19915f-d354-4c5d-c79c-0ed7b41baeda"
      },
      "execution_count": 11,
      "outputs": [
        {
          "output_type": "execute_result",
          "data": {
            "text/plain": [
              "<IPython.core.display.SVG object>"
            ],
            "image/svg+xml": "<svg height=\"737pt\" viewBox=\"0.00 0.00 410.00 885.00\" width=\"342pt\" xmlns=\"http://www.w3.org/2000/svg\" xmlns:xlink=\"http://www.w3.org/1999/xlink\">\n<g class=\"graph\" id=\"graph0\" transform=\"scale(.8333 .8333) rotate(0) translate(4 881)\">\n<title>G</title>\n<polygon fill=\"#ffffff\" points=\"-4,4 -4,-881 406,-881 406,4 -4,4\" stroke=\"transparent\"/>\n<!-- 140220828031120 -->\n<g class=\"node\" id=\"node1\">\n<title>140220828031120</title>\n<polygon fill=\"none\" points=\"8.5,-830.5 8.5,-876.5 393.5,-876.5 393.5,-830.5 8.5,-830.5\" stroke=\"#000000\"/>\n<text fill=\"#000000\" font-family=\"Times,serif\" font-size=\"14.00\" text-anchor=\"middle\" x=\"68\" y=\"-861.3\">embedding_input</text>\n<polyline fill=\"none\" points=\"8.5,-853.5 127.5,-853.5 \" stroke=\"#000000\"/>\n<text fill=\"#000000\" font-family=\"Times,serif\" font-size=\"14.00\" text-anchor=\"middle\" x=\"68\" y=\"-838.3\">InputLayer</text>\n<polyline fill=\"none\" points=\"127.5,-830.5 127.5,-876.5 \" stroke=\"#000000\"/>\n<text fill=\"#000000\" font-family=\"Times,serif\" font-size=\"14.00\" text-anchor=\"middle\" x=\"156.5\" y=\"-861.3\">input:</text>\n<polyline fill=\"none\" points=\"127.5,-853.5 185.5,-853.5 \" stroke=\"#000000\"/>\n<text fill=\"#000000\" font-family=\"Times,serif\" font-size=\"14.00\" text-anchor=\"middle\" x=\"156.5\" y=\"-838.3\">output:</text>\n<polyline fill=\"none\" points=\"185.5,-830.5 185.5,-876.5 \" stroke=\"#000000\"/>\n<text fill=\"#000000\" font-family=\"Times,serif\" font-size=\"14.00\" text-anchor=\"middle\" x=\"237.5\" y=\"-849.8\">[(None, 1000)]</text>\n<polyline fill=\"none\" points=\"289.5,-830.5 289.5,-876.5 \" stroke=\"#000000\"/>\n<text fill=\"#000000\" font-family=\"Times,serif\" font-size=\"14.00\" text-anchor=\"middle\" x=\"341.5\" y=\"-849.8\">[(None, 1000)]</text>\n</g>\n<!-- 140220823617104 -->\n<g class=\"node\" id=\"node2\">\n<title>140220823617104</title>\n<polygon fill=\"none\" points=\"24,-747.5 24,-793.5 378,-793.5 378,-747.5 24,-747.5\" stroke=\"#000000\"/>\n<text fill=\"#000000\" font-family=\"Times,serif\" font-size=\"14.00\" text-anchor=\"middle\" x=\"66\" y=\"-778.3\">embedding</text>\n<polyline fill=\"none\" points=\"24,-770.5 108,-770.5 \" stroke=\"#000000\"/>\n<text fill=\"#000000\" font-family=\"Times,serif\" font-size=\"14.00\" text-anchor=\"middle\" x=\"66\" y=\"-755.3\">Embedding</text>\n<polyline fill=\"none\" points=\"108,-747.5 108,-793.5 \" stroke=\"#000000\"/>\n<text fill=\"#000000\" font-family=\"Times,serif\" font-size=\"14.00\" text-anchor=\"middle\" x=\"137\" y=\"-778.3\">input:</text>\n<polyline fill=\"none\" points=\"108,-770.5 166,-770.5 \" stroke=\"#000000\"/>\n<text fill=\"#000000\" font-family=\"Times,serif\" font-size=\"14.00\" text-anchor=\"middle\" x=\"137\" y=\"-755.3\">output:</text>\n<polyline fill=\"none\" points=\"166,-747.5 166,-793.5 \" stroke=\"#000000\"/>\n<text fill=\"#000000\" font-family=\"Times,serif\" font-size=\"14.00\" text-anchor=\"middle\" x=\"213.5\" y=\"-766.8\">(None, 1000)</text>\n<polyline fill=\"none\" points=\"261,-747.5 261,-793.5 \" stroke=\"#000000\"/>\n<text fill=\"#000000\" font-family=\"Times,serif\" font-size=\"14.00\" text-anchor=\"middle\" x=\"319.5\" y=\"-766.8\">(None, 1000, 50)</text>\n</g>\n<!-- 140220828031120&#45;&gt;140220823617104 -->\n<g class=\"edge\" id=\"edge1\">\n<title>140220828031120-&gt;140220823617104</title>\n<path d=\"M201,-830.3799C201,-822.1745 201,-812.7679 201,-803.8786\" fill=\"none\" stroke=\"#000000\"/>\n<polygon fill=\"#000000\" points=\"204.5001,-803.784 201,-793.784 197.5001,-803.784 204.5001,-803.784\" stroke=\"#000000\"/>\n</g>\n<!-- 140220823617360 -->\n<g class=\"node\" id=\"node3\">\n<title>140220823617360</title>\n<polygon fill=\"none\" points=\"22.5,-664.5 22.5,-710.5 379.5,-710.5 379.5,-664.5 22.5,-664.5\" stroke=\"#000000\"/>\n<text fill=\"#000000\" font-family=\"Times,serif\" font-size=\"14.00\" text-anchor=\"middle\" x=\"55\" y=\"-695.3\">dropout</text>\n<polyline fill=\"none\" points=\"22.5,-687.5 87.5,-687.5 \" stroke=\"#000000\"/>\n<text fill=\"#000000\" font-family=\"Times,serif\" font-size=\"14.00\" text-anchor=\"middle\" x=\"55\" y=\"-672.3\">Dropout</text>\n<polyline fill=\"none\" points=\"87.5,-664.5 87.5,-710.5 \" stroke=\"#000000\"/>\n<text fill=\"#000000\" font-family=\"Times,serif\" font-size=\"14.00\" text-anchor=\"middle\" x=\"116.5\" y=\"-695.3\">input:</text>\n<polyline fill=\"none\" points=\"87.5,-687.5 145.5,-687.5 \" stroke=\"#000000\"/>\n<text fill=\"#000000\" font-family=\"Times,serif\" font-size=\"14.00\" text-anchor=\"middle\" x=\"116.5\" y=\"-672.3\">output:</text>\n<polyline fill=\"none\" points=\"145.5,-664.5 145.5,-710.5 \" stroke=\"#000000\"/>\n<text fill=\"#000000\" font-family=\"Times,serif\" font-size=\"14.00\" text-anchor=\"middle\" x=\"204\" y=\"-683.8\">(None, 1000, 50)</text>\n<polyline fill=\"none\" points=\"262.5,-664.5 262.5,-710.5 \" stroke=\"#000000\"/>\n<text fill=\"#000000\" font-family=\"Times,serif\" font-size=\"14.00\" text-anchor=\"middle\" x=\"321\" y=\"-683.8\">(None, 1000, 50)</text>\n</g>\n<!-- 140220823617104&#45;&gt;140220823617360 -->\n<g class=\"edge\" id=\"edge2\">\n<title>140220823617104-&gt;140220823617360</title>\n<path d=\"M201,-747.3799C201,-739.1745 201,-729.7679 201,-720.8786\" fill=\"none\" stroke=\"#000000\"/>\n<polygon fill=\"#000000\" points=\"204.5001,-720.784 201,-710.784 197.5001,-720.784 204.5001,-720.784\" stroke=\"#000000\"/>\n</g>\n<!-- 140220807378064 -->\n<g class=\"node\" id=\"node4\">\n<title>140220807378064</title>\n<polygon fill=\"none\" points=\"25,-581.5 25,-627.5 377,-627.5 377,-581.5 25,-581.5\" stroke=\"#000000\"/>\n<text fill=\"#000000\" font-family=\"Times,serif\" font-size=\"14.00\" text-anchor=\"middle\" x=\"58.5\" y=\"-612.3\">conv1d</text>\n<polyline fill=\"none\" points=\"25,-604.5 92,-604.5 \" stroke=\"#000000\"/>\n<text fill=\"#000000\" font-family=\"Times,serif\" font-size=\"14.00\" text-anchor=\"middle\" x=\"58.5\" y=\"-589.3\">Conv1D</text>\n<polyline fill=\"none\" points=\"92,-581.5 92,-627.5 \" stroke=\"#000000\"/>\n<text fill=\"#000000\" font-family=\"Times,serif\" font-size=\"14.00\" text-anchor=\"middle\" x=\"121\" y=\"-612.3\">input:</text>\n<polyline fill=\"none\" points=\"92,-604.5 150,-604.5 \" stroke=\"#000000\"/>\n<text fill=\"#000000\" font-family=\"Times,serif\" font-size=\"14.00\" text-anchor=\"middle\" x=\"121\" y=\"-589.3\">output:</text>\n<polyline fill=\"none\" points=\"150,-581.5 150,-627.5 \" stroke=\"#000000\"/>\n<text fill=\"#000000\" font-family=\"Times,serif\" font-size=\"14.00\" text-anchor=\"middle\" x=\"208.5\" y=\"-600.8\">(None, 1000, 50)</text>\n<polyline fill=\"none\" points=\"267,-581.5 267,-627.5 \" stroke=\"#000000\"/>\n<text fill=\"#000000\" font-family=\"Times,serif\" font-size=\"14.00\" text-anchor=\"middle\" x=\"322\" y=\"-600.8\">(None, 998, 32)</text>\n</g>\n<!-- 140220823617360&#45;&gt;140220807378064 -->\n<g class=\"edge\" id=\"edge3\">\n<title>140220823617360-&gt;140220807378064</title>\n<path d=\"M201,-664.3799C201,-656.1745 201,-646.7679 201,-637.8786\" fill=\"none\" stroke=\"#000000\"/>\n<polygon fill=\"#000000\" points=\"204.5001,-637.784 201,-627.784 197.5001,-637.784 204.5001,-637.784\" stroke=\"#000000\"/>\n</g>\n<!-- 140220807379088 -->\n<g class=\"node\" id=\"node5\">\n<title>140220807379088</title>\n<polygon fill=\"none\" points=\"7.5,-498.5 7.5,-544.5 394.5,-544.5 394.5,-498.5 7.5,-498.5\" stroke=\"#000000\"/>\n<text fill=\"#000000\" font-family=\"Times,serif\" font-size=\"14.00\" text-anchor=\"middle\" x=\"62\" y=\"-529.3\">max_pooling1d</text>\n<polyline fill=\"none\" points=\"7.5,-521.5 116.5,-521.5 \" stroke=\"#000000\"/>\n<text fill=\"#000000\" font-family=\"Times,serif\" font-size=\"14.00\" text-anchor=\"middle\" x=\"62\" y=\"-506.3\">MaxPooling1D</text>\n<polyline fill=\"none\" points=\"116.5,-498.5 116.5,-544.5 \" stroke=\"#000000\"/>\n<text fill=\"#000000\" font-family=\"Times,serif\" font-size=\"14.00\" text-anchor=\"middle\" x=\"145.5\" y=\"-529.3\">input:</text>\n<polyline fill=\"none\" points=\"116.5,-521.5 174.5,-521.5 \" stroke=\"#000000\"/>\n<text fill=\"#000000\" font-family=\"Times,serif\" font-size=\"14.00\" text-anchor=\"middle\" x=\"145.5\" y=\"-506.3\">output:</text>\n<polyline fill=\"none\" points=\"174.5,-498.5 174.5,-544.5 \" stroke=\"#000000\"/>\n<text fill=\"#000000\" font-family=\"Times,serif\" font-size=\"14.00\" text-anchor=\"middle\" x=\"229.5\" y=\"-517.8\">(None, 998, 32)</text>\n<polyline fill=\"none\" points=\"284.5,-498.5 284.5,-544.5 \" stroke=\"#000000\"/>\n<text fill=\"#000000\" font-family=\"Times,serif\" font-size=\"14.00\" text-anchor=\"middle\" x=\"339.5\" y=\"-517.8\">(None, 499, 32)</text>\n</g>\n<!-- 140220807378064&#45;&gt;140220807379088 -->\n<g class=\"edge\" id=\"edge4\">\n<title>140220807378064-&gt;140220807379088</title>\n<path d=\"M201,-581.3799C201,-573.1745 201,-563.7679 201,-554.8786\" fill=\"none\" stroke=\"#000000\"/>\n<polygon fill=\"#000000\" points=\"204.5001,-554.784 201,-544.784 197.5001,-554.784 204.5001,-554.784\" stroke=\"#000000\"/>\n</g>\n<!-- 140220832673552 -->\n<g class=\"node\" id=\"node6\">\n<title>140220832673552</title>\n<polygon fill=\"none\" points=\"24.5,-415.5 24.5,-461.5 377.5,-461.5 377.5,-415.5 24.5,-415.5\" stroke=\"#000000\"/>\n<text fill=\"#000000\" font-family=\"Times,serif\" font-size=\"14.00\" text-anchor=\"middle\" x=\"62\" y=\"-446.3\">conv1d_1</text>\n<polyline fill=\"none\" points=\"24.5,-438.5 99.5,-438.5 \" stroke=\"#000000\"/>\n<text fill=\"#000000\" font-family=\"Times,serif\" font-size=\"14.00\" text-anchor=\"middle\" x=\"62\" y=\"-423.3\">Conv1D</text>\n<polyline fill=\"none\" points=\"99.5,-415.5 99.5,-461.5 \" stroke=\"#000000\"/>\n<text fill=\"#000000\" font-family=\"Times,serif\" font-size=\"14.00\" text-anchor=\"middle\" x=\"128.5\" y=\"-446.3\">input:</text>\n<polyline fill=\"none\" points=\"99.5,-438.5 157.5,-438.5 \" stroke=\"#000000\"/>\n<text fill=\"#000000\" font-family=\"Times,serif\" font-size=\"14.00\" text-anchor=\"middle\" x=\"128.5\" y=\"-423.3\">output:</text>\n<polyline fill=\"none\" points=\"157.5,-415.5 157.5,-461.5 \" stroke=\"#000000\"/>\n<text fill=\"#000000\" font-family=\"Times,serif\" font-size=\"14.00\" text-anchor=\"middle\" x=\"212.5\" y=\"-434.8\">(None, 499, 32)</text>\n<polyline fill=\"none\" points=\"267.5,-415.5 267.5,-461.5 \" stroke=\"#000000\"/>\n<text fill=\"#000000\" font-family=\"Times,serif\" font-size=\"14.00\" text-anchor=\"middle\" x=\"322.5\" y=\"-434.8\">(None, 497, 32)</text>\n</g>\n<!-- 140220807379088&#45;&gt;140220832673552 -->\n<g class=\"edge\" id=\"edge5\">\n<title>140220807379088-&gt;140220832673552</title>\n<path d=\"M201,-498.3799C201,-490.1745 201,-480.7679 201,-471.8786\" fill=\"none\" stroke=\"#000000\"/>\n<polygon fill=\"#000000\" points=\"204.5001,-471.784 201,-461.784 197.5001,-471.784 204.5001,-471.784\" stroke=\"#000000\"/>\n</g>\n<!-- 140220810447888 -->\n<g class=\"node\" id=\"node7\">\n<title>140220810447888</title>\n<polygon fill=\"none\" points=\"0,-332.5 0,-378.5 402,-378.5 402,-332.5 0,-332.5\" stroke=\"#000000\"/>\n<text fill=\"#000000\" font-family=\"Times,serif\" font-size=\"14.00\" text-anchor=\"middle\" x=\"62\" y=\"-363.3\">max_pooling1d_1</text>\n<polyline fill=\"none\" points=\"0,-355.5 124,-355.5 \" stroke=\"#000000\"/>\n<text fill=\"#000000\" font-family=\"Times,serif\" font-size=\"14.00\" text-anchor=\"middle\" x=\"62\" y=\"-340.3\">MaxPooling1D</text>\n<polyline fill=\"none\" points=\"124,-332.5 124,-378.5 \" stroke=\"#000000\"/>\n<text fill=\"#000000\" font-family=\"Times,serif\" font-size=\"14.00\" text-anchor=\"middle\" x=\"153\" y=\"-363.3\">input:</text>\n<polyline fill=\"none\" points=\"124,-355.5 182,-355.5 \" stroke=\"#000000\"/>\n<text fill=\"#000000\" font-family=\"Times,serif\" font-size=\"14.00\" text-anchor=\"middle\" x=\"153\" y=\"-340.3\">output:</text>\n<polyline fill=\"none\" points=\"182,-332.5 182,-378.5 \" stroke=\"#000000\"/>\n<text fill=\"#000000\" font-family=\"Times,serif\" font-size=\"14.00\" text-anchor=\"middle\" x=\"237\" y=\"-351.8\">(None, 497, 32)</text>\n<polyline fill=\"none\" points=\"292,-332.5 292,-378.5 \" stroke=\"#000000\"/>\n<text fill=\"#000000\" font-family=\"Times,serif\" font-size=\"14.00\" text-anchor=\"middle\" x=\"347\" y=\"-351.8\">(None, 248, 32)</text>\n</g>\n<!-- 140220832673552&#45;&gt;140220810447888 -->\n<g class=\"edge\" id=\"edge6\">\n<title>140220832673552-&gt;140220810447888</title>\n<path d=\"M201,-415.3799C201,-407.1745 201,-397.7679 201,-388.8786\" fill=\"none\" stroke=\"#000000\"/>\n<polygon fill=\"#000000\" points=\"204.5001,-388.784 201,-378.784 197.5001,-388.784 204.5001,-388.784\" stroke=\"#000000\"/>\n</g>\n<!-- 140220807038736 -->\n<g class=\"node\" id=\"node8\">\n<title>140220807038736</title>\n<polygon fill=\"none\" points=\"41.5,-249.5 41.5,-295.5 360.5,-295.5 360.5,-249.5 41.5,-249.5\" stroke=\"#000000\"/>\n<text fill=\"#000000\" font-family=\"Times,serif\" font-size=\"14.00\" text-anchor=\"middle\" x=\"69.5\" y=\"-280.3\">flatten</text>\n<polyline fill=\"none\" points=\"41.5,-272.5 97.5,-272.5 \" stroke=\"#000000\"/>\n<text fill=\"#000000\" font-family=\"Times,serif\" font-size=\"14.00\" text-anchor=\"middle\" x=\"69.5\" y=\"-257.3\">Flatten</text>\n<polyline fill=\"none\" points=\"97.5,-249.5 97.5,-295.5 \" stroke=\"#000000\"/>\n<text fill=\"#000000\" font-family=\"Times,serif\" font-size=\"14.00\" text-anchor=\"middle\" x=\"126.5\" y=\"-280.3\">input:</text>\n<polyline fill=\"none\" points=\"97.5,-272.5 155.5,-272.5 \" stroke=\"#000000\"/>\n<text fill=\"#000000\" font-family=\"Times,serif\" font-size=\"14.00\" text-anchor=\"middle\" x=\"126.5\" y=\"-257.3\">output:</text>\n<polyline fill=\"none\" points=\"155.5,-249.5 155.5,-295.5 \" stroke=\"#000000\"/>\n<text fill=\"#000000\" font-family=\"Times,serif\" font-size=\"14.00\" text-anchor=\"middle\" x=\"210.5\" y=\"-268.8\">(None, 248, 32)</text>\n<polyline fill=\"none\" points=\"265.5,-249.5 265.5,-295.5 \" stroke=\"#000000\"/>\n<text fill=\"#000000\" font-family=\"Times,serif\" font-size=\"14.00\" text-anchor=\"middle\" x=\"313\" y=\"-268.8\">(None, 7936)</text>\n</g>\n<!-- 140220810447888&#45;&gt;140220807038736 -->\n<g class=\"edge\" id=\"edge7\">\n<title>140220810447888-&gt;140220807038736</title>\n<path d=\"M201,-332.3799C201,-324.1745 201,-314.7679 201,-305.8786\" fill=\"none\" stroke=\"#000000\"/>\n<polygon fill=\"#000000\" points=\"204.5001,-305.784 201,-295.784 197.5001,-305.784 204.5001,-305.784\" stroke=\"#000000\"/>\n</g>\n<!-- 140220807038608 -->\n<g class=\"node\" id=\"node9\">\n<title>140220807038608</title>\n<polygon fill=\"none\" points=\"55,-166.5 55,-212.5 347,-212.5 347,-166.5 55,-166.5\" stroke=\"#000000\"/>\n<text fill=\"#000000\" font-family=\"Times,serif\" font-size=\"14.00\" text-anchor=\"middle\" x=\"81\" y=\"-197.3\">dense</text>\n<polyline fill=\"none\" points=\"55,-189.5 107,-189.5 \" stroke=\"#000000\"/>\n<text fill=\"#000000\" font-family=\"Times,serif\" font-size=\"14.00\" text-anchor=\"middle\" x=\"81\" y=\"-174.3\">Dense</text>\n<polyline fill=\"none\" points=\"107,-166.5 107,-212.5 \" stroke=\"#000000\"/>\n<text fill=\"#000000\" font-family=\"Times,serif\" font-size=\"14.00\" text-anchor=\"middle\" x=\"136\" y=\"-197.3\">input:</text>\n<polyline fill=\"none\" points=\"107,-189.5 165,-189.5 \" stroke=\"#000000\"/>\n<text fill=\"#000000\" font-family=\"Times,serif\" font-size=\"14.00\" text-anchor=\"middle\" x=\"136\" y=\"-174.3\">output:</text>\n<polyline fill=\"none\" points=\"165,-166.5 165,-212.5 \" stroke=\"#000000\"/>\n<text fill=\"#000000\" font-family=\"Times,serif\" font-size=\"14.00\" text-anchor=\"middle\" x=\"212.5\" y=\"-185.8\">(None, 7936)</text>\n<polyline fill=\"none\" points=\"260,-166.5 260,-212.5 \" stroke=\"#000000\"/>\n<text fill=\"#000000\" font-family=\"Times,serif\" font-size=\"14.00\" text-anchor=\"middle\" x=\"303.5\" y=\"-185.8\">(None, 250)</text>\n</g>\n<!-- 140220807038736&#45;&gt;140220807038608 -->\n<g class=\"edge\" id=\"edge8\">\n<title>140220807038736-&gt;140220807038608</title>\n<path d=\"M201,-249.3799C201,-241.1745 201,-231.7679 201,-222.8786\" fill=\"none\" stroke=\"#000000\"/>\n<polygon fill=\"#000000\" points=\"204.5001,-222.784 201,-212.784 197.5001,-222.784 204.5001,-222.784\" stroke=\"#000000\"/>\n</g>\n<!-- 140220810446928 -->\n<g class=\"node\" id=\"node10\">\n<title>140220810446928</title>\n<polygon fill=\"none\" points=\"46.5,-83.5 46.5,-129.5 355.5,-129.5 355.5,-83.5 46.5,-83.5\" stroke=\"#000000\"/>\n<text fill=\"#000000\" font-family=\"Times,serif\" font-size=\"14.00\" text-anchor=\"middle\" x=\"85\" y=\"-114.3\">dropout_1</text>\n<polyline fill=\"none\" points=\"46.5,-106.5 123.5,-106.5 \" stroke=\"#000000\"/>\n<text fill=\"#000000\" font-family=\"Times,serif\" font-size=\"14.00\" text-anchor=\"middle\" x=\"85\" y=\"-91.3\">Dropout</text>\n<polyline fill=\"none\" points=\"123.5,-83.5 123.5,-129.5 \" stroke=\"#000000\"/>\n<text fill=\"#000000\" font-family=\"Times,serif\" font-size=\"14.00\" text-anchor=\"middle\" x=\"152.5\" y=\"-114.3\">input:</text>\n<polyline fill=\"none\" points=\"123.5,-106.5 181.5,-106.5 \" stroke=\"#000000\"/>\n<text fill=\"#000000\" font-family=\"Times,serif\" font-size=\"14.00\" text-anchor=\"middle\" x=\"152.5\" y=\"-91.3\">output:</text>\n<polyline fill=\"none\" points=\"181.5,-83.5 181.5,-129.5 \" stroke=\"#000000\"/>\n<text fill=\"#000000\" font-family=\"Times,serif\" font-size=\"14.00\" text-anchor=\"middle\" x=\"225\" y=\"-102.8\">(None, 250)</text>\n<polyline fill=\"none\" points=\"268.5,-83.5 268.5,-129.5 \" stroke=\"#000000\"/>\n<text fill=\"#000000\" font-family=\"Times,serif\" font-size=\"14.00\" text-anchor=\"middle\" x=\"312\" y=\"-102.8\">(None, 250)</text>\n</g>\n<!-- 140220807038608&#45;&gt;140220810446928 -->\n<g class=\"edge\" id=\"edge9\">\n<title>140220807038608-&gt;140220810446928</title>\n<path d=\"M201,-166.3799C201,-158.1745 201,-148.7679 201,-139.8786\" fill=\"none\" stroke=\"#000000\"/>\n<polygon fill=\"#000000\" points=\"204.5001,-139.784 201,-129.784 197.5001,-139.784 204.5001,-139.784\" stroke=\"#000000\"/>\n</g>\n<!-- 140220807039696 -->\n<g class=\"node\" id=\"node11\">\n<title>140220807039696</title>\n<polygon fill=\"none\" points=\"60.5,-.5 60.5,-46.5 341.5,-46.5 341.5,-.5 60.5,-.5\" stroke=\"#000000\"/>\n<text fill=\"#000000\" font-family=\"Times,serif\" font-size=\"14.00\" text-anchor=\"middle\" x=\"92.5\" y=\"-31.3\">dense_1</text>\n<polyline fill=\"none\" points=\"60.5,-23.5 124.5,-23.5 \" stroke=\"#000000\"/>\n<text fill=\"#000000\" font-family=\"Times,serif\" font-size=\"14.00\" text-anchor=\"middle\" x=\"92.5\" y=\"-8.3\">Dense</text>\n<polyline fill=\"none\" points=\"124.5,-.5 124.5,-46.5 \" stroke=\"#000000\"/>\n<text fill=\"#000000\" font-family=\"Times,serif\" font-size=\"14.00\" text-anchor=\"middle\" x=\"153.5\" y=\"-31.3\">input:</text>\n<polyline fill=\"none\" points=\"124.5,-23.5 182.5,-23.5 \" stroke=\"#000000\"/>\n<text fill=\"#000000\" font-family=\"Times,serif\" font-size=\"14.00\" text-anchor=\"middle\" x=\"153.5\" y=\"-8.3\">output:</text>\n<polyline fill=\"none\" points=\"182.5,-.5 182.5,-46.5 \" stroke=\"#000000\"/>\n<text fill=\"#000000\" font-family=\"Times,serif\" font-size=\"14.00\" text-anchor=\"middle\" x=\"226\" y=\"-19.8\">(None, 250)</text>\n<polyline fill=\"none\" points=\"269.5,-.5 269.5,-46.5 \" stroke=\"#000000\"/>\n<text fill=\"#000000\" font-family=\"Times,serif\" font-size=\"14.00\" text-anchor=\"middle\" x=\"305.5\" y=\"-19.8\">(None, 1)</text>\n</g>\n<!-- 140220810446928&#45;&gt;140220807039696 -->\n<g class=\"edge\" id=\"edge10\">\n<title>140220810446928-&gt;140220807039696</title>\n<path d=\"M201,-83.3799C201,-75.1745 201,-65.7679 201,-56.8786\" fill=\"none\" stroke=\"#000000\"/>\n<polygon fill=\"#000000\" points=\"204.5001,-56.784 201,-46.784 197.5001,-56.784 204.5001,-56.784\" stroke=\"#000000\"/>\n</g>\n</g>\n</svg>"
          },
          "metadata": {},
          "execution_count": 11
        }
      ]
    },
    {
      "cell_type": "markdown",
      "source": [
        "## Train the model"
      ],
      "metadata": {
        "id": "0ApVN4faMrkw"
      }
    },
    {
      "cell_type": "code",
      "source": [
        "concat_cnn_history = concat_cnn_model.fit(X_train, y_train, validation_data = (X_test, y_test), epochs = 10, batch_size = 128, verbose=1)"
      ],
      "metadata": {
        "colab": {
          "base_uri": "https://localhost:8080/"
        },
        "id": "q245D_4wMtUl",
        "outputId": "d8996bf8-a1c1-4cbc-b4a3-02fd7776b10c"
      },
      "execution_count": 12,
      "outputs": [
        {
          "output_type": "stream",
          "name": "stdout",
          "text": [
            "Epoch 1/10\n",
            "313/313 [==============================] - 20s 17ms/step - loss: 0.6821 - accuracy: 0.5515 - val_loss: 0.6443 - val_accuracy: 0.6314\n",
            "Epoch 2/10\n",
            "313/313 [==============================] - 5s 17ms/step - loss: 0.6203 - accuracy: 0.6564 - val_loss: 0.6186 - val_accuracy: 0.6581\n",
            "Epoch 3/10\n",
            "313/313 [==============================] - 6s 20ms/step - loss: 0.5699 - accuracy: 0.7042 - val_loss: 0.6262 - val_accuracy: 0.6607\n",
            "Epoch 4/10\n",
            "313/313 [==============================] - 6s 21ms/step - loss: 0.5286 - accuracy: 0.7399 - val_loss: 0.6255 - val_accuracy: 0.6610\n",
            "Epoch 5/10\n",
            "313/313 [==============================] - 7s 21ms/step - loss: 0.4885 - accuracy: 0.7699 - val_loss: 0.6658 - val_accuracy: 0.6488\n",
            "Epoch 6/10\n",
            "313/313 [==============================] - 5s 17ms/step - loss: 0.4475 - accuracy: 0.7925 - val_loss: 0.6946 - val_accuracy: 0.6475\n",
            "Epoch 7/10\n",
            "313/313 [==============================] - 5s 17ms/step - loss: 0.4105 - accuracy: 0.8124 - val_loss: 0.7384 - val_accuracy: 0.6379\n",
            "Epoch 8/10\n",
            "313/313 [==============================] - 5s 16ms/step - loss: 0.3798 - accuracy: 0.8308 - val_loss: 0.7879 - val_accuracy: 0.6438\n",
            "Epoch 9/10\n",
            "313/313 [==============================] - 5s 17ms/step - loss: 0.3538 - accuracy: 0.8423 - val_loss: 0.8435 - val_accuracy: 0.6364\n",
            "Epoch 10/10\n",
            "313/313 [==============================] - 6s 18ms/step - loss: 0.3251 - accuracy: 0.8587 - val_loss: 0.8812 - val_accuracy: 0.6373\n"
          ]
        }
      ]
    },
    {
      "cell_type": "markdown",
      "source": [
        "## Visualise the model plot"
      ],
      "metadata": {
        "id": "yaxAIRrWMt92"
      }
    },
    {
      "cell_type": "code",
      "source": [
        "plot_history(concat_cnn_history.history, path=\"concat_standard_cnn.png\")\n",
        "plt.show()"
      ],
      "metadata": {
        "colab": {
          "base_uri": "https://localhost:8080/",
          "height": 385
        },
        "id": "P9j8MijKMxDx",
        "outputId": "592f63c9-be49-4d05-e856-e6697e0dfdf0"
      },
      "execution_count": 13,
      "outputs": [
        {
          "output_type": "display_data",
          "data": {
            "text/plain": [
              "<Figure size 720x360 with 2 Axes>"
            ],
            "image/png": "[encoded data removed]"
          },
          "metadata": {
            "needs_background": "light"
          }
        }
      ]
    },
    {
      "cell_type": "markdown",
      "source": [
        "## Evaluate the model"
      ],
      "metadata": {
        "id": "0k2Wja75MxmQ"
      }
    },
    {
      "cell_type": "code",
      "source": [
        "concat_cnn_results = concat_cnn_model.evaluate(X_test, y_test, batch_size=128)\n",
        "print('test_loss:', concat_cnn_results[0], 'test_accuracy:', concat_cnn_results[1])"
      ],
      "metadata": {
        "colab": {
          "base_uri": "https://localhost:8080/"
        },
        "id": "e0p03TQwM0KC",
        "outputId": "4d6f74e5-fddf-4fbf-97ba-ebaf744886dc"
      },
      "execution_count": 14,
      "outputs": [
        {
          "output_type": "stream",
          "name": "stdout",
          "text": [
            "79/79 [==============================] - 1s 11ms/step - loss: 0.8812 - accuracy: 0.6373\n",
            "test_loss: 0.8812196254730225 test_accuracy: 0.6373000144958496\n"
          ]
        }
      ]
    },
    {
      "cell_type": "markdown",
      "source": [
        "### *Predicting the probability of sentence being sarcastic*"
      ],
      "metadata": {
        "id": "-0ik5phNQDF6"
      }
    },
    {
      "cell_type": "code",
      "execution_count": 15,
      "metadata": {
        "colab": {
          "base_uri": "https://localhost:8080/"
        },
        "outputId": "82dfc3af-6142-4188-d7f8-3adbfdf775f9",
        "id": "4tvpA2G-QcOI"
      },
      "outputs": [
        {
          "output_type": "stream",
          "name": "stdout",
          "text": [
            "The probability of sent7 being sarcastic is 26.130 percent\n"
          ]
        }
      ],
      "source": [
        "# Case 1 : Universal statement\n",
        "sent7 = \"sun sets in the west\"\n",
        "sent7 = tokenizer.texts_to_sequences([sent7])\n",
        "sent7 = pad_sequences(sent7, maxlen = max_length)\n",
        "\n",
        "prediction = concat_cnn_model.predict(sent7)\n",
        "print(\"The probability of sent7 being sarcastic is %.3f percent\"%(prediction[0][0]*100))"
      ]
    },
    {
      "cell_type": "code",
      "execution_count": 16,
      "metadata": {
        "colab": {
          "base_uri": "https://localhost:8080/"
        },
        "outputId": "27ed71a2-b919-461c-9327-79d1547bd515",
        "id": "6w-wssGWQcOK"
      },
      "outputs": [
        {
          "output_type": "stream",
          "name": "stdout",
          "text": [
            "The probability of sent8 being sarcastic is 68.572 percent\n"
          ]
        }
      ],
      "source": [
        "# Case 2 : Non-Sarcastic statement \n",
        "sent8 = \"totally untrue. hong kong english sucks.\"           # passing a value from parent_comment column\n",
        "sent8 = tokenizer.texts_to_sequences([sent8])\n",
        "sent8 = pad_sequences(sent8, maxlen = max_length)\n",
        "\n",
        "prediction = concat_cnn_model.predict(sent8)\n",
        "print(\"The probability of sent8 being sarcastic is %.3f percent\"%(prediction[0][0]*100))"
      ]
    },
    {
      "cell_type": "code",
      "execution_count": 17,
      "metadata": {
        "colab": {
          "base_uri": "https://localhost:8080/"
        },
        "outputId": "e8be7916-2156-436b-8642-ca564ce5276a",
        "id": "0AooSEiNQcOL"
      },
      "outputs": [
        {
          "output_type": "stream",
          "name": "stdout",
          "text": [
            "The probability of sent8_1 being sarcastic is 27.941 percent\n"
          ]
        }
      ],
      "source": [
        "# Case 2 : Non-Sarcastic statement \n",
        "sent8_1 = \"guess you have not heard malaysian or filipino english.\"      # passing a value from comment column\n",
        "sent8_1 = tokenizer.texts_to_sequences([sent8_1])\n",
        "sent8_1 = pad_sequences(sent8_1, maxlen = max_length)\n",
        "\n",
        "prediction = concat_cnn_model.predict(sent8_1)\n",
        "print(\"The probability of sent8_1 being sarcastic is %.3f percent\"%(prediction[0][0]*100))"
      ]
    },
    {
      "cell_type": "code",
      "execution_count": 18,
      "metadata": {
        "colab": {
          "base_uri": "https://localhost:8080/"
        },
        "outputId": "01c69367-f355-45de-c740-8040d993a5cf",
        "id": "JwzIqtnQQcON"
      },
      "outputs": [
        {
          "output_type": "stream",
          "name": "stdout",
          "text": [
            "The probability of sent9 being sarcastic is 19.088 percent\n"
          ]
        }
      ],
      "source": [
        "# Case 3 : Sarcastic statement statement\n",
        "sent9 = \"5s teams and 3s teams names are swapped with each other\"             # passing a value from parent_comment column\n",
        "sent9 = tokenizer.texts_to_sequences([sent9])\n",
        "sent9 = pad_sequences(sent9, maxlen = max_length)\n",
        "\n",
        "prediction = concat_cnn_model.predict(sent9)\n",
        "print(\"The probability of sent9 being sarcastic is %.3f percent\"%(prediction[0][0]*100))"
      ]
    },
    {
      "cell_type": "code",
      "execution_count": 19,
      "metadata": {
        "colab": {
          "base_uri": "https://localhost:8080/"
        },
        "outputId": "5da908fa-5860-4ff5-d978-e06be3b82d44",
        "id": "d33upt-fQcOO"
      },
      "outputs": [
        {
          "output_type": "stream",
          "name": "stdout",
          "text": [
            "The probability of sent9_1 being sarcastic is 67.238 percent\n"
          ]
        }
      ],
      "source": [
        "# Case 3 : Sarcastic statement statement\n",
        "sent9_1 = \"not even riot cares about ranked teams\"           # passing a value from comment column\n",
        "sent9_1 = tokenizer.texts_to_sequences([sent9_1])\n",
        "sent9_1 = pad_sequences(sent9_1, maxlen = max_length)\n",
        "\n",
        "prediction = concat_cnn_model.predict(sent9_1)\n",
        "print(\"The probability of sent9_1 being sarcastic is %.3f percent\"%(prediction[0][0]*100))"
      ]
    }
  ],
  "metadata": {
    "accelerator": "GPU",
    "colab": {
      "collapsed_sections": [],
      "name": "CNN.ipynb",
      "provenance": []
    },
    "gpuClass": "standard",
    "kernelspec": {
      "display_name": "Python 3",
      "name": "python3"
    },
    "language_info": {
      "name": "python"
    }
  },
  "nbformat": 4,
  "nbformat_minor": 0
}