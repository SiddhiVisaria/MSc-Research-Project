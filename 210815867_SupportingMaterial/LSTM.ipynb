{
 "cells": [
  {
   "cell_type": "markdown",
   "metadata": {
    "tags": []
   },
   "source": [
    "## Install libraries"
   ]
  },
  {
   "cell_type": "code",
   "execution_count": 1,
   "metadata": {
    "colab": {
     "base_uri": "https://localhost:8080/"
    },
    "id": "e5LPl4YEk0jh",
    "outputId": "180f6af3-b3ca-420e-ee01-61cee1e0dfb5"
   },
   "outputs": [
    {
     "name": "stdout",
     "output_type": "stream",
     "text": [
      "Requirement already satisfied: plot_keras_history in /opt/conda/lib/python3.9/site-packages (1.1.36)\n",
      "Requirement already satisfied: sanitize-ml-labels>=1.0.33 in /opt/conda/lib/python3.9/site-packages (from plot_keras_history) (1.0.43)\n",
      "Requirement already satisfied: scipy in /opt/conda/lib/python3.9/site-packages (from plot_keras_history) (1.7.3)\n",
      "Requirement already satisfied: pandas in /opt/conda/lib/python3.9/site-packages (from plot_keras_history) (1.3.5)\n",
      "Requirement already satisfied: matplotlib in /opt/conda/lib/python3.9/site-packages (from plot_keras_history) (3.5.1)\n",
      "Requirement already satisfied: compress-json in /opt/conda/lib/python3.9/site-packages (from sanitize-ml-labels>=1.0.33->plot_keras_history) (1.0.7)\n",
      "Requirement already satisfied: numpy>=1.17 in /opt/conda/lib/python3.9/site-packages (from matplotlib->plot_keras_history) (1.20.3)\n",
      "Requirement already satisfied: packaging>=20.0 in /opt/conda/lib/python3.9/site-packages (from matplotlib->plot_keras_history) (21.3)\n",
      "Requirement already satisfied: kiwisolver>=1.0.1 in /opt/conda/lib/python3.9/site-packages (from matplotlib->plot_keras_history) (1.3.2)\n",
      "Requirement already satisfied: python-dateutil>=2.7 in /opt/conda/lib/python3.9/site-packages (from matplotlib->plot_keras_history) (2.8.2)\n",
      "Requirement already satisfied: pillow>=6.2.0 in /opt/conda/lib/python3.9/site-packages (from matplotlib->plot_keras_history) (8.4.0)\n",
      "Requirement already satisfied: pyparsing>=2.2.1 in /opt/conda/lib/python3.9/site-packages (from matplotlib->plot_keras_history) (3.0.6)\n",
      "Requirement already satisfied: fonttools>=4.22.0 in /opt/conda/lib/python3.9/site-packages (from matplotlib->plot_keras_history) (4.28.5)\n",
      "Requirement already satisfied: cycler>=0.10 in /opt/conda/lib/python3.9/site-packages (from matplotlib->plot_keras_history) (0.11.0)\n",
      "Requirement already satisfied: pytz>=2017.3 in /opt/conda/lib/python3.9/site-packages (from pandas->plot_keras_history) (2021.3)\n",
      "Requirement already satisfied: six>=1.5 in /opt/conda/lib/python3.9/site-packages (from python-dateutil>=2.7->matplotlib->plot_keras_history) (1.16.0)\n",
      "\u001b[33mWARNING: You are using pip version 21.3.1; however, version 22.2.2 is available.\n",
      "You should consider upgrading via the '/opt/conda/bin/python -m pip install --upgrade pip' command.\u001b[0m\n",
      "Note: you may need to restart the kernel to use updated packages.\n"
     ]
    }
   ],
   "source": [
    "pip install plot_keras_history"
   ]
  },
  {
   "cell_type": "markdown",
   "metadata": {
    "tags": []
   },
   "source": [
    "## Importing libraries"
   ]
  },
  {
   "cell_type": "code",
   "execution_count": 38,
   "metadata": {
    "id": "nYyJWgz2k_Si"
   },
   "outputs": [],
   "source": [
    "import numpy as np\n",
    "import pandas as pd\n",
    "import tensorflow as tf\n",
    "import matplotlib.pyplot as plt\n",
    "import os\n",
    "import re\n",
    "\n",
    "from keras.layers import Input, LSTM, Activation, Lambda, Dense, Embedding, Dropout, Bidirectional, GlobalMaxPool1D, Flatten\n",
    "from keras import backend as K\n",
    "from keras.models import Model, Sequential\n",
    "from keras.preprocessing.sequence import pad_sequences\n",
    "from keras.preprocessing.text import Tokenizer\n",
    "from plot_keras_history import plot_history\n",
    "from sklearn.model_selection import train_test_split\n",
    "\n",
    "import warnings\n",
    "warnings.filterwarnings('ignore')"
   ]
  },
  {
   "cell_type": "markdown",
   "metadata": {
    "tags": []
   },
   "source": [
    "## Reading the pre-processed csv file"
   ]
  },
  {
   "cell_type": "code",
   "execution_count": 39,
   "metadata": {
    "colab": {
     "base_uri": "https://localhost:8080/"
    },
    "id": "WxfRaLfRmQdz",
    "outputId": "7f275897-24bd-4d96-bdda-ffbbebeabb3f"
   },
   "outputs": [
    {
     "data": {
      "text/plain": [
       "(50000, 3)"
      ]
     },
     "execution_count": 39,
     "metadata": {},
     "output_type": "execute_result"
    }
   ],
   "source": [
    "preprocessed_data = pd.read_csv('../Project/train-balanced-sarcasm-preprocessed.csv',sep = ',')\n",
    "preprocessed_data.shape"
   ]
  },
  {
   "cell_type": "code",
   "execution_count": 40,
   "metadata": {
    "colab": {
     "base_uri": "https://localhost:8080/"
    },
    "id": "jupoMOtkmk3I",
    "outputId": "da134200-ea0e-4df1-b764-24a10d939d1a"
   },
   "outputs": [
    {
     "data": {
      "text/plain": [
       "0    25000\n",
       "1    25000\n",
       "Name: label, dtype: int64"
      ]
     },
     "execution_count": 40,
     "metadata": {},
     "output_type": "execute_result"
    }
   ],
   "source": [
    "preprocessed_data['label'].value_counts()"
   ]
  },
  {
   "cell_type": "markdown",
   "metadata": {},
   "source": [
    "# **Let's perform BiLSTM for 'comment'**"
   ]
  },
  {
   "cell_type": "markdown",
   "metadata": {
    "tags": []
   },
   "source": [
    "## Reading Inputs for the model"
   ]
  },
  {
   "cell_type": "code",
   "execution_count": 41,
   "metadata": {
    "colab": {
     "base_uri": "https://localhost:8080/"
    },
    "id": "-y1OvWM5mmzA",
    "outputId": "35713289-97d9-481f-cc72-fee098ce048b"
   },
   "outputs": [
    {
     "name": "stdout",
     "output_type": "stream",
     "text": [
      "40000\n"
     ]
    }
   ],
   "source": [
    "EMBED_SIZE = 128\n",
    "max_length = 10000\n",
    "oov_tok = \"<OOV>\"\n",
    "training_size = int(round(preprocessed_data['label'].count(), -1) * 0.8)\n",
    "print(training_size)"
   ]
  },
  {
   "cell_type": "code",
   "execution_count": null,
   "metadata": {
    "id": "_LLiKJPEmtZa"
   },
   "outputs": [],
   "source": [
    "comments = preprocessed_data['comment']\n",
    "labels = preprocessed_data['label']\n",
    "train_data = comments[0:training_size]\n",
    "train_label = labels[0:training_size]\n",
    "test_data = comments[training_size:]\n",
    "test_label = labels[training_size:]"
   ]
  },
  {
   "cell_type": "code",
   "execution_count": 43,
   "metadata": {
    "id": "gBskj7mzm4mH"
   },
   "outputs": [],
   "source": [
    "VOCAB_SIZE = 10000\n",
    "tokenizer = Tokenizer(num_words=VOCAB_SIZE,oov_token=oov_tok)\n",
    "tokenizer.fit_on_texts(train_data)\n",
    "\n",
    "word_index = tokenizer.word_index\n",
    "\n",
    "train_sequences = tokenizer.texts_to_sequences(train_data)\n",
    "padded_train_data = pad_sequences(train_sequences, padding='post', truncating='post', maxlen=max_length)\n",
    "\n",
    "test_sequences = tokenizer.texts_to_sequences(test_data)\n",
    "padded_test_data = pad_sequences(test_sequences, padding='post', truncating='post', maxlen=max_length)"
   ]
  },
  {
   "cell_type": "code",
   "execution_count": 44,
   "metadata": {
    "colab": {
     "base_uri": "https://localhost:8080/"
    },
    "id": "WkH0tZPDm6n5",
    "outputId": "f19dbcad-48b9-4c83-99de-0f97d0bdf771"
   },
   "outputs": [
    {
     "name": "stdout",
     "output_type": "stream",
     "text": [
      "Length of sample train_data before preprocessing: 10\n",
      "Length of sample train_data after preprocessing: 10000\n",
      "Sample train data: [4280   10 7638 ...    0    0    0]\n",
      "Sample train label: 0\n"
     ]
    }
   ],
   "source": [
    "print('Length of sample train_data before preprocessing:', len(train_data[0]))\n",
    "print('Length of sample train_data after preprocessing:', len(padded_train_data[0]))\n",
    "print('Sample train data:', padded_train_data[0])\n",
    "print('Sample train label:', train_label[0])"
   ]
  },
  {
   "cell_type": "code",
   "execution_count": 45,
   "metadata": {
    "colab": {
     "base_uri": "https://localhost:8080/"
    },
    "id": "6zME00OonU2d",
    "outputId": "7d1ead0b-5f75-4236-95cf-78038a56c070"
   },
   "outputs": [],
   "source": [
    "train_sequences = np.array(train_sequences)\n",
    "padded_train_data = np.array(padded_train_data)\n",
    "test_sequences = np.array(test_sequences)\n",
    "padded_test_data = np.array(padded_test_data)"
   ]
  },
  {
   "cell_type": "markdown",
   "metadata": {
    "tags": []
   },
   "source": [
    "## Building the Model"
   ]
  },
  {
   "cell_type": "code",
   "execution_count": 46,
   "metadata": {
    "id": "zBjoeBr8ng7U"
   },
   "outputs": [],
   "source": [
    "lstm_model=Sequential()\n",
    "lstm_model.add(Embedding(VOCAB_SIZE,EMBED_SIZE,input_length=max_length))\n",
    "lstm_model.add(Dropout(0.5))\n",
    "lstm_model.add(Bidirectional(LSTM(100)))\n",
    "lstm_model.add(Dropout(0.5))\n",
    "lstm_model.add(Flatten())\n",
    "lstm_model.add(Dense(1,activation='sigmoid'))\n",
    "lstm_model.compile(loss='binary_crossentropy',optimizer='adam',metrics=['accuracy'])"
   ]
  },
  {
   "cell_type": "code",
   "execution_count": 47,
   "metadata": {},
   "outputs": [
    {
     "name": "stdout",
     "output_type": "stream",
     "text": [
      "Model: \"sequential_2\"\n",
      "_________________________________________________________________\n",
      " Layer (type)                Output Shape              Param #   \n",
      "=================================================================\n",
      " embedding_2 (Embedding)     (None, 10000, 128)        1280000   \n",
      "                                                                 \n",
      " dropout_4 (Dropout)         (None, 10000, 128)        0         \n",
      "                                                                 \n",
      " bidirectional_2 (Bidirectio  (None, 200)              183200    \n",
      " nal)                                                            \n",
      "                                                                 \n",
      " dropout_5 (Dropout)         (None, 200)               0         \n",
      "                                                                 \n",
      " flatten_2 (Flatten)         (None, 200)               0         \n",
      "                                                                 \n",
      " dense_2 (Dense)             (None, 1)                 201       \n",
      "                                                                 \n",
      "=================================================================\n",
      "Total params: 1,463,401\n",
      "Trainable params: 1,463,401\n",
      "Non-trainable params: 0\n",
      "_________________________________________________________________\n"
     ]
    }
   ],
   "source": [
    "lstm_model.summary()"
   ]
  },
  {
   "cell_type": "markdown",
   "metadata": {
    "tags": []
   },
   "source": [
    "## Train the Model"
   ]
  },
  {
   "cell_type": "code",
   "execution_count": 50,
   "metadata": {},
   "outputs": [
    {
     "name": "stdout",
     "output_type": "stream",
     "text": [
      "Epoch 1/10\n",
      "282/282 [==============================] - 208s 736ms/step - loss: 0.2500 - accuracy: 0.8943 - val_loss: 2.1058 - val_accuracy: 0.4205\n",
      "Epoch 2/10\n",
      "282/282 [==============================] - 207s 735ms/step - loss: 0.2373 - accuracy: 0.9003 - val_loss: 1.9380 - val_accuracy: 0.4523\n",
      "Epoch 3/10\n",
      "282/282 [==============================] - 207s 735ms/step - loss: 0.2233 - accuracy: 0.9053 - val_loss: 1.9383 - val_accuracy: 0.4405\n",
      "Epoch 4/10\n",
      "282/282 [==============================] - 207s 734ms/step - loss: 0.2123 - accuracy: 0.9108 - val_loss: 2.4561 - val_accuracy: 0.3790\n",
      "Epoch 5/10\n",
      "282/282 [==============================] - 221s 784ms/step - loss: 0.2032 - accuracy: 0.9143 - val_loss: 2.4777 - val_accuracy: 0.4200\n",
      "Epoch 6/10\n",
      "282/282 [==============================] - 211s 747ms/step - loss: 0.1946 - accuracy: 0.9184 - val_loss: 2.2800 - val_accuracy: 0.4478\n",
      "Epoch 7/10\n",
      "282/282 [==============================] - 208s 738ms/step - loss: 0.1857 - accuracy: 0.9213 - val_loss: 2.6261 - val_accuracy: 0.4182\n",
      "Epoch 8/10\n",
      "282/282 [==============================] - 209s 740ms/step - loss: 0.1821 - accuracy: 0.9234 - val_loss: 2.3073 - val_accuracy: 0.4355\n",
      "Epoch 9/10\n",
      "282/282 [==============================] - 206s 732ms/step - loss: 0.1759 - accuracy: 0.9272 - val_loss: 2.3460 - val_accuracy: 0.4140\n",
      "Epoch 10/10\n",
      "282/282 [==============================] - 206s 732ms/step - loss: 0.1681 - accuracy: 0.9295 - val_loss: 2.7341 - val_accuracy: 0.4250\n"
     ]
    }
   ],
   "source": [
    "lstm_history = lstm_model.fit(padded_train_data, train_label, epochs=10, batch_size=128, validation_split=0.1, verbose=1)"
   ]
  },
  {
   "cell_type": "markdown",
   "metadata": {
    "tags": []
   },
   "source": [
    "## Visualize the model plot"
   ]
  },
  {
   "cell_type": "code",
   "execution_count": 51,
   "metadata": {
    "tags": []
   },
   "outputs": [
    {
     "data": {
      "image/png": "[encoded data removed]",
      "text/plain": [
       "<Figure size 720x360 with 2 Axes>"
      ]
     },
     "metadata": {
      "needs_background": "light"
     },
     "output_type": "display_data"
    }
   ],
   "source": [
    "plot_history(lstm_history.history, path=\"standard_comment_1.png\")\n",
    "plt.show()"
   ]
  },
  {
   "cell_type": "markdown",
   "metadata": {
    "tags": []
   },
   "source": [
    "## Evaluate the model"
   ]
  },
  {
   "cell_type": "code",
   "execution_count": 52,
   "metadata": {},
   "outputs": [
    {
     "data": {
      "text/html": [
       "<div>\n",
       "<style scoped>\n",
       "    .dataframe tbody tr th:only-of-type {\n",
       "        vertical-align: middle;\n",
       "    }\n",
       "\n",
       "    .dataframe tbody tr th {\n",
       "        vertical-align: top;\n",
       "    }\n",
       "\n",
       "    .dataframe thead th {\n",
       "        text-align: right;\n",
       "    }\n",
       "</style>\n",
       "<table border=\"1\" class=\"dataframe\">\n",
       "  <thead>\n",
       "    <tr style=\"text-align: right;\">\n",
       "      <th></th>\n",
       "      <th>label</th>\n",
       "      <th>comment</th>\n",
       "      <th>parent_comment</th>\n",
       "    </tr>\n",
       "  </thead>\n",
       "  <tbody>\n",
       "    <tr>\n",
       "      <th>45259</th>\n",
       "      <td>1</td>\n",
       "      <td>gotta have full health for round 2.</td>\n",
       "      <td>seriously ! even if i am friggn mercy i push m...</td>\n",
       "    </tr>\n",
       "    <tr>\n",
       "      <th>40247</th>\n",
       "      <td>1</td>\n",
       "      <td>we did it reddit !</td>\n",
       "      <td>same-sex couples can now adopt children in all...</td>\n",
       "    </tr>\n",
       "    <tr>\n",
       "      <th>33489</th>\n",
       "      <td>1</td>\n",
       "      <td>reported for unsportsmanlike conduct you afk c...</td>\n",
       "      <td>yeah my bad ! i am mostly afk</td>\n",
       "    </tr>\n",
       "    <tr>\n",
       "      <th>25392</th>\n",
       "      <td>1</td>\n",
       "      <td>yeh a *real man* would have thrown the baby in...</td>\n",
       "      <td>\" what kind of man is getting his arse kicked ...</td>\n",
       "    </tr>\n",
       "    <tr>\n",
       "      <th>33198</th>\n",
       "      <td>1</td>\n",
       "      <td>drop them both , they can only go down from here</td>\n",
       "      <td>who should be more worried , adrian peterson o...</td>\n",
       "    </tr>\n",
       "    <tr>\n",
       "      <th>43768</th>\n",
       "      <td>1</td>\n",
       "      <td>whatever losers , i got a stag so i am basical...</td>\n",
       "      <td>it is so bizarre how many people are putting s...</td>\n",
       "    </tr>\n",
       "    <tr>\n",
       "      <th>47816</th>\n",
       "      <td>1</td>\n",
       "      <td>*come to browse thread with no intention of bu...</td>\n",
       "      <td>a game where i can make a house and feel at ho...</td>\n",
       "    </tr>\n",
       "    <tr>\n",
       "      <th>38170</th>\n",
       "      <td>1</td>\n",
       "      <td>but what about tebow ?</td>\n",
       "      <td>mets hopeful that degrom , matz , duda , and l...</td>\n",
       "    </tr>\n",
       "    <tr>\n",
       "      <th>42714</th>\n",
       "      <td>1</td>\n",
       "      <td>but macs can never be hacked !</td>\n",
       "      <td>5 essential tips for being pcmr in a apple hou...</td>\n",
       "    </tr>\n",
       "    <tr>\n",
       "      <th>36782</th>\n",
       "      <td>1</td>\n",
       "      <td>manlets are not people</td>\n",
       "      <td>i am not racist , some of my best friends are ...</td>\n",
       "    </tr>\n",
       "  </tbody>\n",
       "</table>\n",
       "</div>"
      ],
      "text/plain": [
       "       label                                            comment  \\\n",
       "45259      1                gotta have full health for round 2.   \n",
       "40247      1                                 we did it reddit !   \n",
       "33489      1  reported for unsportsmanlike conduct you afk c...   \n",
       "25392      1  yeh a *real man* would have thrown the baby in...   \n",
       "33198      1   drop them both , they can only go down from here   \n",
       "43768      1  whatever losers , i got a stag so i am basical...   \n",
       "47816      1  *come to browse thread with no intention of bu...   \n",
       "38170      1                             but what about tebow ?   \n",
       "42714      1                     but macs can never be hacked !   \n",
       "36782      1                             manlets are not people   \n",
       "\n",
       "                                          parent_comment  \n",
       "45259  seriously ! even if i am friggn mercy i push m...  \n",
       "40247  same-sex couples can now adopt children in all...  \n",
       "33489                      yeah my bad ! i am mostly afk  \n",
       "25392  \" what kind of man is getting his arse kicked ...  \n",
       "33198  who should be more worried , adrian peterson o...  \n",
       "43768  it is so bizarre how many people are putting s...  \n",
       "47816  a game where i can make a house and feel at ho...  \n",
       "38170  mets hopeful that degrom , matz , duda , and l...  \n",
       "42714  5 essential tips for being pcmr in a apple hou...  \n",
       "36782  i am not racist , some of my best friends are ...  "
      ]
     },
     "execution_count": 52,
     "metadata": {},
     "output_type": "execute_result"
    }
   ],
   "source": [
    "preprocessed_data[preprocessed_data['label']==1].sample(10)"
   ]
  },
  {
   "cell_type": "code",
   "execution_count": 53,
   "metadata": {
    "tags": []
   },
   "outputs": [
    {
     "data": {
      "text/html": [
       "<div>\n",
       "<style scoped>\n",
       "    .dataframe tbody tr th:only-of-type {\n",
       "        vertical-align: middle;\n",
       "    }\n",
       "\n",
       "    .dataframe tbody tr th {\n",
       "        vertical-align: top;\n",
       "    }\n",
       "\n",
       "    .dataframe thead th {\n",
       "        text-align: right;\n",
       "    }\n",
       "</style>\n",
       "<table border=\"1\" class=\"dataframe\">\n",
       "  <thead>\n",
       "    <tr style=\"text-align: right;\">\n",
       "      <th></th>\n",
       "      <th>label</th>\n",
       "      <th>comment</th>\n",
       "      <th>parent_comment</th>\n",
       "    </tr>\n",
       "  </thead>\n",
       "  <tbody>\n",
       "    <tr>\n",
       "      <th>19755</th>\n",
       "      <td>0</td>\n",
       "      <td>i think they ignore the old testament , except...</td>\n",
       "      <td>exodus 20 : 7 god will not leave this unpunished.</td>\n",
       "    </tr>\n",
       "    <tr>\n",
       "      <th>18777</th>\n",
       "      <td>0</td>\n",
       "      <td>then you not really with the shits fam simple ...</td>\n",
       "      <td>hell no i did not bring a banana</td>\n",
       "    </tr>\n",
       "    <tr>\n",
       "      <th>2024</th>\n",
       "      <td>0</td>\n",
       "      <td>only the new york district court said it was u...</td>\n",
       "      <td>lester just told you stop and frisk was ruled ...</td>\n",
       "    </tr>\n",
       "    <tr>\n",
       "      <th>17343</th>\n",
       "      <td>0</td>\n",
       "      <td>gg downvoted correcting someone when that some...</td>\n",
       "      <td>correct yourself before you correct others. *p...</td>\n",
       "    </tr>\n",
       "    <tr>\n",
       "      <th>6869</th>\n",
       "      <td>0</td>\n",
       "      <td>double sheen on q is actually reasonable to re...</td>\n",
       "      <td>the only one of these that actually sounds pla...</td>\n",
       "    </tr>\n",
       "    <tr>\n",
       "      <th>1488</th>\n",
       "      <td>0</td>\n",
       "      <td>do you have \" looking for everyone \" selected ?</td>\n",
       "      <td>why are there so many guys in my quickmatch ? ...</td>\n",
       "    </tr>\n",
       "    <tr>\n",
       "      <th>14323</th>\n",
       "      <td>0</td>\n",
       "      <td>same for .cfm</td>\n",
       "      <td>this is frustrating. working with .phtml files...</td>\n",
       "    </tr>\n",
       "    <tr>\n",
       "      <th>9684</th>\n",
       "      <td>0</td>\n",
       "      <td>they voted with their brains and not with thei...</td>\n",
       "      <td>why so many women abandoned hillary clinton.</td>\n",
       "    </tr>\n",
       "    <tr>\n",
       "      <th>20581</th>\n",
       "      <td>0</td>\n",
       "      <td>means</td>\n",
       "      <td>if necessity is the mother of invention , than...</td>\n",
       "    </tr>\n",
       "    <tr>\n",
       "      <th>15687</th>\n",
       "      <td>0</td>\n",
       "      <td>was he by any chance a mormon ?</td>\n",
       "      <td>i have an awful one. when i was in kindergarte...</td>\n",
       "    </tr>\n",
       "  </tbody>\n",
       "</table>\n",
       "</div>"
      ],
      "text/plain": [
       "       label                                            comment  \\\n",
       "19755      0  i think they ignore the old testament , except...   \n",
       "18777      0  then you not really with the shits fam simple ...   \n",
       "2024       0  only the new york district court said it was u...   \n",
       "17343      0  gg downvoted correcting someone when that some...   \n",
       "6869       0  double sheen on q is actually reasonable to re...   \n",
       "1488       0    do you have \" looking for everyone \" selected ?   \n",
       "14323      0                                      same for .cfm   \n",
       "9684       0  they voted with their brains and not with thei...   \n",
       "20581      0                                              means   \n",
       "15687      0                    was he by any chance a mormon ?   \n",
       "\n",
       "                                          parent_comment  \n",
       "19755  exodus 20 : 7 god will not leave this unpunished.  \n",
       "18777                   hell no i did not bring a banana  \n",
       "2024   lester just told you stop and frisk was ruled ...  \n",
       "17343  correct yourself before you correct others. *p...  \n",
       "6869   the only one of these that actually sounds pla...  \n",
       "1488   why are there so many guys in my quickmatch ? ...  \n",
       "14323  this is frustrating. working with .phtml files...  \n",
       "9684        why so many women abandoned hillary clinton.  \n",
       "20581  if necessity is the mother of invention , than...  \n",
       "15687  i have an awful one. when i was in kindergarte...  "
      ]
     },
     "execution_count": 53,
     "metadata": {},
     "output_type": "execute_result"
    }
   ],
   "source": [
    "preprocessed_data[preprocessed_data['label']==0].sample(10)"
   ]
  },
  {
   "cell_type": "code",
   "execution_count": 54,
   "metadata": {},
   "outputs": [
    {
     "name": "stdout",
     "output_type": "stream",
     "text": [
      "79/79 [==============================] - 23s 284ms/step - loss: 2.6215 - accuracy: 0.4302\n",
      "test_loss: 2.621488571166992 test_accuracy: 0.4302000105381012\n"
     ]
    }
   ],
   "source": [
    "lstm_results = lstm_model.evaluate(padded_test_data, test_label, batch_size=128)\n",
    "print('test_loss:', lstm_results[0], 'test_accuracy:', lstm_results[1])"
   ]
  },
  {
   "cell_type": "markdown",
   "metadata": {
    "tags": []
   },
   "source": [
    "### *Predicting the probability of sentence being sarcastic*"
   ]
  },
  {
   "cell_type": "code",
   "execution_count": 55,
   "metadata": {},
   "outputs": [
    {
     "name": "stdout",
     "output_type": "stream",
     "text": [
      "The probability of sent1 being sarcastic is 12.120 percent\n"
     ]
    }
   ],
   "source": [
    "# Case 1 : Universal statement\n",
    "sent1 = \"sun sets in the west\"\n",
    "sent1 = tokenizer.texts_to_sequences([sent1])\n",
    "sent1 = pad_sequences(sent1, maxlen = max_length)\n",
    "\n",
    "# Make the prediction.\n",
    "prediction = lstm_model.predict(sent1)\n",
    "print(\"The probability of sent1 being sarcastic is %.3f percent\"%(prediction[0][0]*100))"
   ]
  },
  {
   "cell_type": "code",
   "execution_count": 56,
   "metadata": {},
   "outputs": [
    {
     "name": "stdout",
     "output_type": "stream",
     "text": [
      "The probability of sent2 being sarcastic is 14.244 percent\n"
     ]
    }
   ],
   "source": [
    "# Case 2 : Non-Sarcastic statement \n",
    "sent2 = \"totally untrue. hong kong english sucks.\"           # passing a value from parent_comment column\n",
    "sent2 = tokenizer.texts_to_sequences([sent2])\n",
    "sent2 = pad_sequences(sent2, maxlen = max_length)\n",
    "\n",
    "prediction = lstm_model.predict(sent2)\n",
    "print(\"The probability of sent2 being sarcastic is %.3f percent\"%(prediction[0][0]*100))"
   ]
  },
  {
   "cell_type": "code",
   "execution_count": 57,
   "metadata": {},
   "outputs": [
    {
     "name": "stdout",
     "output_type": "stream",
     "text": [
      "The probability of sent2_1 being sarcastic is 14.127 percent\n"
     ]
    }
   ],
   "source": [
    "# Case 2 : Non-Sarcastic statement \n",
    "sent2_1 = \"guess you have not heard malaysian or filipino english.\"      # passing a value from comment column\n",
    "sent2_1 = tokenizer.texts_to_sequences([sent2_1])\n",
    "sent2_1 = pad_sequences(sent2_1, maxlen = max_length)\n",
    "\n",
    "prediction = lstm_model.predict(sent2_1)\n",
    "print(\"The probability of sent2_1 being sarcastic is %.3f percent\"%(prediction[0][0]*100))"
   ]
  },
  {
   "cell_type": "code",
   "execution_count": 58,
   "metadata": {},
   "outputs": [
    {
     "name": "stdout",
     "output_type": "stream",
     "text": [
      "The probability of sent3 being sarcastic is 13.043 percent\n"
     ]
    }
   ],
   "source": [
    "# Case 3 : Sarcastic statement statement\n",
    "sent3 = \"5s teams and 3s teams names are swapped with each other\"             # passing a value from parent_comment column\n",
    "sent3 = tokenizer.texts_to_sequences([sent3])\n",
    "sent3 = pad_sequences(sent3, maxlen = max_length)\n",
    "\n",
    "prediction = lstm_model.predict(sent3)\n",
    "print(\"The probability of sent3 being sarcastic is %.3f percent\"%(prediction[0][0]*100))"
   ]
  },
  {
   "cell_type": "code",
   "execution_count": 59,
   "metadata": {},
   "outputs": [
    {
     "name": "stdout",
     "output_type": "stream",
     "text": [
      "The probability of sent3_1 being sarcastic is 10.183 percent\n"
     ]
    }
   ],
   "source": [
    "# Case 3 : Sarcastic statement statement\n",
    "sent3_1 = \"not even riot cares about ranked teams\"           # passing a value from comment column\n",
    "sent3_1 = tokenizer.texts_to_sequences([sent3_1])\n",
    "sent3_1 = pad_sequences(sent3_1, maxlen = max_length)\n",
    "\n",
    "prediction = lstm_model.predict(sent3_1)\n",
    "print(\"The probability of sent3_1 being sarcastic is %.3f percent\"%(prediction[0][0]*100))"
   ]
  },
  {
   "cell_type": "markdown",
   "metadata": {
    "tags": []
   },
   "source": [
    "# **Let's perform BiLSTM for 'parent_comment'**"
   ]
  },
  {
   "cell_type": "markdown",
   "metadata": {
    "tags": []
   },
   "source": [
    "## Reading Inputs for the model"
   ]
  },
  {
   "cell_type": "code",
   "execution_count": 60,
   "metadata": {},
   "outputs": [],
   "source": [
    "parent_comments = preprocessed_data['parent_comment']\n",
    "labels = preprocessed_data['label']\n",
    "train_data_parent = parent_comments[0:training_size]\n",
    "train_label_parent = labels[0:training_size]\n",
    "test_data_parent = parent_comments[training_size:]\n",
    "test_label_parent = labels[training_size:]"
   ]
  },
  {
   "cell_type": "code",
   "execution_count": 61,
   "metadata": {},
   "outputs": [],
   "source": [
    "VOCAB_SIZE = 10000\n",
    "tokenizer = Tokenizer(num_words=VOCAB_SIZE,oov_token=oov_tok)\n",
    "tokenizer.fit_on_texts(train_data_parent)\n",
    "\n",
    "word_index = tokenizer.word_index\n",
    "\n",
    "train_sequences_parent = tokenizer.texts_to_sequences(train_data_parent)\n",
    "padded_train_data_parent = pad_sequences(train_sequences_parent, padding='post', truncating='post', maxlen=max_length)\n",
    "\n",
    "test_sequences_parent = tokenizer.texts_to_sequences(test_data_parent)\n",
    "padded_test_data_parent = pad_sequences(test_sequences_parent, padding='post', truncating='post', maxlen=max_length)"
   ]
  },
  {
   "cell_type": "code",
   "execution_count": 62,
   "metadata": {},
   "outputs": [],
   "source": [
    "train_sequences_parent = np.array(train_sequences_parent)\n",
    "padded_train_data_parent = np.array(padded_train_data_parent)\n",
    "test_sequences_parent = np.array(test_sequences_parent)\n",
    "padded_test_data_parent = np.array(padded_test_data_parent)"
   ]
  },
  {
   "cell_type": "markdown",
   "metadata": {
    "tags": []
   },
   "source": [
    "## Building the Model"
   ]
  },
  {
   "cell_type": "code",
   "execution_count": 63,
   "metadata": {},
   "outputs": [],
   "source": [
    "lstm_model_parent=Sequential()\n",
    "lstm_model_parent.add(Embedding(VOCAB_SIZE,EMBED_SIZE,input_length=max_length))\n",
    "lstm_model_parent.add(Dropout(0.5))\n",
    "lstm_model_parent.add(Bidirectional(LSTM(100)))\n",
    "lstm_model_parent.add(Dropout(0.5))\n",
    "lstm_model_parent.add(Flatten())\n",
    "lstm_model_parent.add(Dense(1,activation='sigmoid'))"
   ]
  },
  {
   "cell_type": "code",
   "execution_count": 64,
   "metadata": {},
   "outputs": [
    {
     "name": "stdout",
     "output_type": "stream",
     "text": [
      "Model: \"sequential_3\"\n",
      "_________________________________________________________________\n",
      " Layer (type)                Output Shape              Param #   \n",
      "=================================================================\n",
      " embedding_3 (Embedding)     (None, 10000, 128)        1280000   \n",
      "                                                                 \n",
      " dropout_6 (Dropout)         (None, 10000, 128)        0         \n",
      "                                                                 \n",
      " bidirectional_3 (Bidirectio  (None, 200)              183200    \n",
      " nal)                                                            \n",
      "                                                                 \n",
      " dropout_7 (Dropout)         (None, 200)               0         \n",
      "                                                                 \n",
      " flatten_3 (Flatten)         (None, 200)               0         \n",
      "                                                                 \n",
      " dense_3 (Dense)             (None, 1)                 201       \n",
      "                                                                 \n",
      "=================================================================\n",
      "Total params: 1,463,401\n",
      "Trainable params: 1,463,401\n",
      "Non-trainable params: 0\n",
      "_________________________________________________________________\n"
     ]
    }
   ],
   "source": [
    "lstm_model_parent.compile(loss='binary_crossentropy',optimizer='adam',metrics=['accuracy'])\n",
    "lstm_model_parent.summary()"
   ]
  },
  {
   "cell_type": "markdown",
   "metadata": {
    "tags": []
   },
   "source": [
    "## Train the Model"
   ]
  },
  {
   "cell_type": "code",
   "execution_count": 65,
   "metadata": {},
   "outputs": [
    {
     "name": "stdout",
     "output_type": "stream",
     "text": [
      "Epoch 1/10\n",
      "282/282 [==============================] - 211s 737ms/step - loss: 0.6141 - accuracy: 0.6939 - val_loss: 1.0141 - val_accuracy: 0.0033\n",
      "Epoch 2/10\n",
      "282/282 [==============================] - 208s 736ms/step - loss: 0.5867 - accuracy: 0.7036 - val_loss: 1.1502 - val_accuracy: 0.0865\n",
      "Epoch 3/10\n",
      "282/282 [==============================] - 207s 733ms/step - loss: 0.5447 - accuracy: 0.7292 - val_loss: 1.1278 - val_accuracy: 0.2085\n",
      "Epoch 4/10\n",
      "282/282 [==============================] - 206s 731ms/step - loss: 0.4952 - accuracy: 0.7634 - val_loss: 1.3396 - val_accuracy: 0.2345\n",
      "Epoch 5/10\n",
      "282/282 [==============================] - 206s 732ms/step - loss: 0.4503 - accuracy: 0.7916 - val_loss: 1.4122 - val_accuracy: 0.2862\n",
      "Epoch 6/10\n",
      "282/282 [==============================] - 207s 733ms/step - loss: 0.4080 - accuracy: 0.8126 - val_loss: 1.7290 - val_accuracy: 0.2307\n",
      "Epoch 7/10\n",
      "282/282 [==============================] - 206s 732ms/step - loss: 0.3744 - accuracy: 0.8313 - val_loss: 1.6809 - val_accuracy: 0.2865\n",
      "Epoch 8/10\n",
      "282/282 [==============================] - 207s 733ms/step - loss: 0.3413 - accuracy: 0.8460 - val_loss: 1.7908 - val_accuracy: 0.2910\n",
      "Epoch 9/10\n",
      "282/282 [==============================] - 207s 733ms/step - loss: 0.3128 - accuracy: 0.8609 - val_loss: 2.0748 - val_accuracy: 0.2882\n",
      "Epoch 10/10\n",
      "282/282 [==============================] - 207s 734ms/step - loss: 0.2842 - accuracy: 0.8738 - val_loss: 2.2741 - val_accuracy: 0.2915\n"
     ]
    }
   ],
   "source": [
    "lstm_history_parent = lstm_model_parent.fit(padded_train_data_parent, \n",
    "                                            train_label_parent, epochs=10, \n",
    "                                            batch_size=128, \n",
    "                                            validation_split=0.1, \n",
    "                                            verbose=1)"
   ]
  },
  {
   "cell_type": "markdown",
   "metadata": {
    "tags": []
   },
   "source": [
    "## Visualize the model plot"
   ]
  },
  {
   "cell_type": "code",
   "execution_count": 66,
   "metadata": {},
   "outputs": [
    {
     "data": {
      "image/png": "[encoded data removed]",
      "text/plain": [
       "<Figure size 720x360 with 2 Axes>"
      ]
     },
     "metadata": {
      "needs_background": "light"
     },
     "output_type": "display_data"
    }
   ],
   "source": [
    "plot_history(lstm_history_parent.history, path=\"standard_parent.png\")\n",
    "plt.show()"
   ]
  },
  {
   "cell_type": "markdown",
   "metadata": {
    "tags": []
   },
   "source": [
    "## Evaluate the model"
   ]
  },
  {
   "cell_type": "markdown",
   "metadata": {
    "tags": []
   },
   "source": [
    "### *Predicting the probability of sentence being sarcastic*"
   ]
  },
  {
   "cell_type": "code",
   "execution_count": 67,
   "metadata": {
    "tags": []
   },
   "outputs": [
    {
     "name": "stdout",
     "output_type": "stream",
     "text": [
      "The probability of sent4 being sarcastic is 23.685 percent\n"
     ]
    }
   ],
   "source": [
    "from keras.callbacks import History\n",
    "# Case 1 : Universal statement\n",
    "sent4 = \"sun sets in the west\"\n",
    "sent4 = tokenizer.texts_to_sequences([sent4])\n",
    "sent4 = pad_sequences(sent4, maxlen = max_length)\n",
    "\n",
    "prediction = lstm_model_parent.predict(sent4)\n",
    "print(\"The probability of sent4 being sarcastic is %.3f percent\"%(prediction[0][0]*100))"
   ]
  },
  {
   "cell_type": "code",
   "execution_count": 68,
   "metadata": {},
   "outputs": [
    {
     "name": "stdout",
     "output_type": "stream",
     "text": [
      "The probability of sent5 being sarcastic is 21.343 percent\n"
     ]
    }
   ],
   "source": [
    "# Case 2 : Non-Sarcastic statement \n",
    "sent5 = \"totally untrue. hong kong english sucks.\"           # passing a value from parent_comment column\n",
    "sent5 = tokenizer.texts_to_sequences([sent5])\n",
    "sent5 = pad_sequences(sent5, maxlen = max_length)\n",
    "\n",
    "prediction = lstm_model_parent.predict(sent5)\n",
    "print(\"The probability of sent5 being sarcastic is %.3f percent\"%(prediction[0][0]*100))"
   ]
  },
  {
   "cell_type": "code",
   "execution_count": 69,
   "metadata": {},
   "outputs": [
    {
     "name": "stdout",
     "output_type": "stream",
     "text": [
      "The probability of sent5_1 being sarcastic is 22.192 percent\n"
     ]
    }
   ],
   "source": [
    "# Case 2 : Non-Sarcastic statement \n",
    "sent5_1 = \"guess you have not heard malaysian or filipino english.\"           # passing a value from comment column\n",
    "sent5_1 = tokenizer.texts_to_sequences([sent5_1])\n",
    "sent5_1 = pad_sequences(sent5_1, maxlen = max_length)\n",
    "\n",
    "prediction = lstm_model_parent.predict(sent5_1)\n",
    "print(\"The probability of sent5_1 being sarcastic is %.3f percent\"%(prediction[0][0]*100))"
   ]
  },
  {
   "cell_type": "code",
   "execution_count": 74,
   "metadata": {},
   "outputs": [
    {
     "name": "stdout",
     "output_type": "stream",
     "text": [
      "The probability of sent6 being sarcastic is 21.218 percent\n"
     ]
    }
   ],
   "source": [
    "# Case 3 : Sarcastic statement \n",
    "sent6 = \"5s teams and 3s teams names are swapped with each other\"           # passing a value from parent_comment column\n",
    "sent6 = tokenizer.texts_to_sequences([sent6])\n",
    "sent6 = pad_sequences(sent6, maxlen = max_length)\n",
    "\n",
    "prediction = lstm_model_parent.predict(sent6)\n",
    "print(\"The probability of sent6 being sarcastic is %.3f percent\"%(prediction[0][0]*100))"
   ]
  },
  {
   "cell_type": "code",
   "execution_count": 75,
   "metadata": {},
   "outputs": [
    {
     "name": "stdout",
     "output_type": "stream",
     "text": [
      "The probability of sent6_1 being sarcastic is 24.361 percent\n"
     ]
    }
   ],
   "source": [
    "# Case 3 : Sarcastic statement \n",
    "sent6_1 = \"not even riot cares about ranked teams\"           # passing a value from comment column\n",
    "sent6_1 = tokenizer.texts_to_sequences([sent6_1])\n",
    "sent6_1 = pad_sequences(sent6_1, maxlen = max_length)\n",
    "\n",
    "prediction = lstm_model_parent.predict(sent6_1)\n",
    "print(\"The probability of sent6_1 being sarcastic is %.3f percent\"%(prediction[0][0]*100))"
   ]
  },
  {
   "cell_type": "code",
   "execution_count": 76,
   "metadata": {},
   "outputs": [
    {
     "name": "stdout",
     "output_type": "stream",
     "text": [
      "79/79 [==============================] - 23s 285ms/step - loss: 2.2290 - accuracy: 0.2998\n",
      "test_loss: 2.2290143966674805 test_accuracy: 0.29980000853538513\n"
     ]
    }
   ],
   "source": [
    "lstm_results_parent = lstm_model_parent.evaluate(padded_test_data_parent, test_label_parent, batch_size=128)\n",
    "print('test_loss:', lstm_results_parent[0], 'test_accuracy:', lstm_results_parent[1])"
   ]
  },
  {
   "cell_type": "markdown",
   "metadata": {
    "tags": []
   },
   "source": [
    "# **Let's perform BiLSTM for 'comment and parent_comment'**"
   ]
  },
  {
   "cell_type": "markdown",
   "metadata": {
    "tags": []
   },
   "source": [
    "## Reading Inputs for the model"
   ]
  },
  {
   "cell_type": "markdown",
   "metadata": {
    "tags": []
   },
   "source": [
    "### *Concatenating 'comment' and 'parent_comment'*"
   ]
  },
  {
   "cell_type": "code",
   "execution_count": 92,
   "metadata": {},
   "outputs": [],
   "source": [
    "comments = preprocessed_data['comment']\n",
    "parent_comments = preprocessed_data['parent_comment']\n",
    "labels = preprocessed_data['label']\n",
    "\n",
    "concat_comments = []\n",
    "comm = ''\n",
    "for i in range (len(parent_comments)):\n",
    "    comm = comments[i] + ' <SEP> ' + parent_comments[i]\n",
    "    if (comm != ''):\n",
    "        concat_comments.append(comm)\n",
    "        comm = ''\n",
    "\n",
    "concat_comments = np.array(concat_comments)\n",
    "concat_comments = pd.Series(concat_comments, copy=False)"
   ]
  },
  {
   "cell_type": "code",
   "execution_count": 102,
   "metadata": {},
   "outputs": [],
   "source": [
    "concat_train_data = concat_comments[0:training_size]\n",
    "concat_train_label = labels[0:training_size]\n",
    "concat_test_data = concat_comments[training_size:]\n",
    "concat_test_label = labels[training_size:]"
   ]
  },
  {
   "cell_type": "code",
   "execution_count": 103,
   "metadata": {},
   "outputs": [],
   "source": [
    "VOCAB_SIZE = 10000\n",
    "tokenizer = Tokenizer(num_words=VOCAB_SIZE,oov_token=oov_tok)\n",
    "tokenizer.fit_on_texts(concat_train_data)\n",
    "\n",
    "word_index = tokenizer.word_index\n",
    "\n",
    "concat_train_sequences = tokenizer.texts_to_sequences(concat_train_data)\n",
    "concat_padded_train_data = pad_sequences(concat_train_sequences, padding='post', truncating='post', maxlen=max_length)\n",
    "\n",
    "concat_test_sequences = tokenizer.texts_to_sequences(concat_test_data)\n",
    "concat_padded_test_data = pad_sequences(concat_test_sequences, padding='post', truncating='post', maxlen=max_length)"
   ]
  },
  {
   "cell_type": "code",
   "execution_count": 104,
   "metadata": {},
   "outputs": [],
   "source": [
    "concat_train_sequences = np.array(concat_train_sequences)\n",
    "concat_padded_train_data = np.array(concat_padded_train_data)\n",
    "concat_test_sequences = np.array(concat_test_sequences)\n",
    "concat_padded_test_data = np.array(concat_padded_test_data)"
   ]
  },
  {
   "cell_type": "markdown",
   "metadata": {
    "tags": []
   },
   "source": [
    "## Building the model"
   ]
  },
  {
   "cell_type": "code",
   "execution_count": 106,
   "metadata": {},
   "outputs": [],
   "source": [
    "concat_lstm_model=Sequential()\n",
    "concat_lstm_model.add(Embedding(VOCAB_SIZE,EMBED_SIZE,input_length=max_length))\n",
    "concat_lstm_model.add(Dropout(0.5))\n",
    "concat_lstm_model.add(Bidirectional(LSTM(100)))\n",
    "concat_lstm_model.add(Dropout(0.5))\n",
    "concat_lstm_model.add(Flatten())\n",
    "concat_lstm_model.add(Dense(1,activation='sigmoid'))\n",
    "concat_lstm_model.compile(loss='binary_crossentropy',optimizer='adam',metrics=['accuracy'])"
   ]
  },
  {
   "cell_type": "code",
   "execution_count": 107,
   "metadata": {},
   "outputs": [
    {
     "name": "stdout",
     "output_type": "stream",
     "text": [
      "Model: \"sequential_4\"\n",
      "_________________________________________________________________\n",
      " Layer (type)                Output Shape              Param #   \n",
      "=================================================================\n",
      " embedding_4 (Embedding)     (None, 10000, 128)        1280000   \n",
      "                                                                 \n",
      " dropout_8 (Dropout)         (None, 10000, 128)        0         \n",
      "                                                                 \n",
      " bidirectional_4 (Bidirectio  (None, 200)              183200    \n",
      " nal)                                                            \n",
      "                                                                 \n",
      " dropout_9 (Dropout)         (None, 200)               0         \n",
      "                                                                 \n",
      " flatten_4 (Flatten)         (None, 200)               0         \n",
      "                                                                 \n",
      " dense_4 (Dense)             (None, 1)                 201       \n",
      "                                                                 \n",
      "=================================================================\n",
      "Total params: 1,463,401\n",
      "Trainable params: 1,463,401\n",
      "Non-trainable params: 0\n",
      "_________________________________________________________________\n"
     ]
    }
   ],
   "source": [
    "concat_lstm_model.summary()"
   ]
  },
  {
   "cell_type": "markdown",
   "metadata": {
    "tags": []
   },
   "source": [
    "## Train the model"
   ]
  },
  {
   "cell_type": "code",
   "execution_count": 108,
   "metadata": {},
   "outputs": [
    {
     "name": "stdout",
     "output_type": "stream",
     "text": [
      "Epoch 1/10\n",
      "282/282 [==============================] - 212s 738ms/step - loss: 0.5674 - accuracy: 0.7234 - val_loss: 1.0501 - val_accuracy: 0.2977\n",
      "Epoch 2/10\n",
      "282/282 [==============================] - 208s 737ms/step - loss: 0.4933 - accuracy: 0.7694 - val_loss: 1.2544 - val_accuracy: 0.2955\n",
      "Epoch 3/10\n",
      "282/282 [==============================] - 208s 737ms/step - loss: 0.4469 - accuracy: 0.7997 - val_loss: 1.1408 - val_accuracy: 0.3668\n",
      "Epoch 4/10\n",
      "282/282 [==============================] - 207s 733ms/step - loss: 0.4026 - accuracy: 0.8213 - val_loss: 1.1801 - val_accuracy: 0.4110\n",
      "Epoch 5/10\n",
      "282/282 [==============================] - 209s 740ms/step - loss: 0.3628 - accuracy: 0.8438 - val_loss: 1.1473 - val_accuracy: 0.4552\n",
      "Epoch 6/10\n",
      "282/282 [==============================] - 207s 733ms/step - loss: 0.3260 - accuracy: 0.8616 - val_loss: 1.4304 - val_accuracy: 0.4035\n",
      "Epoch 7/10\n",
      "282/282 [==============================] - 207s 733ms/step - loss: 0.2931 - accuracy: 0.8783 - val_loss: 1.4441 - val_accuracy: 0.4162\n",
      "Epoch 8/10\n",
      "282/282 [==============================] - 206s 732ms/step - loss: 0.2647 - accuracy: 0.8916 - val_loss: 1.5811 - val_accuracy: 0.4403\n",
      "Epoch 9/10\n",
      "282/282 [==============================] - 207s 733ms/step - loss: 0.2397 - accuracy: 0.9020 - val_loss: 1.7983 - val_accuracy: 0.4168\n",
      "Epoch 10/10\n",
      "282/282 [==============================] - 227s 806ms/step - loss: 0.2095 - accuracy: 0.9169 - val_loss: 1.9670 - val_accuracy: 0.4280\n"
     ]
    }
   ],
   "source": [
    "concat_lstm_history = concat_lstm_model.fit(concat_padded_train_data, concat_train_label, epochs=10, batch_size=128, validation_split=0.1, verbose=1)"
   ]
  },
  {
   "cell_type": "markdown",
   "metadata": {
    "tags": []
   },
   "source": [
    "## Visualise the model plot"
   ]
  },
  {
   "cell_type": "code",
   "execution_count": 109,
   "metadata": {},
   "outputs": [
    {
     "data": {
      "image/png": "[encoded data removed]",
      "text/plain": [
       "<Figure size 720x360 with 2 Axes>"
      ]
     },
     "metadata": {
      "needs_background": "light"
     },
     "output_type": "display_data"
    }
   ],
   "source": [
    "plot_history(concat_lstm_history.history, path=\"concat_standard.png\")\n",
    "plt.show()"
   ]
  },
  {
   "cell_type": "markdown",
   "metadata": {},
   "source": [
    "## Evaluate the model"
   ]
  },
  {
   "cell_type": "markdown",
   "metadata": {
    "tags": []
   },
   "source": [
    "### *Predicting the probability of sentence being sarcastic*"
   ]
  },
  {
   "cell_type": "code",
   "execution_count": 110,
   "metadata": {},
   "outputs": [
    {
     "name": "stdout",
     "output_type": "stream",
     "text": [
      "The probability of sent7 being sarcastic is 2.796 percent\n"
     ]
    }
   ],
   "source": [
    "# Case 1 : Universal statement\n",
    "sent7 = \"sun sets in the west\"\n",
    "sent7 = tokenizer.texts_to_sequences([sent7])\n",
    "sent7 = pad_sequences(sent7, maxlen = max_length)\n",
    "\n",
    "prediction = concat_lstm_model.predict(sent7)\n",
    "print(\"The probability of sent7 being sarcastic is %.3f percent\"%(prediction[0][0]*100))"
   ]
  },
  {
   "cell_type": "code",
   "execution_count": 111,
   "metadata": {},
   "outputs": [
    {
     "name": "stdout",
     "output_type": "stream",
     "text": [
      "The probability of sent8 being sarcastic is 3.059 percent\n"
     ]
    }
   ],
   "source": [
    "# Case 2 : Non-Sarcastic statement \n",
    "sent8 = \"totally untrue. hong kong english sucks.\"           # passing a value from parent_comment column\n",
    "sent8 = tokenizer.texts_to_sequences([sent8])\n",
    "sent8 = pad_sequences(sent8, maxlen = max_length)\n",
    "\n",
    "prediction = concat_lstm_model.predict(sent8)\n",
    "print(\"The probability of sent8 being sarcastic is %.3f percent\"%(prediction[0][0]*100))"
   ]
  },
  {
   "cell_type": "code",
   "execution_count": 112,
   "metadata": {},
   "outputs": [
    {
     "name": "stdout",
     "output_type": "stream",
     "text": [
      "The probability of sent8_1 being sarcastic is 2.761 percent\n"
     ]
    }
   ],
   "source": [
    "# Case 2 : Non-Sarcastic statement \n",
    "sent8_1 = \"guess you have not heard malaysian or filipino english.\"           # passing a value from comment column\n",
    "sent8_1 = tokenizer.texts_to_sequences([sent8_1])\n",
    "sent8_1 = pad_sequences(sent8_1, maxlen = max_length)\n",
    "\n",
    "prediction = concat_lstm_model.predict(sent8_1)\n",
    "print(\"The probability of sent8_1 being sarcastic is %.3f percent\"%(prediction[0][0]*100))"
   ]
  },
  {
   "cell_type": "code",
   "execution_count": 113,
   "metadata": {},
   "outputs": [
    {
     "name": "stdout",
     "output_type": "stream",
     "text": [
      "The probability of sent9 being sarcastic is 2.882 percent\n"
     ]
    }
   ],
   "source": [
    "# Case 3 : Sarcastic statement \n",
    "sent9 = \"5s teams and 3s teams names are swapped with each other\"           # passing a value from parent_comment column\n",
    "sent9 = tokenizer.texts_to_sequences([sent9])\n",
    "sent9 = pad_sequences(sent9, maxlen = max_length)\n",
    "\n",
    "prediction = concat_lstm_model.predict(sent9)\n",
    "print(\"The probability of sent9 being sarcastic is %.3f percent\"%(prediction[0][0]*100))"
   ]
  },
  {
   "cell_type": "code",
   "execution_count": 114,
   "metadata": {},
   "outputs": [
    {
     "name": "stdout",
     "output_type": "stream",
     "text": [
      "The probability of sent9_1 being sarcastic is 2.888 percent\n"
     ]
    }
   ],
   "source": [
    "# Case 3 : Sarcastic statement \n",
    "sent9_1 = \"not even riot cares about ranked teams\"           # passing a value from comment column\n",
    "sent9_1 = tokenizer.texts_to_sequences([sent9_1])\n",
    "sent9_1 = pad_sequences(sent9_1, maxlen = max_length)\n",
    "\n",
    "prediction = concat_lstm_model.predict(sent9_1)\n",
    "print(\"The probability of sent9_1 being sarcastic is %.3f percent\"%(prediction[0][0]*100))"
   ]
  },
  {
   "cell_type": "code",
   "execution_count": 115,
   "metadata": {},
   "outputs": [
    {
     "name": "stdout",
     "output_type": "stream",
     "text": [
      "79/79 [==============================] - 22s 284ms/step - loss: 1.9135 - accuracy: 0.4411\n",
      "test_loss: 1.9134784936904907 test_accuracy: 0.44110000133514404\n"
     ]
    }
   ],
   "source": [
    "concat_lstm_results = concat_lstm_model.evaluate(concat_padded_test_data, concat_test_label, batch_size=128)\n",
    "print('test_loss:', concat_lstm_results[0], 'test_accuracy:', concat_lstm_results[1])"
   ]
  }
 ],
 "metadata": {
  "colab": {
   "name": "LSTM.ipynb",
   "provenance": []
  },
  "kernelspec": {
   "display_name": "Python 3 (ipykernel)",
   "language": "python",
   "name": "python3"
  },
  "language_info": {
   "codemirror_mode": {
    "name": "ipython",
    "version": 3
   },
   "file_extension": ".py",
   "mimetype": "text/x-python",
   "name": "python",
   "nbconvert_exporter": "python",
   "pygments_lexer": "ipython3",
   "version": "3.9.7"
  }
 },
 "nbformat": 4,
 "nbformat_minor": 4
}
